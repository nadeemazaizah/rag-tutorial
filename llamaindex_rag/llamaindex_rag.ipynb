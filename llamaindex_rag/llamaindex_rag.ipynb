{
 "cells": [
  {
   "cell_type": "code",
   "execution_count": 1,
   "metadata": {},
   "outputs": [
    {
     "name": "stdout",
     "output_type": "stream",
     "text": [
      "resource module not available on Windows\n"
     ]
    },
    {
     "data": {
      "text/plain": [
       "True"
      ]
     },
     "execution_count": 1,
     "metadata": {},
     "output_type": "execute_result"
    }
   ],
   "source": [
    "import os\n",
    "from dotenv import load_dotenv\n",
    "\n",
    "from llama_index.llms.azure_openai import AzureOpenAI\n",
    "from llama_index.embeddings.azure_openai import AzureOpenAIEmbedding\n",
    "from llama_index.core import Settings\n",
    "from llama_index.core import VectorStoreIndex, SimpleDirectoryReader, StorageContext\n",
    "from llama_index.core.node_parser import TokenTextSplitter\n",
    "from llama_index.vector_stores.lancedb import LanceDBVectorStore\n",
    "from llama_index.core.query_engine import RetrieverQueryEngine\n",
    "from llama_index.core.retrievers import VectorIndexRetriever\n",
    "from llama_index.retrievers.bm25 import BM25Retriever\n",
    "from llama_index.core.node_parser import SentenceSplitter\n",
    "from llama_index.core.retrievers import QueryFusionRetriever\n",
    "from llama_index.core.response.notebook_utils import (\n",
    "    display_source_node,\n",
    "    display_response,\n",
    ")\n",
    "from llama_index.core.extractors import (\n",
    "    SummaryExtractor,\n",
    "    QuestionsAnsweredExtractor,\n",
    "    TitleExtractor,\n",
    "    KeywordExtractor,\n",
    ")\n",
    "from llama_index.extractors.entity import EntityExtractor\n",
    "from llama_index.core.ingestion import IngestionPipeline\n",
    "import Stemmer\n",
    "from IPython.display import Markdown, display\n",
    "from llama_index.llms.ollama import Ollama\n",
    "from llama_index.embeddings.ollama import OllamaEmbedding\n",
    "\n",
    "# apply nested async to run in a notebook\n",
    "import nest_asyncio\n",
    "\n",
    "nest_asyncio.apply()\n",
    "\n",
    "load_dotenv()"
   ]
  },
  {
   "cell_type": "markdown",
   "metadata": {},
   "source": [
    "Azure OpenAI LLM and Embedding connection:"
   ]
  },
  {
   "cell_type": "code",
   "execution_count": 8,
   "metadata": {},
   "outputs": [],
   "source": [
    "llm = AzureOpenAI(\n",
    "    engine=os.getenv(\"AZURE_OPENAI_LLM_DEPLOYMENT\"),\n",
    "    model=os.getenv(\"AZURE_OPENAI_LLM_DEPLOYMENT\"),\n",
    "    azure_endpoint=os.getenv(\"AZURE_OPENAI_ENDPOINT\"),\n",
    "    api_key=os.getenv(\"AZURE_OPENAI_API_KEY\"),\n",
    "    api_version=os.getenv(\"AZURE_OPENAI_LLM_API_VERSION\"),\n",
    ")\n",
    "\n",
    "\n",
    "embed_model = AzureOpenAIEmbedding(\n",
    "    model=os.getenv(\"AZURE_OPENAI_EMBEDDING_DEPLOYMENT\"),\n",
    "    deployment_name=os.getenv(\"AZURE_OPENAI_EMBEDDING_DEPLOYMENT\"),\n",
    "    api_key=os.getenv(\"AZURE_OPENAI_API_KEY\"),\n",
    "    azure_endpoint=os.getenv(\"AZURE_OPENAI_ENDPOINT\"),\n",
    "    api_version=os.getenv(\"AZURE_OPENAI_EMBEDDING_API_VERSION\"),\n",
    ")\n",
    "\n",
    "\n",
    "Settings.llm = llm\n",
    "Settings.embed_model = embed_model"
   ]
  },
  {
   "cell_type": "markdown",
   "metadata": {},
   "source": [
    "Ollama for open source LLM and Embedding models:"
   ]
  },
  {
   "cell_type": "code",
   "execution_count": null,
   "metadata": {},
   "outputs": [],
   "source": [
    "# ollama_llm = Ollama(model=\"deepseek-r1:7b\", request_timeout=600.0)\n",
    "\n",
    "# ollama_embed_model = OllamaEmbedding(\n",
    "#     model_name=\"nomic-embed-text:latest\",\n",
    "#     base_url=\"http://localhost:11434\"\n",
    "# )\n",
    "\n",
    "# Settings.llm = ollama_llm\n",
    "# Settings.embed_model = ollama_embed_model"
   ]
  },
  {
   "cell_type": "code",
   "execution_count": null,
   "metadata": {},
   "outputs": [],
   "source": [
    "# pass_embedding = embed_model.get_text_embedding_batch(\n",
    "#     [\"This is a passage!\", \"This is another passage\"], show_progress=True\n",
    "# )\n",
    "# print(pass_embedding)\n",
    "# print(len(pass_embedding[0]))"
   ]
  },
  {
   "cell_type": "markdown",
   "metadata": {},
   "source": [
    "Load pdf file/s from data folder:"
   ]
  },
  {
   "cell_type": "code",
   "execution_count": 2,
   "metadata": {},
   "outputs": [
    {
     "name": "stdout",
     "output_type": "stream",
     "text": [
      "22\n"
     ]
    }
   ],
   "source": [
    "profiles_folder = \"../data\"\n",
    "documents = SimpleDirectoryReader(profiles_folder).load_data()\n",
    "print(len(documents))"
   ]
  },
  {
   "cell_type": "markdown",
   "metadata": {},
   "source": [
    "Split text by sentence"
   ]
  },
  {
   "cell_type": "code",
   "execution_count": 3,
   "metadata": {},
   "outputs": [
    {
     "name": "stdout",
     "output_type": "stream",
     "text": [
      "52\n"
     ]
    },
    {
     "data": {
      "text/plain": [
       "[TextNode(id_='922c0d5e-47e2-4c6c-98c7-3ffba9d9cab7', embedding=None, metadata={'page_label': '1', 'file_name': 'deepseek-r1-paper.pdf', 'file_path': 'c:\\\\Users\\\\nazaizah\\\\OneDrive\\\\PycharmProjects\\\\rag-tutorial\\\\data\\\\deepseek-r1-paper.pdf', 'file_type': 'application/pdf', 'file_size': 1312189, 'creation_date': '2025-02-02', 'last_modified_date': '2025-02-02'}, excluded_embed_metadata_keys=['file_name', 'file_type', 'file_size', 'creation_date', 'last_modified_date', 'last_accessed_date'], excluded_llm_metadata_keys=['file_name', 'file_type', 'file_size', 'creation_date', 'last_modified_date', 'last_accessed_date'], relationships={<NodeRelationship.SOURCE: '1'>: RelatedNodeInfo(node_id='660d5ed4-4949-419a-899d-77648500acdd', node_type=<ObjectType.DOCUMENT: '4'>, metadata={'page_label': '1', 'file_name': 'deepseek-r1-paper.pdf', 'file_path': 'c:\\\\Users\\\\nazaizah\\\\OneDrive\\\\PycharmProjects\\\\rag-tutorial\\\\data\\\\deepseek-r1-paper.pdf', 'file_type': 'application/pdf', 'file_size': 1312189, 'creation_date': '2025-02-02', 'last_modified_date': '2025-02-02'}, hash='32a8be2bbd694232a8ee4043424295f5f740e953df93f4812984e33c58459eab'), <NodeRelationship.NEXT: '3'>: RelatedNodeInfo(node_id='1e707448-d5cc-4a1d-8581-9ec9a99b0618', node_type=<ObjectType.TEXT: '1'>, metadata={}, hash='9f70bb8ce5c3d2efc1c3e8474147c9a120290a71da769d7a0b593228fb926f22')}, metadata_template='{key}: {value}', metadata_separator='\\n', text='DeepSeek-R1: Incentivizing Reasoning Capability in LLMs via\\nReinforcement Learning\\nDeepSeek-AI\\nresearch@deepseek.com\\nAbstract\\nWe introduce our first-generation reasoning models, DeepSeek-R1-Zero and DeepSeek-R1.\\nDeepSeek-R1-Zero, a model trained via large-scale reinforcement learning (RL) without super-\\nvised fine-tuning (SFT) as a preliminary step, demonstrates remarkable reasoning capabilities.\\nThrough RL, DeepSeek-R1-Zero naturally emerges with numerous powerful and intriguing\\nreasoning behaviors. However, it encounters challenges such as poor readability, and language\\nmixing. To address these issues and further enhance reasoning performance, we introduce\\nDeepSeek-R1, which incorporates multi-stage training and cold-start data before RL. DeepSeek-\\nR1 achieves performance comparable to OpenAI-o1-1217 on reasoning tasks. To support the\\nresearch community, we open-source DeepSeek-R1-Zero, DeepSeek-R1, and six dense models\\n(1.5B, 7B, 8B, 14B, 32B, 70B) distilled from DeepSeek-R1 based on Qwen and Llama.', mimetype='text/plain', start_char_idx=0, end_char_idx=1017, metadata_seperator='\\n', text_template='{metadata_str}\\n\\n{content}'),\n",
       " TextNode(id_='1e707448-d5cc-4a1d-8581-9ec9a99b0618', embedding=None, metadata={'page_label': '1', 'file_name': 'deepseek-r1-paper.pdf', 'file_path': 'c:\\\\Users\\\\nazaizah\\\\OneDrive\\\\PycharmProjects\\\\rag-tutorial\\\\data\\\\deepseek-r1-paper.pdf', 'file_type': 'application/pdf', 'file_size': 1312189, 'creation_date': '2025-02-02', 'last_modified_date': '2025-02-02'}, excluded_embed_metadata_keys=['file_name', 'file_type', 'file_size', 'creation_date', 'last_modified_date', 'last_accessed_date'], excluded_llm_metadata_keys=['file_name', 'file_type', 'file_size', 'creation_date', 'last_modified_date', 'last_accessed_date'], relationships={<NodeRelationship.SOURCE: '1'>: RelatedNodeInfo(node_id='660d5ed4-4949-419a-899d-77648500acdd', node_type=<ObjectType.DOCUMENT: '4'>, metadata={'page_label': '1', 'file_name': 'deepseek-r1-paper.pdf', 'file_path': 'c:\\\\Users\\\\nazaizah\\\\OneDrive\\\\PycharmProjects\\\\rag-tutorial\\\\data\\\\deepseek-r1-paper.pdf', 'file_type': 'application/pdf', 'file_size': 1312189, 'creation_date': '2025-02-02', 'last_modified_date': '2025-02-02'}, hash='32a8be2bbd694232a8ee4043424295f5f740e953df93f4812984e33c58459eab'), <NodeRelationship.PREVIOUS: '2'>: RelatedNodeInfo(node_id='922c0d5e-47e2-4c6c-98c7-3ffba9d9cab7', node_type=<ObjectType.TEXT: '1'>, metadata={'page_label': '1', 'file_name': 'deepseek-r1-paper.pdf', 'file_path': 'c:\\\\Users\\\\nazaizah\\\\OneDrive\\\\PycharmProjects\\\\rag-tutorial\\\\data\\\\deepseek-r1-paper.pdf', 'file_type': 'application/pdf', 'file_size': 1312189, 'creation_date': '2025-02-02', 'last_modified_date': '2025-02-02'}, hash='62aff52d6f2db1074f692a69ce32af6ae5da146daef2a7c60a06c18e8f917b73')}, metadata_template='{key}: {value}', metadata_separator='\\n', text='AIME 2024\\n(Pass@1)\\nCodeforces\\n(Percentile)\\nGPQA Diamond\\n(Pass@1)\\nMATH-500\\n(Pass@1)\\nMMLU\\n(Pass@1)\\nSWE-bench Verified\\n(Resolved)\\n0\\n20\\n40\\n60\\n80\\n100Accuracy / Percentile (%)\\n79.8\\n96.3\\n71.5\\n97.3\\n90.8\\n49.2\\n79.2\\n96.6\\n75.7\\n96.4\\n91.8\\n48.9\\n72.6\\n90.6\\n62.1\\n94.3\\n87.4\\n36.8\\n63.6\\n93.4\\n60.0\\n90.0\\n85.2\\n41.6\\n39.2\\n58.7 59.1\\n90.2\\n88.5\\n42.0\\nDeepSeek-R1 OpenAI-o1-1217 DeepSeek-R1-32B OpenAI-o1-mini DeepSeek-V3\\nFigure 1 |Benchmark performance of DeepSeek-R1.\\narXiv:2501.12948v1  [cs.CL]  22 Jan 2025', mimetype='text/plain', start_char_idx=1018, end_char_idx=1496, metadata_seperator='\\n', text_template='{metadata_str}\\n\\n{content}'),\n",
       " TextNode(id_='5014057a-850a-4d23-8351-7543ab8b4c64', embedding=None, metadata={'page_label': '2', 'file_name': 'deepseek-r1-paper.pdf', 'file_path': 'c:\\\\Users\\\\nazaizah\\\\OneDrive\\\\PycharmProjects\\\\rag-tutorial\\\\data\\\\deepseek-r1-paper.pdf', 'file_type': 'application/pdf', 'file_size': 1312189, 'creation_date': '2025-02-02', 'last_modified_date': '2025-02-02'}, excluded_embed_metadata_keys=['file_name', 'file_type', 'file_size', 'creation_date', 'last_modified_date', 'last_accessed_date'], excluded_llm_metadata_keys=['file_name', 'file_type', 'file_size', 'creation_date', 'last_modified_date', 'last_accessed_date'], relationships={<NodeRelationship.SOURCE: '1'>: RelatedNodeInfo(node_id='6bd7da22-5b5f-41e4-b223-b001ba856054', node_type=<ObjectType.DOCUMENT: '4'>, metadata={'page_label': '2', 'file_name': 'deepseek-r1-paper.pdf', 'file_path': 'c:\\\\Users\\\\nazaizah\\\\OneDrive\\\\PycharmProjects\\\\rag-tutorial\\\\data\\\\deepseek-r1-paper.pdf', 'file_type': 'application/pdf', 'file_size': 1312189, 'creation_date': '2025-02-02', 'last_modified_date': '2025-02-02'}, hash='c43657940fb0fd02a9af668c26aded88e26c2a9244abc3e4e03cce163e0a42f4'), <NodeRelationship.NEXT: '3'>: RelatedNodeInfo(node_id='3c1a7165-18d0-4ce6-ae83-a3784ca34ad8', node_type=<ObjectType.TEXT: '1'>, metadata={}, hash='913f32b32907aeeae2bd0e9b0851d629d29dc4fa1cb85568ea638e15ab41e4a4')}, metadata_template='{key}: {value}', metadata_separator='\\n', text='Contents\\n1 Introduction 3\\n1.1 Contributions . . . . . . . . . . . . . . . . . . . . . . . . . . . . . . . . . . . . . . . 4\\n1.2 Summary of Evaluation Results . . . . . . . . . . . . . . . . . . . . . . . . . . . . . 4\\n2 Approach 5\\n2.1 Overview . . . . . . . . . . . . . . . . . . . . . . . . . . . . . . . . . . . . . . . . . . 5\\n2.2 DeepSeek-R1-Zero: Reinforcement Learning on the Base Model . . . . . . . . . . 5\\n2.2.1 Reinforcement Learning Algorithm . . . . . . . . . . . . . . . . . . . . . . 5\\n2.2.2 Reward Modeling . . . . . . . . . . . . . . . . . . . . . . . . . . . . . . . . 6\\n2.2.3 Training Template . . . . . . . . . . . . . . . . . . .', mimetype='text/plain', start_char_idx=0, end_char_idx=649, metadata_seperator='\\n', text_template='{metadata_str}\\n\\n{content}'),\n",
       " TextNode(id_='3c1a7165-18d0-4ce6-ae83-a3784ca34ad8', embedding=None, metadata={'page_label': '2', 'file_name': 'deepseek-r1-paper.pdf', 'file_path': 'c:\\\\Users\\\\nazaizah\\\\OneDrive\\\\PycharmProjects\\\\rag-tutorial\\\\data\\\\deepseek-r1-paper.pdf', 'file_type': 'application/pdf', 'file_size': 1312189, 'creation_date': '2025-02-02', 'last_modified_date': '2025-02-02'}, excluded_embed_metadata_keys=['file_name', 'file_type', 'file_size', 'creation_date', 'last_modified_date', 'last_accessed_date'], excluded_llm_metadata_keys=['file_name', 'file_type', 'file_size', 'creation_date', 'last_modified_date', 'last_accessed_date'], relationships={<NodeRelationship.SOURCE: '1'>: RelatedNodeInfo(node_id='6bd7da22-5b5f-41e4-b223-b001ba856054', node_type=<ObjectType.DOCUMENT: '4'>, metadata={'page_label': '2', 'file_name': 'deepseek-r1-paper.pdf', 'file_path': 'c:\\\\Users\\\\nazaizah\\\\OneDrive\\\\PycharmProjects\\\\rag-tutorial\\\\data\\\\deepseek-r1-paper.pdf', 'file_type': 'application/pdf', 'file_size': 1312189, 'creation_date': '2025-02-02', 'last_modified_date': '2025-02-02'}, hash='c43657940fb0fd02a9af668c26aded88e26c2a9244abc3e4e03cce163e0a42f4'), <NodeRelationship.PREVIOUS: '2'>: RelatedNodeInfo(node_id='5014057a-850a-4d23-8351-7543ab8b4c64', node_type=<ObjectType.TEXT: '1'>, metadata={'page_label': '2', 'file_name': 'deepseek-r1-paper.pdf', 'file_path': 'c:\\\\Users\\\\nazaizah\\\\OneDrive\\\\PycharmProjects\\\\rag-tutorial\\\\data\\\\deepseek-r1-paper.pdf', 'file_type': 'application/pdf', 'file_size': 1312189, 'creation_date': '2025-02-02', 'last_modified_date': '2025-02-02'}, hash='4f1bf4196ef7e199d052486d9e61b087229480ac3018ead54201829ff43f2a90'), <NodeRelationship.NEXT: '3'>: RelatedNodeInfo(node_id='947d1149-bd0f-4ead-9f84-58078edec4d6', node_type=<ObjectType.TEXT: '1'>, metadata={}, hash='9bafde1348d1493e092e5ae2004bb792eda97f11b4b181cd405b33b494e17ae5')}, metadata_template='{key}: {value}', metadata_separator='\\n', text='. 6\\n2.2.3 Training Template . . . . . . . . . . . . . . . . . . . . . . . . . . . . . . . . 6\\n2.2.4 Performance, Self-evolution Process and Aha Moment of DeepSeek-R1-Zero 6\\n2.3 DeepSeek-R1: Reinforcement Learning with Cold Start . . . . . . . . . . . . . . . 9\\n2.3.1 Cold Start . . . . . . . . . . . . . . . . . . . . . . . . . . . . . . . . . . . . . 9\\n2.3.2 Reasoning-oriented Reinforcement Learning . . . . . . . . . . . . . . . . . 10\\n2.3.3 Rejection Sampling and Supervised Fine-Tuning . . . . . . . . . . . . . . . 10\\n2.3.4 Reinforcement Learning for all Scenarios . . . . . . . . . . . . . . . . . . . 11\\n2.4 Distillation: Empower Small Models with Reasoning Capability . . . . . . . . . . 11\\n3 Experiment 11\\n3.1 DeepSeek-R1 Evaluation . . . . . . . . . . . . . . . . . . . .', mimetype='text/plain', start_char_idx=584, end_char_idx=1366, metadata_seperator='\\n', text_template='{metadata_str}\\n\\n{content}'),\n",
       " TextNode(id_='947d1149-bd0f-4ead-9f84-58078edec4d6', embedding=None, metadata={'page_label': '2', 'file_name': 'deepseek-r1-paper.pdf', 'file_path': 'c:\\\\Users\\\\nazaizah\\\\OneDrive\\\\PycharmProjects\\\\rag-tutorial\\\\data\\\\deepseek-r1-paper.pdf', 'file_type': 'application/pdf', 'file_size': 1312189, 'creation_date': '2025-02-02', 'last_modified_date': '2025-02-02'}, excluded_embed_metadata_keys=['file_name', 'file_type', 'file_size', 'creation_date', 'last_modified_date', 'last_accessed_date'], excluded_llm_metadata_keys=['file_name', 'file_type', 'file_size', 'creation_date', 'last_modified_date', 'last_accessed_date'], relationships={<NodeRelationship.SOURCE: '1'>: RelatedNodeInfo(node_id='6bd7da22-5b5f-41e4-b223-b001ba856054', node_type=<ObjectType.DOCUMENT: '4'>, metadata={'page_label': '2', 'file_name': 'deepseek-r1-paper.pdf', 'file_path': 'c:\\\\Users\\\\nazaizah\\\\OneDrive\\\\PycharmProjects\\\\rag-tutorial\\\\data\\\\deepseek-r1-paper.pdf', 'file_type': 'application/pdf', 'file_size': 1312189, 'creation_date': '2025-02-02', 'last_modified_date': '2025-02-02'}, hash='c43657940fb0fd02a9af668c26aded88e26c2a9244abc3e4e03cce163e0a42f4'), <NodeRelationship.PREVIOUS: '2'>: RelatedNodeInfo(node_id='3c1a7165-18d0-4ce6-ae83-a3784ca34ad8', node_type=<ObjectType.TEXT: '1'>, metadata={'page_label': '2', 'file_name': 'deepseek-r1-paper.pdf', 'file_path': 'c:\\\\Users\\\\nazaizah\\\\OneDrive\\\\PycharmProjects\\\\rag-tutorial\\\\data\\\\deepseek-r1-paper.pdf', 'file_type': 'application/pdf', 'file_size': 1312189, 'creation_date': '2025-02-02', 'last_modified_date': '2025-02-02'}, hash='b5e018d7d456fec3e3d8d33d86c2e80490da8f70e30df8d4843ff83bf061e82c')}, metadata_template='{key}: {value}', metadata_separator='\\n', text='. . . . . . . . . . . . . . . . . . . . . . . . . . . . . . . . 13\\n3.2 Distilled Model Evaluation . . . . . . . . . . . . . . . . . . . . . . . . . . . . . . . 14\\n4 Discussion 14\\n4.1 Distillation v.s. Reinforcement Learning . . . . . . . . . . . . . . . . . . . . . . . . 14\\n4.2 Unsuccessful Attempts . . . . . . . . . . . . . . . . . . . . . . . . . . . . . . . . . . 15\\n5 Conclusion, Limitations, and Future Work 16\\nA Contributions and Acknowledgments 20\\n2', mimetype='text/plain', start_char_idx=1329, end_char_idx=1787, metadata_seperator='\\n', text_template='{metadata_str}\\n\\n{content}'),\n",
       " TextNode(id_='50c7ace4-b461-46a6-9c18-04efb08b60b9', embedding=None, metadata={'page_label': '3', 'file_name': 'deepseek-r1-paper.pdf', 'file_path': 'c:\\\\Users\\\\nazaizah\\\\OneDrive\\\\PycharmProjects\\\\rag-tutorial\\\\data\\\\deepseek-r1-paper.pdf', 'file_type': 'application/pdf', 'file_size': 1312189, 'creation_date': '2025-02-02', 'last_modified_date': '2025-02-02'}, excluded_embed_metadata_keys=['file_name', 'file_type', 'file_size', 'creation_date', 'last_modified_date', 'last_accessed_date'], excluded_llm_metadata_keys=['file_name', 'file_type', 'file_size', 'creation_date', 'last_modified_date', 'last_accessed_date'], relationships={<NodeRelationship.SOURCE: '1'>: RelatedNodeInfo(node_id='5663bf87-e4a6-4c9a-81ee-aa9babd72ad0', node_type=<ObjectType.DOCUMENT: '4'>, metadata={'page_label': '3', 'file_name': 'deepseek-r1-paper.pdf', 'file_path': 'c:\\\\Users\\\\nazaizah\\\\OneDrive\\\\PycharmProjects\\\\rag-tutorial\\\\data\\\\deepseek-r1-paper.pdf', 'file_type': 'application/pdf', 'file_size': 1312189, 'creation_date': '2025-02-02', 'last_modified_date': '2025-02-02'}, hash='ba906440e3660b9f78b07f5af9e7814eb94a8c81c17e438b4aa9e1e8c5fa8eaa'), <NodeRelationship.NEXT: '3'>: RelatedNodeInfo(node_id='25130806-43f6-48ff-8d65-c85a57dca302', node_type=<ObjectType.TEXT: '1'>, metadata={}, hash='b5a5eb4cef7a9e07fa5a779badb0c3fe837716acb5d73b4998aca718fb60cf88')}, metadata_template='{key}: {value}', metadata_separator='\\n', text='1. Introduction\\nIn recent years, Large Language Models (LLMs) have been undergoing rapid iteration and\\nevolution (Anthropic, 2024; Google, 2024; OpenAI, 2024a), progressively diminishing the gap\\ntowards Artificial General Intelligence (AGI).\\nRecently, post-training has emerged as an important component of the full training pipeline.\\nIt has been shown to enhance accuracy on reasoning tasks, align with social values, and adapt\\nto user preferences, all while requiring relatively minimal computational resources against\\npre-training. In the context of reasoning capabilities, OpenAI’s o1 (OpenAI, 2024b) series models\\nwere the first to introduce inference-time scaling by increasing the length of the Chain-of-\\nThought reasoning process. This approach has achieved significant improvements in various\\nreasoning tasks, such as mathematics, coding, and scientific reasoning. However, the challenge\\nof effective test-time scaling remains an open question for the research community. Several prior\\nworks have explored various approaches, including process-based reward models (Lightman\\net al., 2023; Uesato et al., 2022; Wang et al., 2023), reinforcement learning (Kumar et al., 2024),\\nand search algorithms such as Monte Carlo Tree Search and Beam Search (Feng et al., 2024; Trinh\\net al., 2024; Xin et al., 2024). However, none of these methods has achieved general reasoning\\nperformance comparable to OpenAI’s o1 series models.\\nIn this paper, we take the first step toward improving language model reasoning capabilities\\nusing pure reinforcement learning (RL). Our goal is to explore the potential of LLMs to develop\\nreasoning capabilities without any supervised data, focusing on their self-evolution through\\na pure RL process. Specifically, we use DeepSeek-V3-Base as the base model and employ\\nGRPO (Shao et al., 2024) as the RL framework to improve model performance in reasoning.\\nDuring training, DeepSeek-R1-Zero naturally emerged with numerous powerful and interesting\\nreasoning behaviors. After thousands of RL steps, DeepSeek-R1-Zero exhibits super performance\\non reasoning benchmarks.', mimetype='text/plain', start_char_idx=0, end_char_idx=2092, metadata_seperator='\\n', text_template='{metadata_str}\\n\\n{content}'),\n",
       " TextNode(id_='25130806-43f6-48ff-8d65-c85a57dca302', embedding=None, metadata={'page_label': '3', 'file_name': 'deepseek-r1-paper.pdf', 'file_path': 'c:\\\\Users\\\\nazaizah\\\\OneDrive\\\\PycharmProjects\\\\rag-tutorial\\\\data\\\\deepseek-r1-paper.pdf', 'file_type': 'application/pdf', 'file_size': 1312189, 'creation_date': '2025-02-02', 'last_modified_date': '2025-02-02'}, excluded_embed_metadata_keys=['file_name', 'file_type', 'file_size', 'creation_date', 'last_modified_date', 'last_accessed_date'], excluded_llm_metadata_keys=['file_name', 'file_type', 'file_size', 'creation_date', 'last_modified_date', 'last_accessed_date'], relationships={<NodeRelationship.SOURCE: '1'>: RelatedNodeInfo(node_id='5663bf87-e4a6-4c9a-81ee-aa9babd72ad0', node_type=<ObjectType.DOCUMENT: '4'>, metadata={'page_label': '3', 'file_name': 'deepseek-r1-paper.pdf', 'file_path': 'c:\\\\Users\\\\nazaizah\\\\OneDrive\\\\PycharmProjects\\\\rag-tutorial\\\\data\\\\deepseek-r1-paper.pdf', 'file_type': 'application/pdf', 'file_size': 1312189, 'creation_date': '2025-02-02', 'last_modified_date': '2025-02-02'}, hash='ba906440e3660b9f78b07f5af9e7814eb94a8c81c17e438b4aa9e1e8c5fa8eaa'), <NodeRelationship.PREVIOUS: '2'>: RelatedNodeInfo(node_id='50c7ace4-b461-46a6-9c18-04efb08b60b9', node_type=<ObjectType.TEXT: '1'>, metadata={'page_label': '3', 'file_name': 'deepseek-r1-paper.pdf', 'file_path': 'c:\\\\Users\\\\nazaizah\\\\OneDrive\\\\PycharmProjects\\\\rag-tutorial\\\\data\\\\deepseek-r1-paper.pdf', 'file_type': 'application/pdf', 'file_size': 1312189, 'creation_date': '2025-02-02', 'last_modified_date': '2025-02-02'}, hash='f1dd05cc3319c87b50086cd32c9b3109d7dd9fd8882a99fefd45a590f522b45b'), <NodeRelationship.NEXT: '3'>: RelatedNodeInfo(node_id='d38fcf9f-3346-4f40-82c7-b30489b92876', node_type=<ObjectType.TEXT: '1'>, metadata={}, hash='3aa39a576851bf7404c0c2c4c42d1884870462d08ab153c73dcee474b5fbc0bd')}, metadata_template='{key}: {value}', metadata_separator='\\n', text='During training, DeepSeek-R1-Zero naturally emerged with numerous powerful and interesting\\nreasoning behaviors. After thousands of RL steps, DeepSeek-R1-Zero exhibits super performance\\non reasoning benchmarks. For instance, the pass@1 score on AIME 2024 increases from 15.6% to\\n71.0%, and with majority voting, the score further improves to 86.7%, matching the performance\\nof OpenAI-o1-0912.\\nHowever, DeepSeek-R1-Zero encounters challenges such as poor readability, and language\\nmixing. To address these issues and further enhance reasoning performance, we introduce\\nDeepSeek-R1, which incorporates a small amount of cold-start data and a multi-stage training\\npipeline. Specifically, we begin by collecting thousands of cold-start data to fine-tune the\\nDeepSeek-V3-Base model. Following this, we perform reasoning-oriented RL like DeepSeek-R1-\\nZero. Upon nearing convergence in the RL process, we create new SFT data through rejection\\nsampling on the RL checkpoint, combined with supervised data from DeepSeek-V3 in domains\\nsuch as writing, factual QA, and self-cognition, and then retrain the DeepSeek-V3-Base model.\\nAfter fine-tuning with the new data, the checkpoint undergoes an additional RL process, taking\\ninto account prompts from all scenarios. After these steps, we obtained a checkpoint referred to\\nas DeepSeek-R1, which achieves performance on par with OpenAI-o1-1217.\\nWe further explore distillation from DeepSeek-R1 to smaller dense models. Using Qwen2.5-\\n32B (Qwen, 2024b) as the base model, direct distillation from DeepSeek-R1 outperforms applying\\nRL on it. This demonstrates that the reasoning patterns discovered by larger base models are cru-\\ncial for improving reasoning capabilities. We open-source the distilled Qwen and Llama (Dubey\\net al., 2024) series.', mimetype='text/plain', start_char_idx=1883, end_char_idx=3661, metadata_seperator='\\n', text_template='{metadata_str}\\n\\n{content}'),\n",
       " TextNode(id_='d38fcf9f-3346-4f40-82c7-b30489b92876', embedding=None, metadata={'page_label': '3', 'file_name': 'deepseek-r1-paper.pdf', 'file_path': 'c:\\\\Users\\\\nazaizah\\\\OneDrive\\\\PycharmProjects\\\\rag-tutorial\\\\data\\\\deepseek-r1-paper.pdf', 'file_type': 'application/pdf', 'file_size': 1312189, 'creation_date': '2025-02-02', 'last_modified_date': '2025-02-02'}, excluded_embed_metadata_keys=['file_name', 'file_type', 'file_size', 'creation_date', 'last_modified_date', 'last_accessed_date'], excluded_llm_metadata_keys=['file_name', 'file_type', 'file_size', 'creation_date', 'last_modified_date', 'last_accessed_date'], relationships={<NodeRelationship.SOURCE: '1'>: RelatedNodeInfo(node_id='5663bf87-e4a6-4c9a-81ee-aa9babd72ad0', node_type=<ObjectType.DOCUMENT: '4'>, metadata={'page_label': '3', 'file_name': 'deepseek-r1-paper.pdf', 'file_path': 'c:\\\\Users\\\\nazaizah\\\\OneDrive\\\\PycharmProjects\\\\rag-tutorial\\\\data\\\\deepseek-r1-paper.pdf', 'file_type': 'application/pdf', 'file_size': 1312189, 'creation_date': '2025-02-02', 'last_modified_date': '2025-02-02'}, hash='ba906440e3660b9f78b07f5af9e7814eb94a8c81c17e438b4aa9e1e8c5fa8eaa'), <NodeRelationship.PREVIOUS: '2'>: RelatedNodeInfo(node_id='25130806-43f6-48ff-8d65-c85a57dca302', node_type=<ObjectType.TEXT: '1'>, metadata={'page_label': '3', 'file_name': 'deepseek-r1-paper.pdf', 'file_path': 'c:\\\\Users\\\\nazaizah\\\\OneDrive\\\\PycharmProjects\\\\rag-tutorial\\\\data\\\\deepseek-r1-paper.pdf', 'file_type': 'application/pdf', 'file_size': 1312189, 'creation_date': '2025-02-02', 'last_modified_date': '2025-02-02'}, hash='88330e3f0750a96176e2458bb68ce47ab32e17ac37ee44f17377e8eae3a0c5f5')}, metadata_template='{key}: {value}', metadata_separator='\\n', text='This demonstrates that the reasoning patterns discovered by larger base models are cru-\\ncial for improving reasoning capabilities. We open-source the distilled Qwen and Llama (Dubey\\net al., 2024) series. Notably, our distilled 14B model outperforms state-of-the-art open-source\\nQwQ-32B-Preview (Qwen, 2024a) by a large margin, and the distilled 32B and 70B models set a\\nnew record on the reasoning benchmarks among dense models.\\n3', mimetype='text/plain', start_char_idx=3458, end_char_idx=3888, metadata_seperator='\\n', text_template='{metadata_str}\\n\\n{content}'),\n",
       " TextNode(id_='287e3fff-c1ac-473f-b040-e3d816d9e7f6', embedding=None, metadata={'page_label': '4', 'file_name': 'deepseek-r1-paper.pdf', 'file_path': 'c:\\\\Users\\\\nazaizah\\\\OneDrive\\\\PycharmProjects\\\\rag-tutorial\\\\data\\\\deepseek-r1-paper.pdf', 'file_type': 'application/pdf', 'file_size': 1312189, 'creation_date': '2025-02-02', 'last_modified_date': '2025-02-02'}, excluded_embed_metadata_keys=['file_name', 'file_type', 'file_size', 'creation_date', 'last_modified_date', 'last_accessed_date'], excluded_llm_metadata_keys=['file_name', 'file_type', 'file_size', 'creation_date', 'last_modified_date', 'last_accessed_date'], relationships={<NodeRelationship.SOURCE: '1'>: RelatedNodeInfo(node_id='c69841c7-a273-47dd-a7ae-f9c2304a1068', node_type=<ObjectType.DOCUMENT: '4'>, metadata={'page_label': '4', 'file_name': 'deepseek-r1-paper.pdf', 'file_path': 'c:\\\\Users\\\\nazaizah\\\\OneDrive\\\\PycharmProjects\\\\rag-tutorial\\\\data\\\\deepseek-r1-paper.pdf', 'file_type': 'application/pdf', 'file_size': 1312189, 'creation_date': '2025-02-02', 'last_modified_date': '2025-02-02'}, hash='cf31beb58f6047dec7286fab279281e62be45e12286019adc9240207a0810907'), <NodeRelationship.NEXT: '3'>: RelatedNodeInfo(node_id='983b75e7-8afc-4dab-9aa2-b6a7683eb282', node_type=<ObjectType.TEXT: '1'>, metadata={}, hash='ad4de26954f7189ede2bf32212a7760c2fa61892ad7f1cb71dd94e8f5b9bab5c')}, metadata_template='{key}: {value}', metadata_separator='\\n', text='1.1. Contributions\\nPost-Training: Large-Scale Reinforcement Learning on the Base Model\\n• We directly apply RL to the base model without relying on supervised fine-tuning (SFT) as\\na preliminary step. This approach allows the model to explore chain-of-thought (CoT) for\\nsolving complex problems, resulting in the development of DeepSeek-R1-Zero. DeepSeek-\\nR1-Zero demonstrates capabilities such as self-verification, reflection, and generating\\nlong CoTs, marking a significant milestone for the research community. Notably, it is the\\nfirst open research to validate that reasoning capabilities of LLMs can be incentivized\\npurely through RL, without the need for SFT. This breakthrough paves the way for future\\nadvancements in this area.\\n• We introduce our pipeline to develop DeepSeek-R1. The pipeline incorporates two RL\\nstages aimed at discovering improved reasoning patterns and aligning with human pref-\\nerences, as well as two SFT stages that serve as the seed for the model’s reasoning and\\nnon-reasoning capabilities. We believe the pipeline will benefit the industry by creating\\nbetter models.\\nDistillation: Smaller Models Can Be Powerful Too\\n• We demonstrate that the reasoning patterns of larger models can be distilled into smaller\\nmodels, resulting in better performance compared to the reasoning patterns discovered\\nthrough RL on small models. The open source DeepSeek-R1, as well as its API, will benefit\\nthe research community to distill better smaller models in the future.\\n• Using the reasoning data generated by DeepSeek-R1, we fine-tuned several dense models\\nthat are widely used in the research community. The evaluation results demonstrate that\\nthe distilled smaller dense models perform exceptionally well on benchmarks. DeepSeek-\\nR1-Distill-Qwen-7B achieves 55.5% on AIME 2024, surpassing QwQ-32B-Preview.', mimetype='text/plain', start_char_idx=0, end_char_idx=1825, metadata_seperator='\\n', text_template='{metadata_str}\\n\\n{content}'),\n",
       " TextNode(id_='983b75e7-8afc-4dab-9aa2-b6a7683eb282', embedding=None, metadata={'page_label': '4', 'file_name': 'deepseek-r1-paper.pdf', 'file_path': 'c:\\\\Users\\\\nazaizah\\\\OneDrive\\\\PycharmProjects\\\\rag-tutorial\\\\data\\\\deepseek-r1-paper.pdf', 'file_type': 'application/pdf', 'file_size': 1312189, 'creation_date': '2025-02-02', 'last_modified_date': '2025-02-02'}, excluded_embed_metadata_keys=['file_name', 'file_type', 'file_size', 'creation_date', 'last_modified_date', 'last_accessed_date'], excluded_llm_metadata_keys=['file_name', 'file_type', 'file_size', 'creation_date', 'last_modified_date', 'last_accessed_date'], relationships={<NodeRelationship.SOURCE: '1'>: RelatedNodeInfo(node_id='c69841c7-a273-47dd-a7ae-f9c2304a1068', node_type=<ObjectType.DOCUMENT: '4'>, metadata={'page_label': '4', 'file_name': 'deepseek-r1-paper.pdf', 'file_path': 'c:\\\\Users\\\\nazaizah\\\\OneDrive\\\\PycharmProjects\\\\rag-tutorial\\\\data\\\\deepseek-r1-paper.pdf', 'file_type': 'application/pdf', 'file_size': 1312189, 'creation_date': '2025-02-02', 'last_modified_date': '2025-02-02'}, hash='cf31beb58f6047dec7286fab279281e62be45e12286019adc9240207a0810907'), <NodeRelationship.PREVIOUS: '2'>: RelatedNodeInfo(node_id='287e3fff-c1ac-473f-b040-e3d816d9e7f6', node_type=<ObjectType.TEXT: '1'>, metadata={'page_label': '4', 'file_name': 'deepseek-r1-paper.pdf', 'file_path': 'c:\\\\Users\\\\nazaizah\\\\OneDrive\\\\PycharmProjects\\\\rag-tutorial\\\\data\\\\deepseek-r1-paper.pdf', 'file_type': 'application/pdf', 'file_size': 1312189, 'creation_date': '2025-02-02', 'last_modified_date': '2025-02-02'}, hash='092ec5b15f971f2b0c0ca25c7e5aefce16ab277a59ad3451035b5e91853abd05'), <NodeRelationship.NEXT: '3'>: RelatedNodeInfo(node_id='44069a0d-3aaf-4818-a53c-2119cc965911', node_type=<ObjectType.TEXT: '1'>, metadata={}, hash='d76f86c804947efa3fb677927be03d2a53a4582c6cbbde4bfe73b09f2e45f729')}, metadata_template='{key}: {value}', metadata_separator='\\n', text='DeepSeek-\\nR1-Distill-Qwen-7B achieves 55.5% on AIME 2024, surpassing QwQ-32B-Preview. Addi-\\ntionally, DeepSeek-R1-Distill-Qwen-32B scores 72.6% on AIME 2024, 94.3% on MATH-500,\\nand 57.2% on LiveCodeBench. These results significantly outperform previous open-\\nsource models and are comparable to o1-mini. We open-source distilled 1.5B, 7B, 8B, 14B,\\n32B, and 70B checkpoints based on Qwen2.5 and Llama3 series to the community.\\n1.2. Summary of Evaluation Results\\n• Reasoning tasks: (1) DeepSeek-R1 achieves a score of 79.8% Pass@1 on AIME 2024, slightly\\nsurpassing OpenAI-o1-1217. On MATH-500, it attains an impressive score of 97.3%,\\nperforming on par with OpenAI-o1-1217 and significantly outperforming other models. (2)\\nOn coding-related tasks, DeepSeek-R1 demonstrates expert level in code competition tasks,\\nas it achieves 2,029 Elo rating on Codeforces outperforming 96.3% human participants in\\nthe competition. For engineering-related tasks, DeepSeek-R1 performs slightly better than\\nDeepSeek-V3, which could help developers in real world tasks.\\n• Knowledge: On benchmarks such as MMLU, MMLU-Pro, and GPQA Diamond, DeepSeek-\\nR1 achieves outstanding results, significantly outperforming DeepSeek-V3 with scores\\nof 90.8% on MMLU, 84.0% on MMLU-Pro, and 71.5% on GPQA Diamond. While its\\nperformance is slightly below that of OpenAI-o1-1217 on these benchmarks, DeepSeek-R1\\nsurpasses other closed-source models, demonstrating its competitive edge in educational\\ntasks.', mimetype='text/plain', start_char_idx=1740, end_char_idx=3209, metadata_seperator='\\n', text_template='{metadata_str}\\n\\n{content}'),\n",
       " TextNode(id_='44069a0d-3aaf-4818-a53c-2119cc965911', embedding=None, metadata={'page_label': '4', 'file_name': 'deepseek-r1-paper.pdf', 'file_path': 'c:\\\\Users\\\\nazaizah\\\\OneDrive\\\\PycharmProjects\\\\rag-tutorial\\\\data\\\\deepseek-r1-paper.pdf', 'file_type': 'application/pdf', 'file_size': 1312189, 'creation_date': '2025-02-02', 'last_modified_date': '2025-02-02'}, excluded_embed_metadata_keys=['file_name', 'file_type', 'file_size', 'creation_date', 'last_modified_date', 'last_accessed_date'], excluded_llm_metadata_keys=['file_name', 'file_type', 'file_size', 'creation_date', 'last_modified_date', 'last_accessed_date'], relationships={<NodeRelationship.SOURCE: '1'>: RelatedNodeInfo(node_id='c69841c7-a273-47dd-a7ae-f9c2304a1068', node_type=<ObjectType.DOCUMENT: '4'>, metadata={'page_label': '4', 'file_name': 'deepseek-r1-paper.pdf', 'file_path': 'c:\\\\Users\\\\nazaizah\\\\OneDrive\\\\PycharmProjects\\\\rag-tutorial\\\\data\\\\deepseek-r1-paper.pdf', 'file_type': 'application/pdf', 'file_size': 1312189, 'creation_date': '2025-02-02', 'last_modified_date': '2025-02-02'}, hash='cf31beb58f6047dec7286fab279281e62be45e12286019adc9240207a0810907'), <NodeRelationship.PREVIOUS: '2'>: RelatedNodeInfo(node_id='983b75e7-8afc-4dab-9aa2-b6a7683eb282', node_type=<ObjectType.TEXT: '1'>, metadata={'page_label': '4', 'file_name': 'deepseek-r1-paper.pdf', 'file_path': 'c:\\\\Users\\\\nazaizah\\\\OneDrive\\\\PycharmProjects\\\\rag-tutorial\\\\data\\\\deepseek-r1-paper.pdf', 'file_type': 'application/pdf', 'file_size': 1312189, 'creation_date': '2025-02-02', 'last_modified_date': '2025-02-02'}, hash='b9eed2967515b720d21525418258cc9c5e1f27bc17e4e8e3ca59596ff9116d02')}, metadata_template='{key}: {value}', metadata_separator='\\n', text='While its\\nperformance is slightly below that of OpenAI-o1-1217 on these benchmarks, DeepSeek-R1\\nsurpasses other closed-source models, demonstrating its competitive edge in educational\\ntasks. On the factual benchmark SimpleQA, DeepSeek-R1 outperforms DeepSeek-V3,\\ndemonstrating its capability in handling fact-based queries. A similar trend is observed\\nwhere OpenAI-o1 surpasses 4o on this benchmark.\\n4', mimetype='text/plain', start_char_idx=3019, end_char_idx=3420, metadata_seperator='\\n', text_template='{metadata_str}\\n\\n{content}'),\n",
       " TextNode(id_='b053e41f-1c8f-4c5c-8d21-6e76c81f8db2', embedding=None, metadata={'page_label': '5', 'file_name': 'deepseek-r1-paper.pdf', 'file_path': 'c:\\\\Users\\\\nazaizah\\\\OneDrive\\\\PycharmProjects\\\\rag-tutorial\\\\data\\\\deepseek-r1-paper.pdf', 'file_type': 'application/pdf', 'file_size': 1312189, 'creation_date': '2025-02-02', 'last_modified_date': '2025-02-02'}, excluded_embed_metadata_keys=['file_name', 'file_type', 'file_size', 'creation_date', 'last_modified_date', 'last_accessed_date'], excluded_llm_metadata_keys=['file_name', 'file_type', 'file_size', 'creation_date', 'last_modified_date', 'last_accessed_date'], relationships={<NodeRelationship.SOURCE: '1'>: RelatedNodeInfo(node_id='d42321d9-da7d-49c1-9a2c-884b687c516b', node_type=<ObjectType.DOCUMENT: '4'>, metadata={'page_label': '5', 'file_name': 'deepseek-r1-paper.pdf', 'file_path': 'c:\\\\Users\\\\nazaizah\\\\OneDrive\\\\PycharmProjects\\\\rag-tutorial\\\\data\\\\deepseek-r1-paper.pdf', 'file_type': 'application/pdf', 'file_size': 1312189, 'creation_date': '2025-02-02', 'last_modified_date': '2025-02-02'}, hash='56d70fdb979231dfa7b162715808b0053d4897ec5a5b99f48981cf9d73ed04b6'), <NodeRelationship.NEXT: '3'>: RelatedNodeInfo(node_id='815e6f50-c099-4ee3-956a-8664327150bb', node_type=<ObjectType.TEXT: '1'>, metadata={}, hash='65fb52de660c359ec37c1230f6b00931ec493006f8d585b8f3ef335d0d22e0ca')}, metadata_template='{key}: {value}', metadata_separator='\\n', text='• Others: DeepSeek-R1 also excels in a wide range of tasks, including creative writing,\\ngeneral question answering, editing, summarization, and more. It achieves an impressive\\nlength-controlled win-rate of 87.6% on AlpacaEval 2.0 and a win-rate of 92.3% on Are-\\nnaHard, showcasing its strong ability to intelligently handle non-exam-oriented queries.\\nAdditionally, DeepSeek-R1 demonstrates outstanding performance on tasks requiring\\nlong-context understanding, substantially outperforming DeepSeek-V3 on long-context\\nbenchmarks.\\n2. Approach\\n2.1. Overview\\nPrevious work has heavily relied on large amounts of supervised data to enhance model\\nperformance. In this study, we demonstrate that reasoning capabilities can be significantly\\nimproved through large-scale reinforcement learning (RL), even without using supervised\\nfine-tuning (SFT) as a cold start. Furthermore, performance can be further enhanced with\\nthe inclusion of a small amount of cold-start data. In the following sections, we present: (1)\\nDeepSeek-R1-Zero, which applies RL directly to the base model without any SFT data, and\\n(2) DeepSeek-R1, which applies RL starting from a checkpoint fine-tuned with thousands of\\nlong Chain-of-Thought (CoT) examples. 3) Distill the reasoning capability from DeepSeek-R1 to\\nsmall dense models.\\n2.2. DeepSeek-R1-Zero: Reinforcement Learning on the Base Model\\nReinforcement learning has demonstrated significant effectiveness in reasoning tasks, as ev-\\nidenced by our previous works (Shao et al., 2024; Wang et al., 2023). However, these works\\nheavily depended on supervised data, which are time-intensive to gather. In this section, we\\nexplore the potential of LLMs to develop reasoning capabilities without any supervised data,\\nfocusing on their self-evolution through a pure reinforcement learning process. We start with a\\nbrief overview of our RL algorithm, followed by the presentation of some exciting results, and\\nhope this provides the community with valuable insights.\\n2.2.1.', mimetype='text/plain', start_char_idx=0, end_char_idx=1985, metadata_seperator='\\n', text_template='{metadata_str}\\n\\n{content}'),\n",
       " TextNode(id_='815e6f50-c099-4ee3-956a-8664327150bb', embedding=None, metadata={'page_label': '5', 'file_name': 'deepseek-r1-paper.pdf', 'file_path': 'c:\\\\Users\\\\nazaizah\\\\OneDrive\\\\PycharmProjects\\\\rag-tutorial\\\\data\\\\deepseek-r1-paper.pdf', 'file_type': 'application/pdf', 'file_size': 1312189, 'creation_date': '2025-02-02', 'last_modified_date': '2025-02-02'}, excluded_embed_metadata_keys=['file_name', 'file_type', 'file_size', 'creation_date', 'last_modified_date', 'last_accessed_date'], excluded_llm_metadata_keys=['file_name', 'file_type', 'file_size', 'creation_date', 'last_modified_date', 'last_accessed_date'], relationships={<NodeRelationship.SOURCE: '1'>: RelatedNodeInfo(node_id='d42321d9-da7d-49c1-9a2c-884b687c516b', node_type=<ObjectType.DOCUMENT: '4'>, metadata={'page_label': '5', 'file_name': 'deepseek-r1-paper.pdf', 'file_path': 'c:\\\\Users\\\\nazaizah\\\\OneDrive\\\\PycharmProjects\\\\rag-tutorial\\\\data\\\\deepseek-r1-paper.pdf', 'file_type': 'application/pdf', 'file_size': 1312189, 'creation_date': '2025-02-02', 'last_modified_date': '2025-02-02'}, hash='56d70fdb979231dfa7b162715808b0053d4897ec5a5b99f48981cf9d73ed04b6'), <NodeRelationship.PREVIOUS: '2'>: RelatedNodeInfo(node_id='b053e41f-1c8f-4c5c-8d21-6e76c81f8db2', node_type=<ObjectType.TEXT: '1'>, metadata={'page_label': '5', 'file_name': 'deepseek-r1-paper.pdf', 'file_path': 'c:\\\\Users\\\\nazaizah\\\\OneDrive\\\\PycharmProjects\\\\rag-tutorial\\\\data\\\\deepseek-r1-paper.pdf', 'file_type': 'application/pdf', 'file_size': 1312189, 'creation_date': '2025-02-02', 'last_modified_date': '2025-02-02'}, hash='94a03bd4052fc5b377f8aa62af2c93091ba807dc260a1ca3f00be5719f84115e'), <NodeRelationship.NEXT: '3'>: RelatedNodeInfo(node_id='def11ae0-193e-4ca8-b246-366fc06f3c40', node_type=<ObjectType.TEXT: '1'>, metadata={}, hash='92996c4c41842a1b2b09c83e8b5edd97180db0eeb6eaccee43ec0f135175fa29')}, metadata_template='{key}: {value}', metadata_separator='\\n', text='We start with a\\nbrief overview of our RL algorithm, followed by the presentation of some exciting results, and\\nhope this provides the community with valuable insights.\\n2.2.1. Reinforcement Learning Algorithm\\nGroup Relative Policy OptimizationIn order to save the training costs of RL, we adopt Group\\nRelative Policy Optimization (GRPO) (Shao et al., 2024), which foregoes the critic model that is\\ntypically the same size as the policy model, and estimates the baseline from group scores instead.\\nSpecifically, for each question 𝑞, GRPO samples a group of outputs {𝑜1, 𝑜2, ··· , 𝑜𝐺}from the old\\npolicy 𝜋𝜃𝑜𝑙𝑑 and then optimizes the policy model 𝜋𝜃 by maximizing the following objective:\\nJ𝐺𝑅𝑃𝑂 (𝜃)= E[𝑞∼𝑃(𝑄), {𝑜𝑖}𝐺\\n𝑖=1 ∼𝜋𝜃𝑜𝑙𝑑 (𝑂|𝑞)]\\n1\\n𝐺\\n𝐺∑︁\\n𝑖=1\\n\\x12\\nmin\\n\\x12 𝜋𝜃(𝑜𝑖|𝑞)\\n𝜋𝜃𝑜𝑙𝑑 (𝑜𝑖|𝑞)𝐴𝑖, clip\\n\\x12 𝜋𝜃(𝑜𝑖|𝑞)\\n𝜋𝜃𝑜𝑙𝑑 (𝑜𝑖|𝑞), 1−𝜀, 1+𝜀\\n\\x13\\n𝐴𝑖\\n\\x13\\n−𝛽D𝐾𝐿\\n\\x00\\n𝜋𝜃||𝜋𝑟𝑒𝑓\\n\\x01\\x13\\n,', mimetype='text/plain', start_char_idx=1811, end_char_idx=2653, metadata_seperator='\\n', text_template='{metadata_str}\\n\\n{content}'),\n",
       " TextNode(id_='def11ae0-193e-4ca8-b246-366fc06f3c40', embedding=None, metadata={'page_label': '5', 'file_name': 'deepseek-r1-paper.pdf', 'file_path': 'c:\\\\Users\\\\nazaizah\\\\OneDrive\\\\PycharmProjects\\\\rag-tutorial\\\\data\\\\deepseek-r1-paper.pdf', 'file_type': 'application/pdf', 'file_size': 1312189, 'creation_date': '2025-02-02', 'last_modified_date': '2025-02-02'}, excluded_embed_metadata_keys=['file_name', 'file_type', 'file_size', 'creation_date', 'last_modified_date', 'last_accessed_date'], excluded_llm_metadata_keys=['file_name', 'file_type', 'file_size', 'creation_date', 'last_modified_date', 'last_accessed_date'], relationships={<NodeRelationship.SOURCE: '1'>: RelatedNodeInfo(node_id='d42321d9-da7d-49c1-9a2c-884b687c516b', node_type=<ObjectType.DOCUMENT: '4'>, metadata={'page_label': '5', 'file_name': 'deepseek-r1-paper.pdf', 'file_path': 'c:\\\\Users\\\\nazaizah\\\\OneDrive\\\\PycharmProjects\\\\rag-tutorial\\\\data\\\\deepseek-r1-paper.pdf', 'file_type': 'application/pdf', 'file_size': 1312189, 'creation_date': '2025-02-02', 'last_modified_date': '2025-02-02'}, hash='56d70fdb979231dfa7b162715808b0053d4897ec5a5b99f48981cf9d73ed04b6'), <NodeRelationship.PREVIOUS: '2'>: RelatedNodeInfo(node_id='815e6f50-c099-4ee3-956a-8664327150bb', node_type=<ObjectType.TEXT: '1'>, metadata={'page_label': '5', 'file_name': 'deepseek-r1-paper.pdf', 'file_path': 'c:\\\\Users\\\\nazaizah\\\\OneDrive\\\\PycharmProjects\\\\rag-tutorial\\\\data\\\\deepseek-r1-paper.pdf', 'file_type': 'application/pdf', 'file_size': 1312189, 'creation_date': '2025-02-02', 'last_modified_date': '2025-02-02'}, hash='8838d44dd8f97da2fa0af3bcbc6b027fc46536ad520f1efc5d5690c9f678f48c')}, metadata_template='{key}: {value}', metadata_separator='\\n', text='(1)\\nD𝐾𝐿\\n\\x00\\n𝜋𝜃||𝜋𝑟𝑒𝑓\\n\\x01 =\\n𝜋𝑟𝑒𝑓 (𝑜𝑖|𝑞)\\n𝜋𝜃(𝑜𝑖|𝑞) −log\\n𝜋𝑟𝑒𝑓 (𝑜𝑖|𝑞)\\n𝜋𝜃(𝑜𝑖|𝑞) −1, (2)\\nwhere 𝜀 and 𝛽 are hyper-parameters, and 𝐴𝑖 is the advantage, computed using a group of\\nrewards {𝑟1, 𝑟2, . , 𝑟𝐺}corresponding to the outputs within each group:\\n𝐴𝑖 = 𝑟𝑖 −m𝑒𝑎𝑛({𝑟1, 𝑟2, ··· , 𝑟𝐺})\\ns𝑡𝑑({𝑟1, 𝑟2, ··· , 𝑟𝐺}) . (3)\\n5', mimetype='text/plain', start_char_idx=None, end_char_idx=None, metadata_seperator='\\n', text_template='{metadata_str}\\n\\n{content}'),\n",
       " TextNode(id_='a17b89a8-f937-47cc-9b45-f1ea6144b3c7', embedding=None, metadata={'page_label': '6', 'file_name': 'deepseek-r1-paper.pdf', 'file_path': 'c:\\\\Users\\\\nazaizah\\\\OneDrive\\\\PycharmProjects\\\\rag-tutorial\\\\data\\\\deepseek-r1-paper.pdf', 'file_type': 'application/pdf', 'file_size': 1312189, 'creation_date': '2025-02-02', 'last_modified_date': '2025-02-02'}, excluded_embed_metadata_keys=['file_name', 'file_type', 'file_size', 'creation_date', 'last_modified_date', 'last_accessed_date'], excluded_llm_metadata_keys=['file_name', 'file_type', 'file_size', 'creation_date', 'last_modified_date', 'last_accessed_date'], relationships={<NodeRelationship.SOURCE: '1'>: RelatedNodeInfo(node_id='250b65ce-dffd-4850-aa59-058cbb76c8a1', node_type=<ObjectType.DOCUMENT: '4'>, metadata={'page_label': '6', 'file_name': 'deepseek-r1-paper.pdf', 'file_path': 'c:\\\\Users\\\\nazaizah\\\\OneDrive\\\\PycharmProjects\\\\rag-tutorial\\\\data\\\\deepseek-r1-paper.pdf', 'file_type': 'application/pdf', 'file_size': 1312189, 'creation_date': '2025-02-02', 'last_modified_date': '2025-02-02'}, hash='63fac781a46cd9469278dde213c0609ef5ed8d94affd35db1f8e6f104ca14525'), <NodeRelationship.NEXT: '3'>: RelatedNodeInfo(node_id='0c3dc7ce-423c-4575-a667-265bccde7640', node_type=<ObjectType.TEXT: '1'>, metadata={}, hash='8bcff4453ecd79466e0da6a4abb338b9ca6b27ae90021f49248940224b85418a')}, metadata_template='{key}: {value}', metadata_separator='\\n', text='A conversation between User and Assistant. The user asks a question, and the Assistant solves it.\\nThe assistant first thinks about the reasoning process in the mind and then provides the user\\nwith the answer. The reasoning process and answer are enclosed within <think> </think> and\\n<answer> </answer> tags, respectively, i.e., <think> reasoning process here </think>\\n<answer> answer here </answer>. User: prompt. Assistant:\\nTable 1 |Template for DeepSeek-R1-Zero. prompt will be replaced with the specific reasoning\\nquestion during training.\\n2.2.2. Reward Modeling\\nThe reward is the source of the training signal, which decides the optimization direction of RL.\\nTo train DeepSeek-R1-Zero, we adopt a rule-based reward system that mainly consists of two\\ntypes of rewards:\\n• Accuracy rewards: The accuracy reward model evaluates whether the response is correct.\\nFor example, in the case of math problems with deterministic results, the model is required\\nto provide the final answer in a specified format (e.g., within a box), enabling reliable\\nrule-based verification of correctness. Similarly, for LeetCode problems, a compiler can be\\nused to generate feedback based on predefined test cases.\\n• Format rewards: In addition to the accuracy reward model, we employ a format reward\\nmodel that enforces the model to put its thinking process between ‘<think>’ and ‘</think>’\\ntags.\\nWe do not apply the outcome or process neural reward model in developing DeepSeek-R1-Zero,\\nbecause we find that the neural reward model may suffer from reward hacking in the large-scale\\nreinforcement learning process, and retraining the reward model needs additional training\\nresources and it complicates the whole training pipeline.\\n2.2.3. Training Template\\nTo train DeepSeek-R1-Zero, we begin by designing a straightforward template that guides\\nthe base model to adhere to our specified instructions. As depicted in Table 1, this template\\nrequires DeepSeek-R1-Zero to first produce a reasoning process, followed by the final answer.', mimetype='text/plain', start_char_idx=0, end_char_idx=2010, metadata_seperator='\\n', text_template='{metadata_str}\\n\\n{content}'),\n",
       " TextNode(id_='0c3dc7ce-423c-4575-a667-265bccde7640', embedding=None, metadata={'page_label': '6', 'file_name': 'deepseek-r1-paper.pdf', 'file_path': 'c:\\\\Users\\\\nazaizah\\\\OneDrive\\\\PycharmProjects\\\\rag-tutorial\\\\data\\\\deepseek-r1-paper.pdf', 'file_type': 'application/pdf', 'file_size': 1312189, 'creation_date': '2025-02-02', 'last_modified_date': '2025-02-02'}, excluded_embed_metadata_keys=['file_name', 'file_type', 'file_size', 'creation_date', 'last_modified_date', 'last_accessed_date'], excluded_llm_metadata_keys=['file_name', 'file_type', 'file_size', 'creation_date', 'last_modified_date', 'last_accessed_date'], relationships={<NodeRelationship.SOURCE: '1'>: RelatedNodeInfo(node_id='250b65ce-dffd-4850-aa59-058cbb76c8a1', node_type=<ObjectType.DOCUMENT: '4'>, metadata={'page_label': '6', 'file_name': 'deepseek-r1-paper.pdf', 'file_path': 'c:\\\\Users\\\\nazaizah\\\\OneDrive\\\\PycharmProjects\\\\rag-tutorial\\\\data\\\\deepseek-r1-paper.pdf', 'file_type': 'application/pdf', 'file_size': 1312189, 'creation_date': '2025-02-02', 'last_modified_date': '2025-02-02'}, hash='63fac781a46cd9469278dde213c0609ef5ed8d94affd35db1f8e6f104ca14525'), <NodeRelationship.PREVIOUS: '2'>: RelatedNodeInfo(node_id='a17b89a8-f937-47cc-9b45-f1ea6144b3c7', node_type=<ObjectType.TEXT: '1'>, metadata={'page_label': '6', 'file_name': 'deepseek-r1-paper.pdf', 'file_path': 'c:\\\\Users\\\\nazaizah\\\\OneDrive\\\\PycharmProjects\\\\rag-tutorial\\\\data\\\\deepseek-r1-paper.pdf', 'file_type': 'application/pdf', 'file_size': 1312189, 'creation_date': '2025-02-02', 'last_modified_date': '2025-02-02'}, hash='3f8ba62cc003ea722643bb4d6eaf0322b05b1378dd53999819b2640a3bce7376')}, metadata_template='{key}: {value}', metadata_separator='\\n', text='As depicted in Table 1, this template\\nrequires DeepSeek-R1-Zero to first produce a reasoning process, followed by the final answer.\\nWe intentionally limit our constraints to this structural format, avoiding any content-specific\\nbiases—such as mandating reflective reasoning or promoting particular problem-solving strate-\\ngies—to ensure that we can accurately observe the model’s natural progression during the RL\\nprocess.\\n2.2.4. Performance, Self-evolution Process and Aha Moment of DeepSeek-R1-Zero\\nPerformance of DeepSeek-R1-Zero Figure 2 depicts the performance trajectory of DeepSeek-\\nR1-Zero on the AIME 2024 benchmark throughout the RL training process. As illustrated,\\nDeepSeek-R1-Zero demonstrates a steady and consistent enhancement in performance as the\\nRL training advances. Notably, the average pass@1 score on AIME 2024 shows a significant\\nincrease, jumping from an initial 15.6% to an impressive 71.0%, reaching performance levels\\ncomparable to OpenAI-o1-0912. This significant improvement highlights the efficacy of our RL\\nalgorithm in optimizing the model’s performance over time.\\nTable 2 provides a comparative analysis between DeepSeek-R1-Zero and OpenAI’s o1-0912\\nmodels across a variety of reasoning-related benchmarks. The findings reveal that RL empowers\\n6', mimetype='text/plain', start_char_idx=1879, end_char_idx=3158, metadata_seperator='\\n', text_template='{metadata_str}\\n\\n{content}'),\n",
       " TextNode(id_='a45100d3-8b7a-4bcc-acb1-80c834a96070', embedding=None, metadata={'page_label': '7', 'file_name': 'deepseek-r1-paper.pdf', 'file_path': 'c:\\\\Users\\\\nazaizah\\\\OneDrive\\\\PycharmProjects\\\\rag-tutorial\\\\data\\\\deepseek-r1-paper.pdf', 'file_type': 'application/pdf', 'file_size': 1312189, 'creation_date': '2025-02-02', 'last_modified_date': '2025-02-02'}, excluded_embed_metadata_keys=['file_name', 'file_type', 'file_size', 'creation_date', 'last_modified_date', 'last_accessed_date'], excluded_llm_metadata_keys=['file_name', 'file_type', 'file_size', 'creation_date', 'last_modified_date', 'last_accessed_date'], relationships={<NodeRelationship.SOURCE: '1'>: RelatedNodeInfo(node_id='fcce705e-a3d0-491a-8e7d-1c0b03a04ba0', node_type=<ObjectType.DOCUMENT: '4'>, metadata={'page_label': '7', 'file_name': 'deepseek-r1-paper.pdf', 'file_path': 'c:\\\\Users\\\\nazaizah\\\\OneDrive\\\\PycharmProjects\\\\rag-tutorial\\\\data\\\\deepseek-r1-paper.pdf', 'file_type': 'application/pdf', 'file_size': 1312189, 'creation_date': '2025-02-02', 'last_modified_date': '2025-02-02'}, hash='1d836d8a094fa35be7cd73727da7279d00cc821f945c6a91055190b1785c833f'), <NodeRelationship.NEXT: '3'>: RelatedNodeInfo(node_id='9491e385-0dc5-47fe-9fde-fb13177bce43', node_type=<ObjectType.TEXT: '1'>, metadata={}, hash='b9903b1073bec2c6f2c525185df5750d4a70d320916780e0dd60734a3d2dd26c')}, metadata_template='{key}: {value}', metadata_separator='\\n', text='Model AIME 2024 MATH-500 GPQA LiveCode CodeForcesDiamond Bench\\npass@1 cons@64 pass@1 pass@1 pass@1 rating\\nOpenAI-o1-mini 63.6 80.0 90.0 60.0 53.8 1820\\nOpenAI-o1-0912 74.4 83.3 94.8 77.3 63.4 1843\\nDeepSeek-R1-Zero 71.0 86.7 95.9 73.3 50.0 1444\\nTable 2 |Comparison of DeepSeek-R1-Zero and OpenAI o1 models on reasoning-related\\nbenchmarks.\\nFigure 2 |AIME accuracy of DeepSeek-R1-Zero during training. For each question, we sample\\n16 responses and calculate the overall average accuracy to ensure a stable evaluation.\\nDeepSeek-R1-Zero to attain robust reasoning capabilities without the need for any supervised\\nfine-tuning data. This is a noteworthy achievement, as it underscores the model’s ability to\\nlearn and generalize effectively through RL alone. Additionally, the performance of DeepSeek-\\nR1-Zero can be further augmented through the application of majority voting. For example,\\nwhen majority voting is employed on the AIME benchmark, DeepSeek-R1-Zero’s performance\\nescalates from 71.0% to 86.7%, thereby exceeding the performance of OpenAI-o1-0912. The\\nability of DeepSeek-R1-Zero to achieve such competitive performance, both with and without\\nmajority voting, highlights its strong foundational capabilities and its potential for further\\nadvancements in reasoning tasks.\\nSelf-evolution Process of DeepSeek-R1-ZeroThe self-evolution process of DeepSeek-R1-Zero\\nis a fascinating demonstration of how RL can drive a model to improve its reasoning capabilities\\nautonomously. By initiating RL directly from the base model, we can closely monitor the model’s\\nprogression without the influence of the supervised fine-tuning stage. This approach provides\\na clear view of how the model evolves over time, particularly in terms of its ability to handle\\ncomplex reasoning tasks.', mimetype='text/plain', start_char_idx=0, end_char_idx=1774, metadata_seperator='\\n', text_template='{metadata_str}\\n\\n{content}'),\n",
       " TextNode(id_='9491e385-0dc5-47fe-9fde-fb13177bce43', embedding=None, metadata={'page_label': '7', 'file_name': 'deepseek-r1-paper.pdf', 'file_path': 'c:\\\\Users\\\\nazaizah\\\\OneDrive\\\\PycharmProjects\\\\rag-tutorial\\\\data\\\\deepseek-r1-paper.pdf', 'file_type': 'application/pdf', 'file_size': 1312189, 'creation_date': '2025-02-02', 'last_modified_date': '2025-02-02'}, excluded_embed_metadata_keys=['file_name', 'file_type', 'file_size', 'creation_date', 'last_modified_date', 'last_accessed_date'], excluded_llm_metadata_keys=['file_name', 'file_type', 'file_size', 'creation_date', 'last_modified_date', 'last_accessed_date'], relationships={<NodeRelationship.SOURCE: '1'>: RelatedNodeInfo(node_id='fcce705e-a3d0-491a-8e7d-1c0b03a04ba0', node_type=<ObjectType.DOCUMENT: '4'>, metadata={'page_label': '7', 'file_name': 'deepseek-r1-paper.pdf', 'file_path': 'c:\\\\Users\\\\nazaizah\\\\OneDrive\\\\PycharmProjects\\\\rag-tutorial\\\\data\\\\deepseek-r1-paper.pdf', 'file_type': 'application/pdf', 'file_size': 1312189, 'creation_date': '2025-02-02', 'last_modified_date': '2025-02-02'}, hash='1d836d8a094fa35be7cd73727da7279d00cc821f945c6a91055190b1785c833f'), <NodeRelationship.PREVIOUS: '2'>: RelatedNodeInfo(node_id='a45100d3-8b7a-4bcc-acb1-80c834a96070', node_type=<ObjectType.TEXT: '1'>, metadata={'page_label': '7', 'file_name': 'deepseek-r1-paper.pdf', 'file_path': 'c:\\\\Users\\\\nazaizah\\\\OneDrive\\\\PycharmProjects\\\\rag-tutorial\\\\data\\\\deepseek-r1-paper.pdf', 'file_type': 'application/pdf', 'file_size': 1312189, 'creation_date': '2025-02-02', 'last_modified_date': '2025-02-02'}, hash='97ba781e3fbeba4b7f1ec2cc5a60a7ad202cf9bc739171a47c7f4f22583ca609')}, metadata_template='{key}: {value}', metadata_separator='\\n', text='This approach provides\\na clear view of how the model evolves over time, particularly in terms of its ability to handle\\ncomplex reasoning tasks.\\nAs depicted in Figure 3, the thinking time of DeepSeek-R1-Zero shows consistent improve-\\n7', mimetype='text/plain', start_char_idx=1631, end_char_idx=1865, metadata_seperator='\\n', text_template='{metadata_str}\\n\\n{content}'),\n",
       " TextNode(id_='93bddeb7-c8c6-4c7b-8064-db6725ec69a3', embedding=None, metadata={'page_label': '8', 'file_name': 'deepseek-r1-paper.pdf', 'file_path': 'c:\\\\Users\\\\nazaizah\\\\OneDrive\\\\PycharmProjects\\\\rag-tutorial\\\\data\\\\deepseek-r1-paper.pdf', 'file_type': 'application/pdf', 'file_size': 1312189, 'creation_date': '2025-02-02', 'last_modified_date': '2025-02-02'}, excluded_embed_metadata_keys=['file_name', 'file_type', 'file_size', 'creation_date', 'last_modified_date', 'last_accessed_date'], excluded_llm_metadata_keys=['file_name', 'file_type', 'file_size', 'creation_date', 'last_modified_date', 'last_accessed_date'], relationships={<NodeRelationship.SOURCE: '1'>: RelatedNodeInfo(node_id='b06a8028-aa6a-4087-9165-228bfc5ef28d', node_type=<ObjectType.DOCUMENT: '4'>, metadata={'page_label': '8', 'file_name': 'deepseek-r1-paper.pdf', 'file_path': 'c:\\\\Users\\\\nazaizah\\\\OneDrive\\\\PycharmProjects\\\\rag-tutorial\\\\data\\\\deepseek-r1-paper.pdf', 'file_type': 'application/pdf', 'file_size': 1312189, 'creation_date': '2025-02-02', 'last_modified_date': '2025-02-02'}, hash='982222be986c643bc8a67c512e3c28570c9257993db3533e8e3522a290e58f85'), <NodeRelationship.NEXT: '3'>: RelatedNodeInfo(node_id='35154d00-5a97-4f52-a130-515df1991b7a', node_type=<ObjectType.TEXT: '1'>, metadata={}, hash='327de173faf110bbba506460e804cdd4e7e33ed650bf00ffd53a028493eec355')}, metadata_template='{key}: {value}', metadata_separator='\\n', text='Figure 3 |The average response length of DeepSeek-R1-Zero on the training set during the RL\\nprocess. DeepSeek-R1-Zero naturally learns to solve reasoning tasks with more thinking time.\\nment throughout the training process. This improvement is not the result of external adjustments\\nbut rather an intrinsic development within the model. DeepSeek-R1-Zero naturally acquires the\\nability to solve increasingly complex reasoning tasks by leveraging extended test-time compu-\\ntation. This computation ranges from generating hundreds to thousands of reasoning tokens,\\nallowing the model to explore and refine its thought processes in greater depth.\\nOne of the most remarkable aspects of this self-evolution is the emergence of sophisticated\\nbehaviors as the test-time computation increases. Behaviors such as reflection—where the model\\nrevisits and reevaluates its previous steps—and the exploration of alternative approaches to\\nproblem-solving arise spontaneously. These behaviors are not explicitly programmed but instead\\nemerge as a result of the model’s interaction with the reinforcement learning environment. This\\nspontaneous development significantly enhances DeepSeek-R1-Zero’s reasoning capabilities,\\nenabling it to tackle more challenging tasks with greater efficiency and accuracy.\\nAha Moment of DeepSeek-R1-ZeroA particularly intriguing phenomenon observed during\\nthe training of DeepSeek-R1-Zero is the occurrence of an “aha moment”. This moment, as\\nillustrated in Table 3, occurs in an intermediate version of the model. During this phase,\\nDeepSeek-R1-Zero learns to allocate more thinking time to a problem by reevaluating its initial\\napproach. This behavior is not only a testament to the model’s growing reasoning abilities\\nbut also a captivating example of how reinforcement learning can lead to unexpected and\\nsophisticated outcomes.\\nThis moment is not only an “aha moment” for the model but also for the researchers\\nobserving its behavior. It underscores the power and beauty of reinforcement learning: rather\\nthan explicitly teaching the model on how to solve a problem, we simply provide it with the\\nright incentives, and it autonomously develops advanced problem-solving strategies.', mimetype='text/plain', start_char_idx=0, end_char_idx=2198, metadata_seperator='\\n', text_template='{metadata_str}\\n\\n{content}'),\n",
       " TextNode(id_='35154d00-5a97-4f52-a130-515df1991b7a', embedding=None, metadata={'page_label': '8', 'file_name': 'deepseek-r1-paper.pdf', 'file_path': 'c:\\\\Users\\\\nazaizah\\\\OneDrive\\\\PycharmProjects\\\\rag-tutorial\\\\data\\\\deepseek-r1-paper.pdf', 'file_type': 'application/pdf', 'file_size': 1312189, 'creation_date': '2025-02-02', 'last_modified_date': '2025-02-02'}, excluded_embed_metadata_keys=['file_name', 'file_type', 'file_size', 'creation_date', 'last_modified_date', 'last_accessed_date'], excluded_llm_metadata_keys=['file_name', 'file_type', 'file_size', 'creation_date', 'last_modified_date', 'last_accessed_date'], relationships={<NodeRelationship.SOURCE: '1'>: RelatedNodeInfo(node_id='b06a8028-aa6a-4087-9165-228bfc5ef28d', node_type=<ObjectType.DOCUMENT: '4'>, metadata={'page_label': '8', 'file_name': 'deepseek-r1-paper.pdf', 'file_path': 'c:\\\\Users\\\\nazaizah\\\\OneDrive\\\\PycharmProjects\\\\rag-tutorial\\\\data\\\\deepseek-r1-paper.pdf', 'file_type': 'application/pdf', 'file_size': 1312189, 'creation_date': '2025-02-02', 'last_modified_date': '2025-02-02'}, hash='982222be986c643bc8a67c512e3c28570c9257993db3533e8e3522a290e58f85'), <NodeRelationship.PREVIOUS: '2'>: RelatedNodeInfo(node_id='93bddeb7-c8c6-4c7b-8064-db6725ec69a3', node_type=<ObjectType.TEXT: '1'>, metadata={'page_label': '8', 'file_name': 'deepseek-r1-paper.pdf', 'file_path': 'c:\\\\Users\\\\nazaizah\\\\OneDrive\\\\PycharmProjects\\\\rag-tutorial\\\\data\\\\deepseek-r1-paper.pdf', 'file_type': 'application/pdf', 'file_size': 1312189, 'creation_date': '2025-02-02', 'last_modified_date': '2025-02-02'}, hash='2ad5b39d12a9fb938564d8bfd7b22fcbce69d10cecf43e0e1b4a182e36521aa0')}, metadata_template='{key}: {value}', metadata_separator='\\n', text='It underscores the power and beauty of reinforcement learning: rather\\nthan explicitly teaching the model on how to solve a problem, we simply provide it with the\\nright incentives, and it autonomously develops advanced problem-solving strategies. The\\n“aha moment” serves as a powerful reminder of the potential of RL to unlock new levels of\\nintelligence in artificial systems, paving the way for more autonomous and adaptive models in\\nthe future.\\n8', mimetype='text/plain', start_char_idx=1953, end_char_idx=2400, metadata_seperator='\\n', text_template='{metadata_str}\\n\\n{content}'),\n",
       " TextNode(id_='2ae48e76-468c-4386-8e1d-32e701f838f5', embedding=None, metadata={'page_label': '9', 'file_name': 'deepseek-r1-paper.pdf', 'file_path': 'c:\\\\Users\\\\nazaizah\\\\OneDrive\\\\PycharmProjects\\\\rag-tutorial\\\\data\\\\deepseek-r1-paper.pdf', 'file_type': 'application/pdf', 'file_size': 1312189, 'creation_date': '2025-02-02', 'last_modified_date': '2025-02-02'}, excluded_embed_metadata_keys=['file_name', 'file_type', 'file_size', 'creation_date', 'last_modified_date', 'last_accessed_date'], excluded_llm_metadata_keys=['file_name', 'file_type', 'file_size', 'creation_date', 'last_modified_date', 'last_accessed_date'], relationships={<NodeRelationship.SOURCE: '1'>: RelatedNodeInfo(node_id='7a0e467a-d70d-4306-bfde-5fbf59590d6c', node_type=<ObjectType.DOCUMENT: '4'>, metadata={'page_label': '9', 'file_name': 'deepseek-r1-paper.pdf', 'file_path': 'c:\\\\Users\\\\nazaizah\\\\OneDrive\\\\PycharmProjects\\\\rag-tutorial\\\\data\\\\deepseek-r1-paper.pdf', 'file_type': 'application/pdf', 'file_size': 1312189, 'creation_date': '2025-02-02', 'last_modified_date': '2025-02-02'}, hash='3da5e5ff4dea5e7d210be9c1a9feef31787b6f99d7f1a3d3fb172b7fe5e6134a'), <NodeRelationship.NEXT: '3'>: RelatedNodeInfo(node_id='db6e3cda-b10d-41c6-a0fb-11491bce3a68', node_type=<ObjectType.TEXT: '1'>, metadata={}, hash='670102464022b22288dffa8a36e81738722a4b52cf7438ac1ff3ce5c8fe0d3fe')}, metadata_template='{key}: {value}', metadata_separator='\\n', text='Question: If 𝑎 >1, then the sum of the real solutions of\\n√︁\\n𝑎−√\\n𝑎+𝑥 = 𝑥 is equal to\\nResponse: <think>\\nTo solve the equation\\n√︁\\n𝑎−√\\n𝑎+𝑥 = 𝑥, let’s start by squaring both ···\\x10√︁\\n𝑎−√\\n𝑎+𝑥\\n\\x112\\n= 𝑥2 =⇒ 𝑎−√\\n𝑎+𝑥 = 𝑥2.\\nRearrange to isolate the inner square root term:\\n(𝑎−𝑥2)2 = 𝑎+𝑥 =⇒ 𝑎2 −2𝑎𝑥2 +(𝑥2)2 = 𝑎+𝑥 =⇒ 𝑥4 −2𝑎𝑥2 −𝑥+(𝑎2 −𝑎)= 0\\n. . .\\nWait, wait. Wait. That’s an aha moment I can flag here.\\nLet’s reevaluate this step-by-step to identify if the correct sum can be ···\\nWe started with the equation:√︁\\n𝑎−√\\n𝑎+𝑥 = 𝑥\\nFirst, let’s square both sides:\\n𝑎−√\\n𝑎+𝑥 = 𝑥2 =⇒ √\\n𝑎+𝑥 = 𝑎−𝑥2\\nNext, I could square both sides again, treating the equation: ···\\n. . .\\nTable 3 |An interesting “aha moment” of an intermediate version of DeepSeek-R1-Zero. The\\nmodel learns to rethink using an anthropomorphic tone. This is also an aha moment for us,\\nallowing us to witness the power and beauty of reinforcement learning.', mimetype='text/plain', start_char_idx=0, end_char_idx=888, metadata_seperator='\\n', text_template='{metadata_str}\\n\\n{content}'),\n",
       " TextNode(id_='db6e3cda-b10d-41c6-a0fb-11491bce3a68', embedding=None, metadata={'page_label': '9', 'file_name': 'deepseek-r1-paper.pdf', 'file_path': 'c:\\\\Users\\\\nazaizah\\\\OneDrive\\\\PycharmProjects\\\\rag-tutorial\\\\data\\\\deepseek-r1-paper.pdf', 'file_type': 'application/pdf', 'file_size': 1312189, 'creation_date': '2025-02-02', 'last_modified_date': '2025-02-02'}, excluded_embed_metadata_keys=['file_name', 'file_type', 'file_size', 'creation_date', 'last_modified_date', 'last_accessed_date'], excluded_llm_metadata_keys=['file_name', 'file_type', 'file_size', 'creation_date', 'last_modified_date', 'last_accessed_date'], relationships={<NodeRelationship.SOURCE: '1'>: RelatedNodeInfo(node_id='7a0e467a-d70d-4306-bfde-5fbf59590d6c', node_type=<ObjectType.DOCUMENT: '4'>, metadata={'page_label': '9', 'file_name': 'deepseek-r1-paper.pdf', 'file_path': 'c:\\\\Users\\\\nazaizah\\\\OneDrive\\\\PycharmProjects\\\\rag-tutorial\\\\data\\\\deepseek-r1-paper.pdf', 'file_type': 'application/pdf', 'file_size': 1312189, 'creation_date': '2025-02-02', 'last_modified_date': '2025-02-02'}, hash='3da5e5ff4dea5e7d210be9c1a9feef31787b6f99d7f1a3d3fb172b7fe5e6134a'), <NodeRelationship.PREVIOUS: '2'>: RelatedNodeInfo(node_id='2ae48e76-468c-4386-8e1d-32e701f838f5', node_type=<ObjectType.TEXT: '1'>, metadata={'page_label': '9', 'file_name': 'deepseek-r1-paper.pdf', 'file_path': 'c:\\\\Users\\\\nazaizah\\\\OneDrive\\\\PycharmProjects\\\\rag-tutorial\\\\data\\\\deepseek-r1-paper.pdf', 'file_type': 'application/pdf', 'file_size': 1312189, 'creation_date': '2025-02-02', 'last_modified_date': '2025-02-02'}, hash='61f7b9874dec0e2de6bd7e5285e7a70caf549be51f1f1c419f528879e980170d')}, metadata_template='{key}: {value}', metadata_separator='\\n', text='The\\nmodel learns to rethink using an anthropomorphic tone. This is also an aha moment for us,\\nallowing us to witness the power and beauty of reinforcement learning.\\nDrawback of DeepSeek-R1-Zero Although DeepSeek-R1-Zero exhibits strong reasoning\\ncapabilities and autonomously develops unexpected and powerful reasoning behaviors, it faces\\nseveral issues. For instance, DeepSeek-R1-Zero struggles with challenges like poor readability,\\nand language mixing. To make reasoning processes more readable and share them with the\\nopen community, we explore DeepSeek-R1, a method that utilizes RL with human-friendly\\ncold-start data.\\n2.3. DeepSeek-R1: Reinforcement Learning with Cold Start\\nInspired by the promising results of DeepSeek-R1-Zero, two natural questions arise: 1) Can\\nreasoning performance be further improved or convergence accelerated by incorporating a small\\namount of high-quality data as a cold start? 2) How can we train a user-friendly model that\\nnot only produces clear and coherent Chains of Thought (CoT) but also demonstrates strong\\ngeneral capabilities? To address these questions, we design a pipeline to train DeepSeek-R1. The\\npipeline consists of four stages, outlined as follows.\\n2.3.1. Cold Start\\nUnlike DeepSeek-R1-Zero, to prevent the early unstable cold start phase of RL training from\\nthe base model, for DeepSeek-R1 we construct and collect a small amount of long CoT data\\nto fine-tune the model as the initial RL actor. To collect such data, we have explored several\\napproaches: using few-shot prompting with a long CoT as an example, directly prompting\\nmodels to generate detailed answers with reflection and verification, gathering DeepSeek-R1-\\nZero outputs in a readable format, and refining the results through post-processing by human\\nannotators.\\nIn this work, we collect thousands of cold-start data to fine-tune the DeepSeek-V3-Base as\\nthe starting point for RL. Compared to DeepSeek-R1-Zero, the advantages of cold start data\\n9', mimetype='text/plain', start_char_idx=724, end_char_idx=2687, metadata_seperator='\\n', text_template='{metadata_str}\\n\\n{content}'),\n",
       " TextNode(id_='475d8d1c-3852-45f3-bb09-7f344067efc6', embedding=None, metadata={'page_label': '10', 'file_name': 'deepseek-r1-paper.pdf', 'file_path': 'c:\\\\Users\\\\nazaizah\\\\OneDrive\\\\PycharmProjects\\\\rag-tutorial\\\\data\\\\deepseek-r1-paper.pdf', 'file_type': 'application/pdf', 'file_size': 1312189, 'creation_date': '2025-02-02', 'last_modified_date': '2025-02-02'}, excluded_embed_metadata_keys=['file_name', 'file_type', 'file_size', 'creation_date', 'last_modified_date', 'last_accessed_date'], excluded_llm_metadata_keys=['file_name', 'file_type', 'file_size', 'creation_date', 'last_modified_date', 'last_accessed_date'], relationships={<NodeRelationship.SOURCE: '1'>: RelatedNodeInfo(node_id='bc05be24-3eb1-4c25-ac24-373df6170e00', node_type=<ObjectType.DOCUMENT: '4'>, metadata={'page_label': '10', 'file_name': 'deepseek-r1-paper.pdf', 'file_path': 'c:\\\\Users\\\\nazaizah\\\\OneDrive\\\\PycharmProjects\\\\rag-tutorial\\\\data\\\\deepseek-r1-paper.pdf', 'file_type': 'application/pdf', 'file_size': 1312189, 'creation_date': '2025-02-02', 'last_modified_date': '2025-02-02'}, hash='fb082737bb25be5984727ddb9b47d5fcbdecda19fcdee043756ff77dfe810246'), <NodeRelationship.NEXT: '3'>: RelatedNodeInfo(node_id='85b371f7-30c6-4e13-a2a4-d936d21f048f', node_type=<ObjectType.TEXT: '1'>, metadata={}, hash='6145538e3c5bb418acf2fbdd37fbdc877c3864d0508d286d3449545c20272036')}, metadata_template='{key}: {value}', metadata_separator='\\n', text='include:\\n• Readability: A key limitation of DeepSeek-R1-Zero is that its content is often not suitable\\nfor reading. Responses may mix multiple languages or lack markdown formatting to\\nhighlight answers for users. In contrast, when creating cold-start data for DeepSeek-R1,\\nwe design a readable pattern that includes a summary at the end of each response and\\nfilters out responses that are not reader-friendly. Here, we define the output format as\\n|special_token|<reasoning_process>|special_token|<summary>, where the reasoning\\nprocess is the CoT for the query, and the summary is used to summarize the reasoning\\nresults.\\n• Potential: By carefully designing the pattern for cold-start data with human priors, we\\nobserve better performance against DeepSeek-R1-Zero. We believe the iterative training is\\na better way for reasoning models.\\n2.3.2. Reasoning-oriented Reinforcement Learning\\nAfter fine-tuning DeepSeek-V3-Base on the cold start data, we apply the same large-scale\\nreinforcement learning training process as employed in DeepSeek-R1-Zero. This phase focuses\\non enhancing the model’s reasoning capabilities, particularly in reasoning-intensive tasks such\\nas coding, mathematics, science, and logic reasoning, which involve well-defined problems with\\nclear solutions. During the training process, we observe that CoT often exhibits language mixing,\\nparticularly when RL prompts involve multiple languages. To mitigate the issue of language\\nmixing, we introduce a language consistency reward during RL training, which is calculated\\nas the proportion of target language words in the CoT. Although ablation experiments show\\nthat such alignment results in a slight degradation in the model’s performance, this reward\\naligns with human preferences, making it more readable. Finally, we combine the accuracy of\\nreasoning tasks and the reward for language consistency by directly summing them to form the\\nfinal reward. We then apply RL training on the fine-tuned model until it achieves convergence\\non reasoning tasks.\\n2.3.3.', mimetype='text/plain', start_char_idx=0, end_char_idx=2024, metadata_seperator='\\n', text_template='{metadata_str}\\n\\n{content}'),\n",
       " TextNode(id_='85b371f7-30c6-4e13-a2a4-d936d21f048f', embedding=None, metadata={'page_label': '10', 'file_name': 'deepseek-r1-paper.pdf', 'file_path': 'c:\\\\Users\\\\nazaizah\\\\OneDrive\\\\PycharmProjects\\\\rag-tutorial\\\\data\\\\deepseek-r1-paper.pdf', 'file_type': 'application/pdf', 'file_size': 1312189, 'creation_date': '2025-02-02', 'last_modified_date': '2025-02-02'}, excluded_embed_metadata_keys=['file_name', 'file_type', 'file_size', 'creation_date', 'last_modified_date', 'last_accessed_date'], excluded_llm_metadata_keys=['file_name', 'file_type', 'file_size', 'creation_date', 'last_modified_date', 'last_accessed_date'], relationships={<NodeRelationship.SOURCE: '1'>: RelatedNodeInfo(node_id='bc05be24-3eb1-4c25-ac24-373df6170e00', node_type=<ObjectType.DOCUMENT: '4'>, metadata={'page_label': '10', 'file_name': 'deepseek-r1-paper.pdf', 'file_path': 'c:\\\\Users\\\\nazaizah\\\\OneDrive\\\\PycharmProjects\\\\rag-tutorial\\\\data\\\\deepseek-r1-paper.pdf', 'file_type': 'application/pdf', 'file_size': 1312189, 'creation_date': '2025-02-02', 'last_modified_date': '2025-02-02'}, hash='fb082737bb25be5984727ddb9b47d5fcbdecda19fcdee043756ff77dfe810246'), <NodeRelationship.PREVIOUS: '2'>: RelatedNodeInfo(node_id='475d8d1c-3852-45f3-bb09-7f344067efc6', node_type=<ObjectType.TEXT: '1'>, metadata={'page_label': '10', 'file_name': 'deepseek-r1-paper.pdf', 'file_path': 'c:\\\\Users\\\\nazaizah\\\\OneDrive\\\\PycharmProjects\\\\rag-tutorial\\\\data\\\\deepseek-r1-paper.pdf', 'file_type': 'application/pdf', 'file_size': 1312189, 'creation_date': '2025-02-02', 'last_modified_date': '2025-02-02'}, hash='04513bcf596063561d1e8e09dd0dd59a49c07ffa75f7e78049faf17941822b6f')}, metadata_template='{key}: {value}', metadata_separator='\\n', text='We then apply RL training on the fine-tuned model until it achieves convergence\\non reasoning tasks.\\n2.3.3. Rejection Sampling and Supervised Fine-Tuning\\nWhen reasoning-oriented RL converges, we utilize the resulting checkpoint to collect SFT\\n(Supervised Fine-Tuning) data for the subsequent round. Unlike the initial cold-start data, which\\nprimarily focuses on reasoning, this stage incorporates data from other domains to enhance the\\nmodel’s capabilities in writing, role-playing, and other general-purpose tasks. Specifically, we\\ngenerate the data and fine-tune the model as described below.\\nReasoning data We curate reasoning prompts and generate reasoning trajectories by perform-\\ning rejection sampling from the checkpoint from the above RL training. In the previous stage,\\nwe only included data that could be evaluated using rule-based rewards. However, in this stage,\\nwe expand the dataset by incorporating additional data, some of which use a generative reward\\nmodel by feeding the ground-truth and model predictions into DeepSeek-V3 for judgment.\\nAdditionally, because the model output is sometimes chaotic and difficult to read, we have\\nfiltered out chain-of-thought with mixed languages, long parapraphs, and code blocks. For\\neach prompt, we sample multiple responses and retain only the correct ones. In total, we collect\\nabout 600k reasoning related training samples.\\n10', mimetype='text/plain', start_char_idx=1918, end_char_idx=3301, metadata_seperator='\\n', text_template='{metadata_str}\\n\\n{content}'),\n",
       " TextNode(id_='36c5c087-f60d-41a4-8e33-e2d3767aebca', embedding=None, metadata={'page_label': '11', 'file_name': 'deepseek-r1-paper.pdf', 'file_path': 'c:\\\\Users\\\\nazaizah\\\\OneDrive\\\\PycharmProjects\\\\rag-tutorial\\\\data\\\\deepseek-r1-paper.pdf', 'file_type': 'application/pdf', 'file_size': 1312189, 'creation_date': '2025-02-02', 'last_modified_date': '2025-02-02'}, excluded_embed_metadata_keys=['file_name', 'file_type', 'file_size', 'creation_date', 'last_modified_date', 'last_accessed_date'], excluded_llm_metadata_keys=['file_name', 'file_type', 'file_size', 'creation_date', 'last_modified_date', 'last_accessed_date'], relationships={<NodeRelationship.SOURCE: '1'>: RelatedNodeInfo(node_id='84fd2d34-e944-4fbf-95d9-3d68340a5fcc', node_type=<ObjectType.DOCUMENT: '4'>, metadata={'page_label': '11', 'file_name': 'deepseek-r1-paper.pdf', 'file_path': 'c:\\\\Users\\\\nazaizah\\\\OneDrive\\\\PycharmProjects\\\\rag-tutorial\\\\data\\\\deepseek-r1-paper.pdf', 'file_type': 'application/pdf', 'file_size': 1312189, 'creation_date': '2025-02-02', 'last_modified_date': '2025-02-02'}, hash='54126215cf9176cf4ecb1c047957685554fd062b8b1ff7cab2a5f67612e18875'), <NodeRelationship.NEXT: '3'>: RelatedNodeInfo(node_id='778e72fc-0314-43a7-a31a-4e4672aac000', node_type=<ObjectType.TEXT: '1'>, metadata={}, hash='33cf8772d9fb3ebd87d1ea5d4223e7eb61f89b22d0cffbb4a055b36373ab869c')}, metadata_template='{key}: {value}', metadata_separator='\\n', text='Non-Reasoning data For non-reasoning data, such as writing, factual QA, self-cognition,\\nand translation, we adopt the DeepSeek-V3 pipeline and reuse portions of the SFT dataset of\\nDeepSeek-V3. For certain non-reasoning tasks, we call DeepSeek-V3 to generate a potential\\nchain-of-thought before answering the question by prompting. However, for simpler queries,\\nsuch as “hello” we do not provide a CoT in response. In the end, we collected a total of\\napproximately 200k training samples that are unrelated to reasoning.\\nWe fine-tune DeepSeek-V3-Base for two epochs using the above curated dataset of about\\n800k samples.\\n2.3.4. Reinforcement Learning for all Scenarios\\nTo further align the model with human preferences, we implement a secondary reinforcement\\nlearning stage aimed at improving the model’s helpfulness and harmlessness while simultane-\\nously refining its reasoning capabilities. Specifically, we train the model using a combination\\nof reward signals and diverse prompt distributions. For reasoning data, we adhere to the\\nmethodology outlined in DeepSeek-R1-Zero, which utilizes rule-based rewards to guide the\\nlearning process in math, code, and logical reasoning domains. For general data, we resort to\\nreward models to capture human preferences in complex and nuanced scenarios. We build\\nupon the DeepSeek-V3 pipeline and adopt a similar distribution of preference pairs and train-\\ning prompts. For helpfulness, we focus exclusively on the final summary, ensuring that the\\nassessment emphasizes the utility and relevance of the response to the user while minimizing\\ninterference with the underlying reasoning process. For harmlessness, we evaluate the entire\\nresponse of the model, including both the reasoning process and the summary, to identify and\\nmitigate any potential risks, biases, or harmful content that may arise during the generation\\nprocess. Ultimately, the integration of reward signals and diverse data distributions enables us\\nto train a model that excels in reasoning while prioritizing helpfulness and harmlessness.\\n2.4.', mimetype='text/plain', start_char_idx=0, end_char_idx=2053, metadata_seperator='\\n', text_template='{metadata_str}\\n\\n{content}'),\n",
       " TextNode(id_='778e72fc-0314-43a7-a31a-4e4672aac000', embedding=None, metadata={'page_label': '11', 'file_name': 'deepseek-r1-paper.pdf', 'file_path': 'c:\\\\Users\\\\nazaizah\\\\OneDrive\\\\PycharmProjects\\\\rag-tutorial\\\\data\\\\deepseek-r1-paper.pdf', 'file_type': 'application/pdf', 'file_size': 1312189, 'creation_date': '2025-02-02', 'last_modified_date': '2025-02-02'}, excluded_embed_metadata_keys=['file_name', 'file_type', 'file_size', 'creation_date', 'last_modified_date', 'last_accessed_date'], excluded_llm_metadata_keys=['file_name', 'file_type', 'file_size', 'creation_date', 'last_modified_date', 'last_accessed_date'], relationships={<NodeRelationship.SOURCE: '1'>: RelatedNodeInfo(node_id='84fd2d34-e944-4fbf-95d9-3d68340a5fcc', node_type=<ObjectType.DOCUMENT: '4'>, metadata={'page_label': '11', 'file_name': 'deepseek-r1-paper.pdf', 'file_path': 'c:\\\\Users\\\\nazaizah\\\\OneDrive\\\\PycharmProjects\\\\rag-tutorial\\\\data\\\\deepseek-r1-paper.pdf', 'file_type': 'application/pdf', 'file_size': 1312189, 'creation_date': '2025-02-02', 'last_modified_date': '2025-02-02'}, hash='54126215cf9176cf4ecb1c047957685554fd062b8b1ff7cab2a5f67612e18875'), <NodeRelationship.PREVIOUS: '2'>: RelatedNodeInfo(node_id='36c5c087-f60d-41a4-8e33-e2d3767aebca', node_type=<ObjectType.TEXT: '1'>, metadata={'page_label': '11', 'file_name': 'deepseek-r1-paper.pdf', 'file_path': 'c:\\\\Users\\\\nazaizah\\\\OneDrive\\\\PycharmProjects\\\\rag-tutorial\\\\data\\\\deepseek-r1-paper.pdf', 'file_type': 'application/pdf', 'file_size': 1312189, 'creation_date': '2025-02-02', 'last_modified_date': '2025-02-02'}, hash='76125d5b1a1bd51cd3dafcf737b62043ba6cc3d9106f2c9be2b9a66e054dc42b')}, metadata_template='{key}: {value}', metadata_separator='\\n', text='Ultimately, the integration of reward signals and diverse data distributions enables us\\nto train a model that excels in reasoning while prioritizing helpfulness and harmlessness.\\n2.4. Distillation: Empower Small Models with Reasoning Capability\\nTo equip more efficient smaller models with reasoning capabilities like DeepSeek-R1, we directly\\nfine-tuned open-source models like Qwen (Qwen, 2024b) and Llama (AI@Meta, 2024) using\\nthe 800k samples curated with DeepSeek-R1, as detailed in §2.3.3. Our findings indicate that\\nthis straightforward distillation method significantly enhances the reasoning abilities of smaller\\nmodels. The base models we use here are Qwen2.5-Math-1.5B, Qwen2.5-Math-7B, Qwen2.5-\\n14B, Qwen2.5-32B, Llama-3.1-8B, and Llama-3.3-70B-Instruct. We select Llama-3.3 because its\\nreasoning capability is slightly better than that of Llama-3.1.\\nFor distilled models, we apply only SFT and do not include an RL stage, even though\\nincorporating RL could substantially boost model performance. Our primary goal here is to\\ndemonstrate the effectiveness of the distillation technique, leaving the exploration of the RL\\nstage to the broader research community.\\n3. Experiment\\nBenchmarks We evaluate models on MMLU (Hendrycks et al., 2020), MMLU-Redux (Gema\\net al., 2024), MMLU-Pro (Wang et al., 2024), C-Eval (Huang et al., 2023), and CMMLU (Li et al.,\\n2023), IFEval (Zhou et al., 2023), FRAMES (Krishna et al., 2024), GPQA Diamond (Rein et al.,\\n2023), SimpleQA (OpenAI, 2024c), C-SimpleQA (He et al., 2024), SWE-Bench Verified (OpenAI,\\n11', mimetype='text/plain', start_char_idx=1870, end_char_idx=3418, metadata_seperator='\\n', text_template='{metadata_str}\\n\\n{content}'),\n",
       " TextNode(id_='cd11a74e-4397-427b-978b-968e40480c1a', embedding=None, metadata={'page_label': '12', 'file_name': 'deepseek-r1-paper.pdf', 'file_path': 'c:\\\\Users\\\\nazaizah\\\\OneDrive\\\\PycharmProjects\\\\rag-tutorial\\\\data\\\\deepseek-r1-paper.pdf', 'file_type': 'application/pdf', 'file_size': 1312189, 'creation_date': '2025-02-02', 'last_modified_date': '2025-02-02'}, excluded_embed_metadata_keys=['file_name', 'file_type', 'file_size', 'creation_date', 'last_modified_date', 'last_accessed_date'], excluded_llm_metadata_keys=['file_name', 'file_type', 'file_size', 'creation_date', 'last_modified_date', 'last_accessed_date'], relationships={<NodeRelationship.SOURCE: '1'>: RelatedNodeInfo(node_id='26df9cda-0c0f-4175-9ea1-befadbc40d22', node_type=<ObjectType.DOCUMENT: '4'>, metadata={'page_label': '12', 'file_name': 'deepseek-r1-paper.pdf', 'file_path': 'c:\\\\Users\\\\nazaizah\\\\OneDrive\\\\PycharmProjects\\\\rag-tutorial\\\\data\\\\deepseek-r1-paper.pdf', 'file_type': 'application/pdf', 'file_size': 1312189, 'creation_date': '2025-02-02', 'last_modified_date': '2025-02-02'}, hash='986625faf97e022a8c331c3afcf7a0b930b45115076658afc4e18fbf140fa957'), <NodeRelationship.NEXT: '3'>: RelatedNodeInfo(node_id='bbdb2170-3c48-4654-a93b-ff3429885202', node_type=<ObjectType.TEXT: '1'>, metadata={}, hash='554377b3dc7662145740f91ec3c95d4fbd5c338706575b7d2e5d287e76cbf20c')}, metadata_template='{key}: {value}', metadata_separator='\\n', text='2024d), Aider 1, LiveCodeBench (Jain et al., 2024) (2024-08 – 2025-01), Codeforces 2, Chinese\\nNational High School Mathematics Olympiad (CNMO 2024)3, and American Invitational Math-\\nematics Examination 2024 (AIME 2024) (MAA, 2024). In addition to standard benchmarks, we\\nalso evaluate our models on open-ended generation tasks using LLMs as judges. Specifically, we\\nadhere to the original configurations of AlpacaEval 2.0 (Dubois et al., 2024) and Arena-Hard (Li\\net al., 2024), which leverage GPT-4-Turbo-1106 as judges for pairwise comparisons. Here, we\\nonly feed the final summary to evaluation to avoid the length bias. For distilled models, we\\nreport representative results on AIME 2024, MATH-500, GPQA Diamond, Codeforces, and\\nLiveCodeBench.\\nEvaluation Prompts Following the setup in DeepSeek-V3, standard benchmarks such as\\nMMLU, DROP , GPQA Diamond, and SimpleQA are evaluated using prompts from the simple-\\nevals framework. For MMLU-Redux, we adopt the Zero-Eval prompt format (Lin, 2024) in a\\nzero-shot setting. In terms of MMLU-Pro, C-Eval and CLUE-WSC, since the original prompts\\nare few-shot, we slightly modify the prompt to the zero-shot setting. The CoT in few-shot\\nmay hurt the performance of DeepSeek-R1. Other datasets follow their original evaluation\\nprotocols with default prompts provided by their creators. For code and math benchmarks, the\\nHumanEval-Mul dataset covers eight mainstream programming languages (Python, Java, C++,\\nC#, JavaScript, TypeScript, PHP , and Bash). Model performance on LiveCodeBench is evaluated\\nusing CoT format, with data collected between August 2024 and January 2025.', mimetype='text/plain', start_char_idx=0, end_char_idx=1619, metadata_seperator='\\n', text_template='{metadata_str}\\n\\n{content}'),\n",
       " TextNode(id_='bbdb2170-3c48-4654-a93b-ff3429885202', embedding=None, metadata={'page_label': '12', 'file_name': 'deepseek-r1-paper.pdf', 'file_path': 'c:\\\\Users\\\\nazaizah\\\\OneDrive\\\\PycharmProjects\\\\rag-tutorial\\\\data\\\\deepseek-r1-paper.pdf', 'file_type': 'application/pdf', 'file_size': 1312189, 'creation_date': '2025-02-02', 'last_modified_date': '2025-02-02'}, excluded_embed_metadata_keys=['file_name', 'file_type', 'file_size', 'creation_date', 'last_modified_date', 'last_accessed_date'], excluded_llm_metadata_keys=['file_name', 'file_type', 'file_size', 'creation_date', 'last_modified_date', 'last_accessed_date'], relationships={<NodeRelationship.SOURCE: '1'>: RelatedNodeInfo(node_id='26df9cda-0c0f-4175-9ea1-befadbc40d22', node_type=<ObjectType.DOCUMENT: '4'>, metadata={'page_label': '12', 'file_name': 'deepseek-r1-paper.pdf', 'file_path': 'c:\\\\Users\\\\nazaizah\\\\OneDrive\\\\PycharmProjects\\\\rag-tutorial\\\\data\\\\deepseek-r1-paper.pdf', 'file_type': 'application/pdf', 'file_size': 1312189, 'creation_date': '2025-02-02', 'last_modified_date': '2025-02-02'}, hash='986625faf97e022a8c331c3afcf7a0b930b45115076658afc4e18fbf140fa957'), <NodeRelationship.PREVIOUS: '2'>: RelatedNodeInfo(node_id='cd11a74e-4397-427b-978b-968e40480c1a', node_type=<ObjectType.TEXT: '1'>, metadata={'page_label': '12', 'file_name': 'deepseek-r1-paper.pdf', 'file_path': 'c:\\\\Users\\\\nazaizah\\\\OneDrive\\\\PycharmProjects\\\\rag-tutorial\\\\data\\\\deepseek-r1-paper.pdf', 'file_type': 'application/pdf', 'file_size': 1312189, 'creation_date': '2025-02-02', 'last_modified_date': '2025-02-02'}, hash='a41b6c1d82bb4ebb4dab9cd2efc85c239b4138c2ee1770a5718917ef3581c608'), <NodeRelationship.NEXT: '3'>: RelatedNodeInfo(node_id='a88c186a-502b-47e7-a0e0-104815ecd461', node_type=<ObjectType.TEXT: '1'>, metadata={}, hash='5d5bf4ee0b3488bd783be2d790136fd88ca64270ee671147445d530c74736514')}, metadata_template='{key}: {value}', metadata_separator='\\n', text='Model performance on LiveCodeBench is evaluated\\nusing CoT format, with data collected between August 2024 and January 2025. The Codeforces\\ndataset is evaluated using problems from 10 Div.2 contests along with expert-crafted test cases,\\nafter which the expected ratings and percentages of competitors are calculated. SWE-Bench\\nverified results are obtained via the agentless framework (Xia et al., 2024). AIDER-related\\nbenchmarks are measured using a \"diff\" format. DeepSeek-R1 outputs are capped at a maximum\\nof 32,768 tokens for each benchmark.\\nBaselines We conduct comprehensive evaluations against several strong baselines, including\\nDeepSeek-V3, Claude-Sonnet-3.5-1022, GPT-4o-0513, OpenAI-o1-mini, and OpenAI-o1-1217.\\nSince accessing the OpenAI-o1-1217 API is challenging in mainland China, we report its perfor-\\nmance based on official reports. For distilled models, we also compare the open-source model\\nQwQ-32B-Preview (Qwen, 2024a).\\nEvaluation Setup We set the maximum generation length to 32,768 tokens for the models.\\nWe found that using greedy decoding to evaluate long-output reasoning models results in\\nhigher repetition rates and significant variability across different checkpoints. Therefore, we\\ndefault to pass@𝑘evaluation (Chen et al., 2021) and report pass@1 using a non-zero temperature.\\nSpecifically, we use a sampling temperature of 0.6 and a top- 𝑝 value of 0.95 to generate 𝑘\\nresponses (typically between 4 and 64, depending on the test set size) for each question. Pass@1\\nis then calculated as\\npass@1 = 1\\n𝑘\\n𝑘∑︁\\n𝑖=1\\n𝑝𝑖,\\nwhere 𝑝𝑖 denotes the correctness of the 𝑖-th response. This method provides more reliable\\nperformance estimates.', mimetype='text/plain', start_char_idx=1496, end_char_idx=3153, metadata_seperator='\\n', text_template='{metadata_str}\\n\\n{content}'),\n",
       " TextNode(id_='a88c186a-502b-47e7-a0e0-104815ecd461', embedding=None, metadata={'page_label': '12', 'file_name': 'deepseek-r1-paper.pdf', 'file_path': 'c:\\\\Users\\\\nazaizah\\\\OneDrive\\\\PycharmProjects\\\\rag-tutorial\\\\data\\\\deepseek-r1-paper.pdf', 'file_type': 'application/pdf', 'file_size': 1312189, 'creation_date': '2025-02-02', 'last_modified_date': '2025-02-02'}, excluded_embed_metadata_keys=['file_name', 'file_type', 'file_size', 'creation_date', 'last_modified_date', 'last_accessed_date'], excluded_llm_metadata_keys=['file_name', 'file_type', 'file_size', 'creation_date', 'last_modified_date', 'last_accessed_date'], relationships={<NodeRelationship.SOURCE: '1'>: RelatedNodeInfo(node_id='26df9cda-0c0f-4175-9ea1-befadbc40d22', node_type=<ObjectType.DOCUMENT: '4'>, metadata={'page_label': '12', 'file_name': 'deepseek-r1-paper.pdf', 'file_path': 'c:\\\\Users\\\\nazaizah\\\\OneDrive\\\\PycharmProjects\\\\rag-tutorial\\\\data\\\\deepseek-r1-paper.pdf', 'file_type': 'application/pdf', 'file_size': 1312189, 'creation_date': '2025-02-02', 'last_modified_date': '2025-02-02'}, hash='986625faf97e022a8c331c3afcf7a0b930b45115076658afc4e18fbf140fa957'), <NodeRelationship.PREVIOUS: '2'>: RelatedNodeInfo(node_id='bbdb2170-3c48-4654-a93b-ff3429885202', node_type=<ObjectType.TEXT: '1'>, metadata={'page_label': '12', 'file_name': 'deepseek-r1-paper.pdf', 'file_path': 'c:\\\\Users\\\\nazaizah\\\\OneDrive\\\\PycharmProjects\\\\rag-tutorial\\\\data\\\\deepseek-r1-paper.pdf', 'file_type': 'application/pdf', 'file_size': 1312189, 'creation_date': '2025-02-02', 'last_modified_date': '2025-02-02'}, hash='1cee1a12f23f84fb8a17c5bfce79d405566c18540278351334a0bd48ed1c928a')}, metadata_template='{key}: {value}', metadata_separator='\\n', text='This method provides more reliable\\nperformance estimates. For AIME 2024, we also report consensus (majority vote) results (Wang\\net al., 2022) using 64 samples, denoted as cons@64.\\n1https://aider.chat\\n2https://codeforces.com\\n3https://www.cms.org.cn/Home/comp/comp/cid/12.html\\n12', mimetype='text/plain', start_char_idx=3096, end_char_idx=3373, metadata_seperator='\\n', text_template='{metadata_str}\\n\\n{content}'),\n",
       " TextNode(id_='a741d8f2-e965-414a-96c6-88a86d50e45b', embedding=None, metadata={'page_label': '13', 'file_name': 'deepseek-r1-paper.pdf', 'file_path': 'c:\\\\Users\\\\nazaizah\\\\OneDrive\\\\PycharmProjects\\\\rag-tutorial\\\\data\\\\deepseek-r1-paper.pdf', 'file_type': 'application/pdf', 'file_size': 1312189, 'creation_date': '2025-02-02', 'last_modified_date': '2025-02-02'}, excluded_embed_metadata_keys=['file_name', 'file_type', 'file_size', 'creation_date', 'last_modified_date', 'last_accessed_date'], excluded_llm_metadata_keys=['file_name', 'file_type', 'file_size', 'creation_date', 'last_modified_date', 'last_accessed_date'], relationships={<NodeRelationship.SOURCE: '1'>: RelatedNodeInfo(node_id='7d335607-4d9b-4b8c-aeaf-5072eefb85c3', node_type=<ObjectType.DOCUMENT: '4'>, metadata={'page_label': '13', 'file_name': 'deepseek-r1-paper.pdf', 'file_path': 'c:\\\\Users\\\\nazaizah\\\\OneDrive\\\\PycharmProjects\\\\rag-tutorial\\\\data\\\\deepseek-r1-paper.pdf', 'file_type': 'application/pdf', 'file_size': 1312189, 'creation_date': '2025-02-02', 'last_modified_date': '2025-02-02'}, hash='b04a0ee8a199a521c3223eec689384e886ed0fd83d6b6e40da2536a6002e2889'), <NodeRelationship.NEXT: '3'>: RelatedNodeInfo(node_id='2271e98f-71c5-44d1-a884-2e06b236967a', node_type=<ObjectType.TEXT: '1'>, metadata={}, hash='b1d759ded485ba07a7a52f2e12821a855ee1bf4e8776ca707ed4cd13ed5ae0f4')}, metadata_template='{key}: {value}', metadata_separator='\\n', text='3.1. DeepSeek-R1 Evaluation\\nBenchmark (Metric)\\nClaude-3.5- GPT-4o DeepSeek OpenAI OpenAI DeepSeek\\nSonnet-1022 0513 V3 o1-mini o1-1217 R1\\nArchitecture - - MoE - - MoE\\n# Activated Params - - 37B - - 37B\\n# Total Params - - 671B - - 671B\\nEnglish\\nMMLU (Pass@1) 88.3 87.2 88.5 85.2 91.8 90.8\\nMMLU-Redux (EM) 88.9 88.0 89.1 86.7 - 92.9\\nMMLU-Pro (EM) 78.0 72.6 75.9 80.3 - 84.0\\nDROP (3-shot F1) 88.3 83.7 91.6 83.9 90.2 92.2\\nIF-Eval (Prompt Strict) 86.5 84.3 86.1 84.8 - 83.3\\nGPQA Diamond (Pass@1) 65.0 49.9 59.1 60.0 75.7 71.5\\nSimpleQA (Correct) 28.4 38.2 24.9 7.0 47.0 30.1\\nFRAMES (Acc.)', mimetype='text/plain', start_char_idx=0, end_char_idx=581, metadata_seperator='\\n', text_template='{metadata_str}\\n\\n{content}'),\n",
       " TextNode(id_='2271e98f-71c5-44d1-a884-2e06b236967a', embedding=None, metadata={'page_label': '13', 'file_name': 'deepseek-r1-paper.pdf', 'file_path': 'c:\\\\Users\\\\nazaizah\\\\OneDrive\\\\PycharmProjects\\\\rag-tutorial\\\\data\\\\deepseek-r1-paper.pdf', 'file_type': 'application/pdf', 'file_size': 1312189, 'creation_date': '2025-02-02', 'last_modified_date': '2025-02-02'}, excluded_embed_metadata_keys=['file_name', 'file_type', 'file_size', 'creation_date', 'last_modified_date', 'last_accessed_date'], excluded_llm_metadata_keys=['file_name', 'file_type', 'file_size', 'creation_date', 'last_modified_date', 'last_accessed_date'], relationships={<NodeRelationship.SOURCE: '1'>: RelatedNodeInfo(node_id='7d335607-4d9b-4b8c-aeaf-5072eefb85c3', node_type=<ObjectType.DOCUMENT: '4'>, metadata={'page_label': '13', 'file_name': 'deepseek-r1-paper.pdf', 'file_path': 'c:\\\\Users\\\\nazaizah\\\\OneDrive\\\\PycharmProjects\\\\rag-tutorial\\\\data\\\\deepseek-r1-paper.pdf', 'file_type': 'application/pdf', 'file_size': 1312189, 'creation_date': '2025-02-02', 'last_modified_date': '2025-02-02'}, hash='b04a0ee8a199a521c3223eec689384e886ed0fd83d6b6e40da2536a6002e2889'), <NodeRelationship.PREVIOUS: '2'>: RelatedNodeInfo(node_id='a741d8f2-e965-414a-96c6-88a86d50e45b', node_type=<ObjectType.TEXT: '1'>, metadata={'page_label': '13', 'file_name': 'deepseek-r1-paper.pdf', 'file_path': 'c:\\\\Users\\\\nazaizah\\\\OneDrive\\\\PycharmProjects\\\\rag-tutorial\\\\data\\\\deepseek-r1-paper.pdf', 'file_type': 'application/pdf', 'file_size': 1312189, 'creation_date': '2025-02-02', 'last_modified_date': '2025-02-02'}, hash='8fffc5332153d52e795d8785e1f78f459d542a490a9231f8b45892a532a6f254'), <NodeRelationship.NEXT: '3'>: RelatedNodeInfo(node_id='baf92cb4-1436-4b7b-a743-1f3856dd369a', node_type=<ObjectType.TEXT: '1'>, metadata={}, hash='339fec1263db40907eecab0204f4cbb6a5d5a5bc38531fdb313132816660590f')}, metadata_template='{key}: {value}', metadata_separator='\\n', text='72.5 80.5 73.3 76.9 - 82.5\\nAlpacaEval2.0 (LC-winrate) 52.0 51.1 70.0 57.8 - 87.6\\nArenaHard (GPT-4-1106) 85.2 80.4 85.5 92.0 - 92.3\\nCode\\nLiveCodeBench (Pass@1-COT) 38.9 32.9 36.2 53.8 63.4 65.9\\nCodeforces (Percentile) 20.3 23.6 58.7 93.4 96.6 96.3\\nCodeforces (Rating) 717 759 1134 1820 2061 2029\\nSWE Verified (Resolved) 50.8 38.8 42.0 41.6 48.9 49.2\\nAider-Polyglot (Acc.) 45.3 16.0 49.6 32.9 61.7 53.3\\nMath\\nAIME 2024 (Pass@1) 16.0 9.3 39.2 63.6 79.2 79.8\\nMATH-500 (Pass@1) 78.3 74.6 90.2 90.0 96.4 97.3\\nCNMO 2024 (Pass@1) 13.1 10.8 43.2 67.6 - 78.8\\nChinese\\nCLUEWSC (EM) 85.4 87.9 90.9 89.9 - 92.8\\nC-Eval (EM) 76.7 76.0 86.5 68.9 - 91.8\\nC-SimpleQA (Correct) 55.4 58.7 68.0 40.3 - 63.7\\nTable 4 |Comparison between DeepSeek-R1 and other representative models.', mimetype='text/plain', start_char_idx=582, end_char_idx=1337, metadata_seperator='\\n', text_template='{metadata_str}\\n\\n{content}'),\n",
       " TextNode(id_='baf92cb4-1436-4b7b-a743-1f3856dd369a', embedding=None, metadata={'page_label': '13', 'file_name': 'deepseek-r1-paper.pdf', 'file_path': 'c:\\\\Users\\\\nazaizah\\\\OneDrive\\\\PycharmProjects\\\\rag-tutorial\\\\data\\\\deepseek-r1-paper.pdf', 'file_type': 'application/pdf', 'file_size': 1312189, 'creation_date': '2025-02-02', 'last_modified_date': '2025-02-02'}, excluded_embed_metadata_keys=['file_name', 'file_type', 'file_size', 'creation_date', 'last_modified_date', 'last_accessed_date'], excluded_llm_metadata_keys=['file_name', 'file_type', 'file_size', 'creation_date', 'last_modified_date', 'last_accessed_date'], relationships={<NodeRelationship.SOURCE: '1'>: RelatedNodeInfo(node_id='7d335607-4d9b-4b8c-aeaf-5072eefb85c3', node_type=<ObjectType.DOCUMENT: '4'>, metadata={'page_label': '13', 'file_name': 'deepseek-r1-paper.pdf', 'file_path': 'c:\\\\Users\\\\nazaizah\\\\OneDrive\\\\PycharmProjects\\\\rag-tutorial\\\\data\\\\deepseek-r1-paper.pdf', 'file_type': 'application/pdf', 'file_size': 1312189, 'creation_date': '2025-02-02', 'last_modified_date': '2025-02-02'}, hash='b04a0ee8a199a521c3223eec689384e886ed0fd83d6b6e40da2536a6002e2889'), <NodeRelationship.PREVIOUS: '2'>: RelatedNodeInfo(node_id='2271e98f-71c5-44d1-a884-2e06b236967a', node_type=<ObjectType.TEXT: '1'>, metadata={'page_label': '13', 'file_name': 'deepseek-r1-paper.pdf', 'file_path': 'c:\\\\Users\\\\nazaizah\\\\OneDrive\\\\PycharmProjects\\\\rag-tutorial\\\\data\\\\deepseek-r1-paper.pdf', 'file_type': 'application/pdf', 'file_size': 1312189, 'creation_date': '2025-02-02', 'last_modified_date': '2025-02-02'}, hash='9152c8d0c7aa2c4ec46b254246ca900a100430d8bb22d6b1fa64fceee5e39d4a')}, metadata_template='{key}: {value}', metadata_separator='\\n', text='For education-oriented knowledge benchmarks such as MMLU, MMLU-Pro, and GPQA\\nDiamond, DeepSeek-R1 demonstrates superior performance compared to DeepSeek-V3. This im-\\nprovement is primarily attributed to enhanced accuracy in STEM-related questions, where signif-\\nicant gains are achieved through large-scale reinforcement learning. Additionally, DeepSeek-R1\\nexcels on FRAMES, a long-context-dependent QA task, showcasing its strong document analysis\\ncapabilities. This highlights the potential of reasoning models in AI-driven search and data\\nanalysis tasks. On the factual benchmark SimpleQA, DeepSeek-R1 outperforms DeepSeek-V3,\\ndemonstrating its capability in handling fact-based queries. A similar trend is observed where\\nOpenAI-o1 surpasses GPT-4o on this benchmark. However, DeepSeek-R1 performs worse than\\nDeepSeek-V3 on the Chinese SimpleQA benchmark, primarily due to its tendency to refuse\\nanswering certain queries after safety RL. Without safety RL, DeepSeek-R1 could achieve an\\naccuracy of over 70%.\\nDeepSeek-R1 also delivers impressive results on IF-Eval, a benchmark designed to assess a\\nmodel’s ability to follow format instructions. These improvements can be linked to the inclusion\\nof instruction-following data during the final stages of supervised fine-tuning (SFT) and RL\\ntraining. Furthermore, remarkable performance is observed on AlpacaEval2.0 and ArenaHard,\\nindicating DeepSeek-R1’s strengths in writing tasks and open-domain question answering. Its\\nsignificant outperformance of DeepSeek-V3 underscores the generalization benefits of large-scale\\nRL, which not only boosts reasoning capabilities but also improves performance across diverse\\ndomains. Moreover, the summary lengths generated by DeepSeek-R1 are concise, with an\\naverage of 689 tokens on ArenaHard and 2,218 characters on AlpacaEval 2.0. This indicates that\\n13', mimetype='text/plain', start_char_idx=1338, end_char_idx=3185, metadata_seperator='\\n', text_template='{metadata_str}\\n\\n{content}'),\n",
       " TextNode(id_='ac6cd866-773a-45c7-998e-6a6f478ee8ef', embedding=None, metadata={'page_label': '14', 'file_name': 'deepseek-r1-paper.pdf', 'file_path': 'c:\\\\Users\\\\nazaizah\\\\OneDrive\\\\PycharmProjects\\\\rag-tutorial\\\\data\\\\deepseek-r1-paper.pdf', 'file_type': 'application/pdf', 'file_size': 1312189, 'creation_date': '2025-02-02', 'last_modified_date': '2025-02-02'}, excluded_embed_metadata_keys=['file_name', 'file_type', 'file_size', 'creation_date', 'last_modified_date', 'last_accessed_date'], excluded_llm_metadata_keys=['file_name', 'file_type', 'file_size', 'creation_date', 'last_modified_date', 'last_accessed_date'], relationships={<NodeRelationship.SOURCE: '1'>: RelatedNodeInfo(node_id='17dbca64-b821-4a20-a815-a7c86d37e92d', node_type=<ObjectType.DOCUMENT: '4'>, metadata={'page_label': '14', 'file_name': 'deepseek-r1-paper.pdf', 'file_path': 'c:\\\\Users\\\\nazaizah\\\\OneDrive\\\\PycharmProjects\\\\rag-tutorial\\\\data\\\\deepseek-r1-paper.pdf', 'file_type': 'application/pdf', 'file_size': 1312189, 'creation_date': '2025-02-02', 'last_modified_date': '2025-02-02'}, hash='c8d7cc28e23c125aa7bce7cfbff41d56c7531a83ac8859a736474532c666707a'), <NodeRelationship.NEXT: '3'>: RelatedNodeInfo(node_id='11034b25-16d3-4e91-9b16-3ff1bcb215a0', node_type=<ObjectType.TEXT: '1'>, metadata={}, hash='6dbba85dd493be7e0f05290a04257ae5f01f9929f95287ec97bf645d22ec3a28')}, metadata_template='{key}: {value}', metadata_separator='\\n', text='DeepSeek-R1 avoids introducing length bias during GPT-based evaluations, further solidifying\\nits robustness across multiple tasks.\\nOn math tasks, DeepSeek-R1 demonstrates performance on par with OpenAI-o1-1217,\\nsurpassing other models by a large margin. A similar trend is observed on coding algorithm\\ntasks, such as LiveCodeBench and Codeforces, where reasoning-focused models dominate these\\nbenchmarks. On engineering-oriented coding tasks, OpenAI-o1-1217 outperforms DeepSeek-R1\\non Aider but achieves comparable performance on SWE Verified. We believe the engineering\\nperformance of DeepSeek-R1 will improve in the next version, as the amount of related RL\\ntraining data currently remains very limited.\\n3.2.', mimetype='text/plain', start_char_idx=0, end_char_idx=710, metadata_seperator='\\n', text_template='{metadata_str}\\n\\n{content}'),\n",
       " TextNode(id_='11034b25-16d3-4e91-9b16-3ff1bcb215a0', embedding=None, metadata={'page_label': '14', 'file_name': 'deepseek-r1-paper.pdf', 'file_path': 'c:\\\\Users\\\\nazaizah\\\\OneDrive\\\\PycharmProjects\\\\rag-tutorial\\\\data\\\\deepseek-r1-paper.pdf', 'file_type': 'application/pdf', 'file_size': 1312189, 'creation_date': '2025-02-02', 'last_modified_date': '2025-02-02'}, excluded_embed_metadata_keys=['file_name', 'file_type', 'file_size', 'creation_date', 'last_modified_date', 'last_accessed_date'], excluded_llm_metadata_keys=['file_name', 'file_type', 'file_size', 'creation_date', 'last_modified_date', 'last_accessed_date'], relationships={<NodeRelationship.SOURCE: '1'>: RelatedNodeInfo(node_id='17dbca64-b821-4a20-a815-a7c86d37e92d', node_type=<ObjectType.DOCUMENT: '4'>, metadata={'page_label': '14', 'file_name': 'deepseek-r1-paper.pdf', 'file_path': 'c:\\\\Users\\\\nazaizah\\\\OneDrive\\\\PycharmProjects\\\\rag-tutorial\\\\data\\\\deepseek-r1-paper.pdf', 'file_type': 'application/pdf', 'file_size': 1312189, 'creation_date': '2025-02-02', 'last_modified_date': '2025-02-02'}, hash='c8d7cc28e23c125aa7bce7cfbff41d56c7531a83ac8859a736474532c666707a'), <NodeRelationship.PREVIOUS: '2'>: RelatedNodeInfo(node_id='ac6cd866-773a-45c7-998e-6a6f478ee8ef', node_type=<ObjectType.TEXT: '1'>, metadata={'page_label': '14', 'file_name': 'deepseek-r1-paper.pdf', 'file_path': 'c:\\\\Users\\\\nazaizah\\\\OneDrive\\\\PycharmProjects\\\\rag-tutorial\\\\data\\\\deepseek-r1-paper.pdf', 'file_type': 'application/pdf', 'file_size': 1312189, 'creation_date': '2025-02-02', 'last_modified_date': '2025-02-02'}, hash='ee75f6008ed9e2d7ba25df0eb29aa4df4a503e7d164c88330c2ee97a948607c5'), <NodeRelationship.NEXT: '3'>: RelatedNodeInfo(node_id='9429bdac-c585-4127-a7c0-0d9b9b4ac396', node_type=<ObjectType.TEXT: '1'>, metadata={}, hash='dd55cb3cef4d2d057e871388be26dc79bda89bff1354229d7e4a41f8eb5cc7bc')}, metadata_template='{key}: {value}', metadata_separator='\\n', text='We believe the engineering\\nperformance of DeepSeek-R1 will improve in the next version, as the amount of related RL\\ntraining data currently remains very limited.\\n3.2. Distilled Model Evaluation\\nModel AIME 2024 MATH-500 GPQA LiveCode CodeForcesDiamond Bench\\npass@1 cons@64 pass@1 pass@1 pass@1 rating\\nGPT-4o-0513 9.3 13.4 74.6 49.9 32.9 759\\nClaude-3.5-Sonnet-1022 16.0 26.7 78.3 65.0 38.9 717\\nOpenAI-o1-mini 63.6 80.0 90.0 60.0 53.8 1820\\nQwQ-32B-Preview 50.0 60.0 90.6 54.5 41.9 1316\\nDeepSeek-R1-Distill-Qwen-1.5B28.9 52.7 83.9 33.8 16.9 954\\nDeepSeek-R1-Distill-Qwen-7B 55.5 83.3 92.8 49.1 37.6 1189\\nDeepSeek-R1-Distill-Qwen-14B69.7 80.0 93.9 59.1 53.1 1481\\nDeepSeek-R1-Distill-Qwen-32B 72.6 83.3 94.3 62.1 57.2 1691\\nDeepSeek-R1-Distill-Llama-8B 50.4 80.0 89.1 49.0 39.6 1205\\nDeepSeek-R1-Distill-Llama-70B70.0 86.7 94.5 65.2 57.5 1633\\nTable 5 |Comparison of DeepSeek-R1 distilled models and other comparable models on\\nreasoning-related benchmarks.', mimetype='text/plain', start_char_idx=544, end_char_idx=1490, metadata_seperator='\\n', text_template='{metadata_str}\\n\\n{content}'),\n",
       " TextNode(id_='9429bdac-c585-4127-a7c0-0d9b9b4ac396', embedding=None, metadata={'page_label': '14', 'file_name': 'deepseek-r1-paper.pdf', 'file_path': 'c:\\\\Users\\\\nazaizah\\\\OneDrive\\\\PycharmProjects\\\\rag-tutorial\\\\data\\\\deepseek-r1-paper.pdf', 'file_type': 'application/pdf', 'file_size': 1312189, 'creation_date': '2025-02-02', 'last_modified_date': '2025-02-02'}, excluded_embed_metadata_keys=['file_name', 'file_type', 'file_size', 'creation_date', 'last_modified_date', 'last_accessed_date'], excluded_llm_metadata_keys=['file_name', 'file_type', 'file_size', 'creation_date', 'last_modified_date', 'last_accessed_date'], relationships={<NodeRelationship.SOURCE: '1'>: RelatedNodeInfo(node_id='17dbca64-b821-4a20-a815-a7c86d37e92d', node_type=<ObjectType.DOCUMENT: '4'>, metadata={'page_label': '14', 'file_name': 'deepseek-r1-paper.pdf', 'file_path': 'c:\\\\Users\\\\nazaizah\\\\OneDrive\\\\PycharmProjects\\\\rag-tutorial\\\\data\\\\deepseek-r1-paper.pdf', 'file_type': 'application/pdf', 'file_size': 1312189, 'creation_date': '2025-02-02', 'last_modified_date': '2025-02-02'}, hash='c8d7cc28e23c125aa7bce7cfbff41d56c7531a83ac8859a736474532c666707a'), <NodeRelationship.PREVIOUS: '2'>: RelatedNodeInfo(node_id='11034b25-16d3-4e91-9b16-3ff1bcb215a0', node_type=<ObjectType.TEXT: '1'>, metadata={'page_label': '14', 'file_name': 'deepseek-r1-paper.pdf', 'file_path': 'c:\\\\Users\\\\nazaizah\\\\OneDrive\\\\PycharmProjects\\\\rag-tutorial\\\\data\\\\deepseek-r1-paper.pdf', 'file_type': 'application/pdf', 'file_size': 1312189, 'creation_date': '2025-02-02', 'last_modified_date': '2025-02-02'}, hash='8fa0c78dfa933d8225ce77a33abc8c037d075549f74fcd423d8fc7fa3048f5d7')}, metadata_template='{key}: {value}', metadata_separator='\\n', text='As shown in Table 5, simply distilling DeepSeek-R1’s outputs enables the efficient DeepSeek-\\nR1-7B (i.e., DeepSeek-R1-Distill-Qwen-7B, abbreviated similarly below) to outperform non-\\nreasoning models like GPT-4o-0513 across the board. DeepSeek-R1-14B surpasses QwQ-32B-\\nPreview on all evaluation metrics, while DeepSeek-R1-32B and DeepSeek-R1-70B significantly\\nexceed o1-mini on most benchmarks. These results demonstrate the strong potential of distilla-\\ntion. Additionally, we found that applying RL to these distilled models yields significant further\\ngains. We believe this warrants further exploration and therefore present only the results of the\\nsimple SFT-distilled models here.\\n4. Discussion\\n4.1. Distillation v.s. Reinforcement Learning\\nIn Section 3.2, we can see that by distilling DeepSeek-R1, the small model can achieve impressive\\nresults. However, there is still one question left: can the model achieve comparable performance\\nthrough the large-scale RL training discussed in the paper without distillation?\\nTo answer this question, we conduct large-scale RL training on Qwen-32B-Base using math,\\ncode, and STEM data, training for over 10K steps, resulting in DeepSeek-R1-Zero-Qwen-32B. The\\nexperimental results, shown in Table 6, demonstrate that the 32B base model, after large-scale\\n14', mimetype='text/plain', start_char_idx=1491, end_char_idx=2794, metadata_seperator='\\n', text_template='{metadata_str}\\n\\n{content}'),\n",
       " TextNode(id_='4a8b8ed9-91ac-448d-a954-3dae6ed0b6c6', embedding=None, metadata={'page_label': '15', 'file_name': 'deepseek-r1-paper.pdf', 'file_path': 'c:\\\\Users\\\\nazaizah\\\\OneDrive\\\\PycharmProjects\\\\rag-tutorial\\\\data\\\\deepseek-r1-paper.pdf', 'file_type': 'application/pdf', 'file_size': 1312189, 'creation_date': '2025-02-02', 'last_modified_date': '2025-02-02'}, excluded_embed_metadata_keys=['file_name', 'file_type', 'file_size', 'creation_date', 'last_modified_date', 'last_accessed_date'], excluded_llm_metadata_keys=['file_name', 'file_type', 'file_size', 'creation_date', 'last_modified_date', 'last_accessed_date'], relationships={<NodeRelationship.SOURCE: '1'>: RelatedNodeInfo(node_id='f33c09a9-7f4d-4835-ae22-d79a5b6b8c3d', node_type=<ObjectType.DOCUMENT: '4'>, metadata={'page_label': '15', 'file_name': 'deepseek-r1-paper.pdf', 'file_path': 'c:\\\\Users\\\\nazaizah\\\\OneDrive\\\\PycharmProjects\\\\rag-tutorial\\\\data\\\\deepseek-r1-paper.pdf', 'file_type': 'application/pdf', 'file_size': 1312189, 'creation_date': '2025-02-02', 'last_modified_date': '2025-02-02'}, hash='4f0aaa2322508ec7ac919d8356f6a45a60b5fc94b73000829b090a9c36ce1be2'), <NodeRelationship.NEXT: '3'>: RelatedNodeInfo(node_id='6c57b5ac-2ee8-40bb-9063-948e366de0be', node_type=<ObjectType.TEXT: '1'>, metadata={}, hash='f7fe96b675e1ecfdab99a43bfa370a362986ebb0178d70f9a395302cbe1eff69')}, metadata_template='{key}: {value}', metadata_separator='\\n', text='Model\\nAIME 2024 MATH-500 GPQA Diamond LiveCodeBench\\npass@1 cons@64 pass@1 pass@1 pass@1\\nQwQ-32B-Preview 50.0 60.0 90.6 54.5 41.9\\nDeepSeek-R1-Zero-Qwen-32B 47.0 60.0 91.6 55.0 40.2\\nDeepSeek-R1-Distill-Qwen-32B 72.6 83.3 94.3 62.1 57.2\\nTable 6 |Comparison of distilled and RL Models on Reasoning-Related Benchmarks.\\nRL training, achieves performance on par with QwQ-32B-Preview. However, DeepSeek-R1-\\nDistill-Qwen-32B, which is distilled from DeepSeek-R1, performs significantly better than\\nDeepSeek-R1-Zero-Qwen-32B across all benchmarks.\\nTherefore, we can draw two conclusions: First, distilling more powerful models into smaller\\nones yields excellent results, whereas smaller models relying on the large-scale RL mentioned in\\nthis paper require enormous computational power and may not even achieve the performance\\nof distillation. Second, while distillation strategies are both economical and effective, advancing\\nbeyond the boundaries of intelligence may still require more powerful base models and larger-\\nscale reinforcement learning.\\n4.2. Unsuccessful Attempts\\nIn the early stages of developing DeepSeek-R1, we also encountered failures and setbacks along\\nthe way. We share our failure experiences here to provide insights, but this does not imply that\\nthese approaches are incapable of developing effective reasoning models.\\nProcess Reward Model (PRM)PRM is a reasonable method to guide the model toward better\\napproaches for solving reasoning tasks (Lightman et al., 2023; Uesato et al., 2022; Wang et al.,\\n2023). However, in practice, PRM has three main limitations that may hinder its ultimate suc-\\ncess. First, it is challenging to explicitly define a fine-grain step in general reasoning.', mimetype='text/plain', start_char_idx=0, end_char_idx=1700, metadata_seperator='\\n', text_template='{metadata_str}\\n\\n{content}'),\n",
       " TextNode(id_='6c57b5ac-2ee8-40bb-9063-948e366de0be', embedding=None, metadata={'page_label': '15', 'file_name': 'deepseek-r1-paper.pdf', 'file_path': 'c:\\\\Users\\\\nazaizah\\\\OneDrive\\\\PycharmProjects\\\\rag-tutorial\\\\data\\\\deepseek-r1-paper.pdf', 'file_type': 'application/pdf', 'file_size': 1312189, 'creation_date': '2025-02-02', 'last_modified_date': '2025-02-02'}, excluded_embed_metadata_keys=['file_name', 'file_type', 'file_size', 'creation_date', 'last_modified_date', 'last_accessed_date'], excluded_llm_metadata_keys=['file_name', 'file_type', 'file_size', 'creation_date', 'last_modified_date', 'last_accessed_date'], relationships={<NodeRelationship.SOURCE: '1'>: RelatedNodeInfo(node_id='f33c09a9-7f4d-4835-ae22-d79a5b6b8c3d', node_type=<ObjectType.DOCUMENT: '4'>, metadata={'page_label': '15', 'file_name': 'deepseek-r1-paper.pdf', 'file_path': 'c:\\\\Users\\\\nazaizah\\\\OneDrive\\\\PycharmProjects\\\\rag-tutorial\\\\data\\\\deepseek-r1-paper.pdf', 'file_type': 'application/pdf', 'file_size': 1312189, 'creation_date': '2025-02-02', 'last_modified_date': '2025-02-02'}, hash='4f0aaa2322508ec7ac919d8356f6a45a60b5fc94b73000829b090a9c36ce1be2'), <NodeRelationship.PREVIOUS: '2'>: RelatedNodeInfo(node_id='4a8b8ed9-91ac-448d-a954-3dae6ed0b6c6', node_type=<ObjectType.TEXT: '1'>, metadata={'page_label': '15', 'file_name': 'deepseek-r1-paper.pdf', 'file_path': 'c:\\\\Users\\\\nazaizah\\\\OneDrive\\\\PycharmProjects\\\\rag-tutorial\\\\data\\\\deepseek-r1-paper.pdf', 'file_type': 'application/pdf', 'file_size': 1312189, 'creation_date': '2025-02-02', 'last_modified_date': '2025-02-02'}, hash='712b457cb0cdf878c62caf0a2b53f293bafb10744228181f8bb19e35f9d7afc0')}, metadata_template='{key}: {value}', metadata_separator='\\n', text='However, in practice, PRM has three main limitations that may hinder its ultimate suc-\\ncess. First, it is challenging to explicitly define a fine-grain step in general reasoning. Second,\\ndetermining whether the current intermediate step is correct is a challenging task. Automated\\nannotation using models may not yield satisfactory results, while manual annotation is not con-\\nducive to scaling up. Third, once a model-based PRM is introduced, it inevitably leads to reward\\nhacking (Gao et al., 2022), and retraining the reward model needs additional training resources\\nand it complicates the whole training pipeline. In conclusion, while PRM demonstrates a good\\nability to rerank the top-N responses generated by the model or assist in guided search (Snell\\net al., 2024), its advantages are limited compared to the additional computational overhead it\\nintroduces during the large-scale reinforcement learning process in our experiments.\\nMonte Carlo Tree Search (MCTS)Inspired by AlphaGo (Silver et al., 2017b) and AlphaZero (Sil-\\nver et al., 2017a), we explored using Monte Carlo Tree Search (MCTS) to enhance test-time\\ncompute scalability. This approach involves breaking answers into smaller parts to allow the\\nmodel to explore the solution space systematically. To facilitate this, we prompt the model to\\ngenerate multiple tags that correspond to specific reasoning steps necessary for the search. For\\ntraining, we first use collected prompts to find answers via MCTS guided by a pre-trained value\\nmodel. Subsequently, we use the resulting question-answer pairs to train both the actor model\\nand the value model, iteratively refining the process.\\nHowever, this approach encounters several challenges when scaling up the training. First,\\nunlike chess, where the search space is relatively well-defined, token generation presents an\\n15', mimetype='text/plain', start_char_idx=1522, end_char_idx=3359, metadata_seperator='\\n', text_template='{metadata_str}\\n\\n{content}'),\n",
       " TextNode(id_='04902f50-1607-422b-b1ed-4128773035d3', embedding=None, metadata={'page_label': '16', 'file_name': 'deepseek-r1-paper.pdf', 'file_path': 'c:\\\\Users\\\\nazaizah\\\\OneDrive\\\\PycharmProjects\\\\rag-tutorial\\\\data\\\\deepseek-r1-paper.pdf', 'file_type': 'application/pdf', 'file_size': 1312189, 'creation_date': '2025-02-02', 'last_modified_date': '2025-02-02'}, excluded_embed_metadata_keys=['file_name', 'file_type', 'file_size', 'creation_date', 'last_modified_date', 'last_accessed_date'], excluded_llm_metadata_keys=['file_name', 'file_type', 'file_size', 'creation_date', 'last_modified_date', 'last_accessed_date'], relationships={<NodeRelationship.SOURCE: '1'>: RelatedNodeInfo(node_id='4ef60666-dcc6-4cf5-8072-0ab2f5e5a874', node_type=<ObjectType.DOCUMENT: '4'>, metadata={'page_label': '16', 'file_name': 'deepseek-r1-paper.pdf', 'file_path': 'c:\\\\Users\\\\nazaizah\\\\OneDrive\\\\PycharmProjects\\\\rag-tutorial\\\\data\\\\deepseek-r1-paper.pdf', 'file_type': 'application/pdf', 'file_size': 1312189, 'creation_date': '2025-02-02', 'last_modified_date': '2025-02-02'}, hash='ac09f67b1daffabb4532f0d4ae32e438e8ace6296da4f402a3538b439d63f842'), <NodeRelationship.NEXT: '3'>: RelatedNodeInfo(node_id='61cbf61a-cf48-411d-a55c-553b95252ab9', node_type=<ObjectType.TEXT: '1'>, metadata={}, hash='46fcbac243ad9da306677062c53f200d3bc894a58a169bbf07598d0da7db618f')}, metadata_template='{key}: {value}', metadata_separator='\\n', text='exponentially larger search space. To address this, we set a maximum extension limit for each\\nnode, but this can lead to the model getting stuck in local optima. Second, the value model\\ndirectly influences the quality of generation since it guides each step of the search process.\\nTraining a fine-grained value model is inherently difficult, which makes it challenging for the\\nmodel to iteratively improve. While AlphaGo’s core success relied on training a value model to\\nprogressively enhance its performance, this principle proves difficult to replicate in our setup\\ndue to the complexities of token generation.\\nIn conclusion, while MCTS can improve performance during inference when paired with a\\npre-trained value model, iteratively boosting model performance through self-search remains a\\nsignificant challenge.\\n5. Conclusion, Limitations, and Future Work\\nIn this work, we share our journey in enhancing model reasoning abilities through reinforcement\\nlearning. DeepSeek-R1-Zero represents a pure RL approach without relying on cold-start\\ndata, achieving strong performance across various tasks. DeepSeek-R1 is more powerful,\\nleveraging cold-start data alongside iterative RL fine-tuning. Ultimately, DeepSeek-R1 achieves\\nperformance comparable to OpenAI-o1-1217 on a range of tasks.\\nWe further explore distillation the reasoning capability to small dense models. We use\\nDeepSeek-R1 as the teacher model to generate 800K training samples, and fine-tune several small\\ndense models. The results are promising: DeepSeek-R1-Distill-Qwen-1.5B outperforms GPT-4o\\nand Claude-3.5-Sonnet on math benchmarks with 28.9% on AIME and 83.9% on MATH. Other\\ndense models also achieve impressive results, significantly outperforming other instruction-\\ntuned models based on the same underlying checkpoints.\\nIn the future, we plan to invest in research across the following directions for DeepSeek-R1.\\n• General Capability:Currently, the capabilities of DeepSeek-R1 fall short of DeepSeek-V3\\nin tasks such as function calling, multi-turn, complex role-playing, and JSON output.', mimetype='text/plain', start_char_idx=0, end_char_idx=2064, metadata_seperator='\\n', text_template='{metadata_str}\\n\\n{content}'),\n",
       " TextNode(id_='61cbf61a-cf48-411d-a55c-553b95252ab9', embedding=None, metadata={'page_label': '16', 'file_name': 'deepseek-r1-paper.pdf', 'file_path': 'c:\\\\Users\\\\nazaizah\\\\OneDrive\\\\PycharmProjects\\\\rag-tutorial\\\\data\\\\deepseek-r1-paper.pdf', 'file_type': 'application/pdf', 'file_size': 1312189, 'creation_date': '2025-02-02', 'last_modified_date': '2025-02-02'}, excluded_embed_metadata_keys=['file_name', 'file_type', 'file_size', 'creation_date', 'last_modified_date', 'last_accessed_date'], excluded_llm_metadata_keys=['file_name', 'file_type', 'file_size', 'creation_date', 'last_modified_date', 'last_accessed_date'], relationships={<NodeRelationship.SOURCE: '1'>: RelatedNodeInfo(node_id='4ef60666-dcc6-4cf5-8072-0ab2f5e5a874', node_type=<ObjectType.DOCUMENT: '4'>, metadata={'page_label': '16', 'file_name': 'deepseek-r1-paper.pdf', 'file_path': 'c:\\\\Users\\\\nazaizah\\\\OneDrive\\\\PycharmProjects\\\\rag-tutorial\\\\data\\\\deepseek-r1-paper.pdf', 'file_type': 'application/pdf', 'file_size': 1312189, 'creation_date': '2025-02-02', 'last_modified_date': '2025-02-02'}, hash='ac09f67b1daffabb4532f0d4ae32e438e8ace6296da4f402a3538b439d63f842'), <NodeRelationship.PREVIOUS: '2'>: RelatedNodeInfo(node_id='04902f50-1607-422b-b1ed-4128773035d3', node_type=<ObjectType.TEXT: '1'>, metadata={'page_label': '16', 'file_name': 'deepseek-r1-paper.pdf', 'file_path': 'c:\\\\Users\\\\nazaizah\\\\OneDrive\\\\PycharmProjects\\\\rag-tutorial\\\\data\\\\deepseek-r1-paper.pdf', 'file_type': 'application/pdf', 'file_size': 1312189, 'creation_date': '2025-02-02', 'last_modified_date': '2025-02-02'}, hash='d779b023f1a00267a3b06dee14969dea35b44d3358945c617d9052cf60d63469')}, metadata_template='{key}: {value}', metadata_separator='\\n', text='• General Capability:Currently, the capabilities of DeepSeek-R1 fall short of DeepSeek-V3\\nin tasks such as function calling, multi-turn, complex role-playing, and JSON output.\\nMoving forward, we plan to explore how long CoT can be leveraged to enhance tasks in\\nthese fields.\\n• Language Mixing:DeepSeek-R1 is currently optimized for Chinese and English, which\\nmay result in language mixing issues when handling queries in other languages. For\\ninstance, DeepSeek-R1 might use English for reasoning and responses, even if the query is\\nin a language other than English or Chinese. We aim to address this limitation in future\\nupdates.\\n• Prompting Engineering:When evaluating DeepSeek-R1, we observe that it is sensitive\\nto prompts. Few-shot prompting consistently degrades its performance. Therefore, we\\nrecommend users directly describe the problem and specify the output format using a\\nzero-shot setting for optimal results.\\n• Software Engineering Tasks:Due to the long evaluation times, which impact the effi-\\nciency of the RL process, large-scale RL has not been applied extensively in software\\nengineering tasks. As a result, DeepSeek-R1 has not demonstrated a huge improvement\\nover DeepSeek-V3 on software engineering benchmarks. Future versions will address\\nthis by implementing rejection sampling on software engineering data or incorporating\\nasynchronous evaluations during the RL process to improve efficiency.\\n16', mimetype='text/plain', start_char_idx=1889, end_char_idx=3307, metadata_seperator='\\n', text_template='{metadata_str}\\n\\n{content}'),\n",
       " TextNode(id_='db53f6f5-f75c-432d-88f5-ae30548313db', embedding=None, metadata={'page_label': '17', 'file_name': 'deepseek-r1-paper.pdf', 'file_path': 'c:\\\\Users\\\\nazaizah\\\\OneDrive\\\\PycharmProjects\\\\rag-tutorial\\\\data\\\\deepseek-r1-paper.pdf', 'file_type': 'application/pdf', 'file_size': 1312189, 'creation_date': '2025-02-02', 'last_modified_date': '2025-02-02'}, excluded_embed_metadata_keys=['file_name', 'file_type', 'file_size', 'creation_date', 'last_modified_date', 'last_accessed_date'], excluded_llm_metadata_keys=['file_name', 'file_type', 'file_size', 'creation_date', 'last_modified_date', 'last_accessed_date'], relationships={<NodeRelationship.SOURCE: '1'>: RelatedNodeInfo(node_id='bffbb384-f039-4d90-91a3-fe5fa9f09f1d', node_type=<ObjectType.DOCUMENT: '4'>, metadata={'page_label': '17', 'file_name': 'deepseek-r1-paper.pdf', 'file_path': 'c:\\\\Users\\\\nazaizah\\\\OneDrive\\\\PycharmProjects\\\\rag-tutorial\\\\data\\\\deepseek-r1-paper.pdf', 'file_type': 'application/pdf', 'file_size': 1312189, 'creation_date': '2025-02-02', 'last_modified_date': '2025-02-02'}, hash='7e8843011ded09b17f3f3fa6ef47fae702a5f7dedc204aa7ca4e155744a3dafe'), <NodeRelationship.NEXT: '3'>: RelatedNodeInfo(node_id='0334f9b8-ffd9-4960-835b-7c270b415a24', node_type=<ObjectType.TEXT: '1'>, metadata={}, hash='ef6e396a3dcb9967c6c6f6f8a1d7a783b187b2de6f8df99001f747c1c13b4221')}, metadata_template='{key}: {value}', metadata_separator='\\n', text='References\\nAI@Meta. Llama 3.1 model card, 2024. URL https://github.com/meta-llama/llama-m\\nodels/blob/main/models/llama3_1/MODEL_CARD.md.\\nAnthropic. Claude 3.5 sonnet, 2024. URL https://www.anthropic.com/news/claude-3\\n-5-sonnet.\\nM. Chen, J. Tworek, H. Jun, Q. Yuan, H. P . de Oliveira Pinto, J. Kaplan, H. Edwards, Y. Burda,\\nN. Joseph, G. Brockman, A. Ray, R. Puri, G. Krueger, M. Petrov, H. Khlaaf, G. Sastry, P . Mishkin,\\nB. Chan, S. Gray, N. Ryder, M. Pavlov, A. Power, L. Kaiser, M. Bavarian, C. Winter, P . Tillet,\\nF. P . Such, D. Cummings, M. Plappert, F. Chantzis, E. Barnes, A. Herbert-Voss, W. H. Guss,\\nA. Nichol, A. Paino, N. Tezak, J. Tang, I. Babuschkin, S. Balaji, S. Jain, W. Saunders, C. Hesse,\\nA. N. Carr, J. Leike, J. Achiam, V . Misra, E. Morikawa, A. Radford, M. Knight, M. Brundage,\\nM. Murati, K. Mayer, P . Welinder, B. McGrew, D. Amodei, S. McCandlish, I. Sutskever, and\\nW. Zaremba. Evaluating large language models trained on code. CoRR, abs/2107.03374, 2021.\\nURL https://arxiv.org/abs/2107.03374.', mimetype='text/plain', start_char_idx=0, end_char_idx=1019, metadata_seperator='\\n', text_template='{metadata_str}\\n\\n{content}'),\n",
       " TextNode(id_='0334f9b8-ffd9-4960-835b-7c270b415a24', embedding=None, metadata={'page_label': '17', 'file_name': 'deepseek-r1-paper.pdf', 'file_path': 'c:\\\\Users\\\\nazaizah\\\\OneDrive\\\\PycharmProjects\\\\rag-tutorial\\\\data\\\\deepseek-r1-paper.pdf', 'file_type': 'application/pdf', 'file_size': 1312189, 'creation_date': '2025-02-02', 'last_modified_date': '2025-02-02'}, excluded_embed_metadata_keys=['file_name', 'file_type', 'file_size', 'creation_date', 'last_modified_date', 'last_accessed_date'], excluded_llm_metadata_keys=['file_name', 'file_type', 'file_size', 'creation_date', 'last_modified_date', 'last_accessed_date'], relationships={<NodeRelationship.SOURCE: '1'>: RelatedNodeInfo(node_id='bffbb384-f039-4d90-91a3-fe5fa9f09f1d', node_type=<ObjectType.DOCUMENT: '4'>, metadata={'page_label': '17', 'file_name': 'deepseek-r1-paper.pdf', 'file_path': 'c:\\\\Users\\\\nazaizah\\\\OneDrive\\\\PycharmProjects\\\\rag-tutorial\\\\data\\\\deepseek-r1-paper.pdf', 'file_type': 'application/pdf', 'file_size': 1312189, 'creation_date': '2025-02-02', 'last_modified_date': '2025-02-02'}, hash='7e8843011ded09b17f3f3fa6ef47fae702a5f7dedc204aa7ca4e155744a3dafe'), <NodeRelationship.PREVIOUS: '2'>: RelatedNodeInfo(node_id='db53f6f5-f75c-432d-88f5-ae30548313db', node_type=<ObjectType.TEXT: '1'>, metadata={'page_label': '17', 'file_name': 'deepseek-r1-paper.pdf', 'file_path': 'c:\\\\Users\\\\nazaizah\\\\OneDrive\\\\PycharmProjects\\\\rag-tutorial\\\\data\\\\deepseek-r1-paper.pdf', 'file_type': 'application/pdf', 'file_size': 1312189, 'creation_date': '2025-02-02', 'last_modified_date': '2025-02-02'}, hash='0ea7afe1c7577c0efd0c3d074a190f516377de15160a9b814cee40188a505b3f'), <NodeRelationship.NEXT: '3'>: RelatedNodeInfo(node_id='19684d43-2490-4bab-b2b0-8fb6e2756504', node_type=<ObjectType.TEXT: '1'>, metadata={}, hash='8ec28b6323a97689702fc0f58fc464712d14734c290800020941a7ea520d1302')}, metadata_template='{key}: {value}', metadata_separator='\\n', text='Evaluating large language models trained on code. CoRR, abs/2107.03374, 2021.\\nURL https://arxiv.org/abs/2107.03374.\\nA. Dubey, A. Jauhri, A. Pandey, A. Kadian, A. Al-Dahle, A. Letman, A. Mathur, A. Schelten,\\nA. Yang, A. Fan, et al. The llama 3 herd of models. arXiv preprint arXiv:2407.21783, 2024.\\nY. Dubois, B. Galambosi, P . Liang, and T. B. Hashimoto. Length-controlled alpacaeval: A simple\\nway to debias automatic evaluators. arXiv preprint arXiv:2404.04475, 2024.\\nX. Feng, Z. Wan, M. Wen, S. M. McAleer, Y. Wen, W. Zhang, and J. Wang. Alphazero-like\\ntree-search can guide large language model decoding and training, 2024. URL https:\\n//arxiv.org/abs/2309.17179.\\nL. Gao, J. Schulman, and J. Hilton. Scaling laws for reward model overoptimization, 2022. URL\\nhttps://arxiv.org/abs/2210.10760.\\nA. P . Gema, J. O. J. Leang, G. Hong, A. Devoto, A. C. M. Mancino, R. Saxena, X. He, Y. Zhao,\\nX. Du, M. R. G. Madani, C. Barale, R. McHardy, J. Harris, J. Kaddour, E. van Krieken, and\\nP . Minervini. Are we done with mmlu? CoRR, abs/2406.04127, 2024. URL https://doi.or\\ng/10.48550/arXiv.2406.04127.\\nGoogle.', mimetype='text/plain', start_char_idx=904, end_char_idx=2003, metadata_seperator='\\n', text_template='{metadata_str}\\n\\n{content}'),\n",
       " TextNode(id_='19684d43-2490-4bab-b2b0-8fb6e2756504', embedding=None, metadata={'page_label': '17', 'file_name': 'deepseek-r1-paper.pdf', 'file_path': 'c:\\\\Users\\\\nazaizah\\\\OneDrive\\\\PycharmProjects\\\\rag-tutorial\\\\data\\\\deepseek-r1-paper.pdf', 'file_type': 'application/pdf', 'file_size': 1312189, 'creation_date': '2025-02-02', 'last_modified_date': '2025-02-02'}, excluded_embed_metadata_keys=['file_name', 'file_type', 'file_size', 'creation_date', 'last_modified_date', 'last_accessed_date'], excluded_llm_metadata_keys=['file_name', 'file_type', 'file_size', 'creation_date', 'last_modified_date', 'last_accessed_date'], relationships={<NodeRelationship.SOURCE: '1'>: RelatedNodeInfo(node_id='bffbb384-f039-4d90-91a3-fe5fa9f09f1d', node_type=<ObjectType.DOCUMENT: '4'>, metadata={'page_label': '17', 'file_name': 'deepseek-r1-paper.pdf', 'file_path': 'c:\\\\Users\\\\nazaizah\\\\OneDrive\\\\PycharmProjects\\\\rag-tutorial\\\\data\\\\deepseek-r1-paper.pdf', 'file_type': 'application/pdf', 'file_size': 1312189, 'creation_date': '2025-02-02', 'last_modified_date': '2025-02-02'}, hash='7e8843011ded09b17f3f3fa6ef47fae702a5f7dedc204aa7ca4e155744a3dafe'), <NodeRelationship.PREVIOUS: '2'>: RelatedNodeInfo(node_id='0334f9b8-ffd9-4960-835b-7c270b415a24', node_type=<ObjectType.TEXT: '1'>, metadata={'page_label': '17', 'file_name': 'deepseek-r1-paper.pdf', 'file_path': 'c:\\\\Users\\\\nazaizah\\\\OneDrive\\\\PycharmProjects\\\\rag-tutorial\\\\data\\\\deepseek-r1-paper.pdf', 'file_type': 'application/pdf', 'file_size': 1312189, 'creation_date': '2025-02-02', 'last_modified_date': '2025-02-02'}, hash='8988de081de3ec11f930cb64b9e9af236d4f366b8dfefe87a0d1b75136068956')}, metadata_template='{key}: {value}', metadata_separator='\\n', text='Are we done with mmlu? CoRR, abs/2406.04127, 2024. URL https://doi.or\\ng/10.48550/arXiv.2406.04127.\\nGoogle. Our next-generation model: Gemini 1.5, 2024. URL https://blog.google/techno\\nlogy/ai/google-gemini-next-generation-model-february-2024 .\\nY. He, S. Li, J. Liu, Y. Tan, W. Wang, H. Huang, X. Bu, H. Guo, C. Hu, B. Zheng, et al. Chi-\\nnese simpleqa: A chinese factuality evaluation for large language models. arXiv preprint\\narXiv:2411.07140, 2024.\\nD. Hendrycks, C. Burns, S. Basart, A. Zou, M. Mazeika, D. Song, and J. Steinhardt. Measuring\\nmassive multitask language understanding. arXiv preprint arXiv:2009.03300, 2020.\\nY. Huang, Y. Bai, Z. Zhu, J. Zhang, J. Zhang, T. Su, J. Liu, C. Lv, Y. Zhang, J. Lei, et al. C-Eval: A\\nmulti-level multi-discipline chinese evaluation suite for foundation models. arXiv preprint\\narXiv:2305.08322, 2023.\\nN. Jain, K. Han, A. Gu, W. Li, F. Yan, T. Zhang, S. Wang, A. Solar-Lezama, K. Sen, and I. Stoica.\\nLivecodebench: Holistic and contamination free evaluation of large language models for code.\\nCoRR, abs/2403.07974, 2024. URL https://doi.org/10.48550/arXiv.2403.07974.\\n17', mimetype='text/plain', start_char_idx=1897, end_char_idx=3007, metadata_seperator='\\n', text_template='{metadata_str}\\n\\n{content}'),\n",
       " TextNode(id_='e4eaa24d-73be-4b8d-8470-fa332525702c', embedding=None, metadata={'page_label': '18', 'file_name': 'deepseek-r1-paper.pdf', 'file_path': 'c:\\\\Users\\\\nazaizah\\\\OneDrive\\\\PycharmProjects\\\\rag-tutorial\\\\data\\\\deepseek-r1-paper.pdf', 'file_type': 'application/pdf', 'file_size': 1312189, 'creation_date': '2025-02-02', 'last_modified_date': '2025-02-02'}, excluded_embed_metadata_keys=['file_name', 'file_type', 'file_size', 'creation_date', 'last_modified_date', 'last_accessed_date'], excluded_llm_metadata_keys=['file_name', 'file_type', 'file_size', 'creation_date', 'last_modified_date', 'last_accessed_date'], relationships={<NodeRelationship.SOURCE: '1'>: RelatedNodeInfo(node_id='0a12fa43-ffe1-4e0a-84df-6a8e3376fc52', node_type=<ObjectType.DOCUMENT: '4'>, metadata={'page_label': '18', 'file_name': 'deepseek-r1-paper.pdf', 'file_path': 'c:\\\\Users\\\\nazaizah\\\\OneDrive\\\\PycharmProjects\\\\rag-tutorial\\\\data\\\\deepseek-r1-paper.pdf', 'file_type': 'application/pdf', 'file_size': 1312189, 'creation_date': '2025-02-02', 'last_modified_date': '2025-02-02'}, hash='ca758ef1abbb2c23e92fc9e5b6370fc54b24b167786682a5e8391ac45c3f33a2'), <NodeRelationship.NEXT: '3'>: RelatedNodeInfo(node_id='d21f484f-551c-45cf-9544-d10db095415b', node_type=<ObjectType.TEXT: '1'>, metadata={}, hash='c7443e7d3d1c4036e96af155aaea652626e0e1e91f760bfaee06771fe36a4411')}, metadata_template='{key}: {value}', metadata_separator='\\n', text='S. Krishna, K. Krishna, A. Mohananey, S. Schwarcz, A. Stambler, S. Upadhyay, and M. Faruqui.\\nFact, fetch, and reason: A unified evaluation of retrieval-augmented generation. CoRR,\\nabs/2409.12941, 2024. doi: 10.48550/ARXIV.2409.12941. URL https://doi.org/10.485\\n50/arXiv.2409.12941.\\nA. Kumar, V . Zhuang, R. Agarwal, Y. Su, J. D. Co-Reyes, A. Singh, K. Baumli, S. Iqbal, C. Bishop,\\nR. Roelofs, et al. Training language models to self-correct via reinforcement learning. arXiv\\npreprint arXiv:2409.12917, 2024.\\nH. Li, Y. Zhang, F. Koto, Y. Yang, H. Zhao, Y. Gong, N. Duan, and T. Baldwin. CMMLU: Measur-\\ning massive multitask language understanding in Chinese. arXiv preprint arXiv:2306.09212,\\n2023.\\nT. Li, W.-L. Chiang, E. Frick, L. Dunlap, T. Wu, B. Zhu, J. E. Gonzalez, and I. Stoica. From\\ncrowdsourced data to high-quality benchmarks: Arena-hard and benchbuilder pipeline. arXiv\\npreprint arXiv:2406.11939, 2024.\\nH. Lightman, V . Kosaraju, Y. Burda, H. Edwards, B. Baker, T. Lee, J. Leike, J. Schulman,\\nI. Sutskever, and K. Cobbe. Let’s verify step by step. arXiv preprint arXiv:2305.20050, 2023.\\nB. Y. Lin. ZeroEval: A Unified Framework for Evaluating Language Models, July 2024.', mimetype='text/plain', start_char_idx=0, end_char_idx=1180, metadata_seperator='\\n', text_template='{metadata_str}\\n\\n{content}'),\n",
       " TextNode(id_='d21f484f-551c-45cf-9544-d10db095415b', embedding=None, metadata={'page_label': '18', 'file_name': 'deepseek-r1-paper.pdf', 'file_path': 'c:\\\\Users\\\\nazaizah\\\\OneDrive\\\\PycharmProjects\\\\rag-tutorial\\\\data\\\\deepseek-r1-paper.pdf', 'file_type': 'application/pdf', 'file_size': 1312189, 'creation_date': '2025-02-02', 'last_modified_date': '2025-02-02'}, excluded_embed_metadata_keys=['file_name', 'file_type', 'file_size', 'creation_date', 'last_modified_date', 'last_accessed_date'], excluded_llm_metadata_keys=['file_name', 'file_type', 'file_size', 'creation_date', 'last_modified_date', 'last_accessed_date'], relationships={<NodeRelationship.SOURCE: '1'>: RelatedNodeInfo(node_id='0a12fa43-ffe1-4e0a-84df-6a8e3376fc52', node_type=<ObjectType.DOCUMENT: '4'>, metadata={'page_label': '18', 'file_name': 'deepseek-r1-paper.pdf', 'file_path': 'c:\\\\Users\\\\nazaizah\\\\OneDrive\\\\PycharmProjects\\\\rag-tutorial\\\\data\\\\deepseek-r1-paper.pdf', 'file_type': 'application/pdf', 'file_size': 1312189, 'creation_date': '2025-02-02', 'last_modified_date': '2025-02-02'}, hash='ca758ef1abbb2c23e92fc9e5b6370fc54b24b167786682a5e8391ac45c3f33a2'), <NodeRelationship.PREVIOUS: '2'>: RelatedNodeInfo(node_id='e4eaa24d-73be-4b8d-8470-fa332525702c', node_type=<ObjectType.TEXT: '1'>, metadata={'page_label': '18', 'file_name': 'deepseek-r1-paper.pdf', 'file_path': 'c:\\\\Users\\\\nazaizah\\\\OneDrive\\\\PycharmProjects\\\\rag-tutorial\\\\data\\\\deepseek-r1-paper.pdf', 'file_type': 'application/pdf', 'file_size': 1312189, 'creation_date': '2025-02-02', 'last_modified_date': '2025-02-02'}, hash='194f9afc051000b0f1657a28cc3a67407fab7d776142047d3be54f65b476cb89'), <NodeRelationship.NEXT: '3'>: RelatedNodeInfo(node_id='a9d5d4e1-93e7-4e38-8a54-395a7562bcc3', node_type=<ObjectType.TEXT: '1'>, metadata={}, hash='0635fe9896de14ca0b2843dd6ba76bfce0ca3e6afce642c3457f190d1a47d5f9')}, metadata_template='{key}: {value}', metadata_separator='\\n', text='arXiv preprint arXiv:2305.20050, 2023.\\nB. Y. Lin. ZeroEval: A Unified Framework for Evaluating Language Models, July 2024. URL\\nhttps://github.com/WildEval/ZeroEval.\\nMAA. American invitational mathematics examination - aime. In American Invitational\\nMathematics Examination - AIME 2024, February 2024. URL https://maa.org/math\\n-competitions/american-invitational-mathematics-examination-aime .\\nOpenAI. Hello GPT-4o, 2024a. URL https://openai.com/index/hello-gpt-4o/.\\nOpenAI. Learning to reason with llms, 2024b. URL https://openai.com/index/learnin\\ng-to-reason-with-llms/ .\\nOpenAI. Introducing SimpleQA, 2024c. URL https://openai.com/index/introducing\\n-simpleqa/.\\nOpenAI. Introducing SWE-bench verified we’re releasing a human-validated subset of swe-\\nbench that more, 2024d. URL https://openai.com/index/introducing-swe-bench\\n-verified/.\\nQwen. Qwq: Reflect deeply on the boundaries of the unknown, 2024a. URL https://qwenlm\\n.github.io/blog/qwq-32b-preview/.\\nQwen. Qwen2.5: A party of foundation models, 2024b. URL https://qwenlm.github.io/b\\nlog/qwen2.5.\\nD. Rein, B. L. Hou, A. C. Stickland, J. Petty, R. Y. Pang, J. Dirani, J. Michael, and S. R. Bowman.\\nGPQA: A graduate-level google-proof q&a benchmark. arXiv preprint arXiv:2311.12022, 2023.\\nZ. Shao, P . Wang, Q. Zhu, R. Xu, J. Song, M. Zhang, Y. Li, Y. Wu, and D. Guo.', mimetype='text/plain', start_char_idx=1058, end_char_idx=2380, metadata_seperator='\\n', text_template='{metadata_str}\\n\\n{content}'),\n",
       " TextNode(id_='a9d5d4e1-93e7-4e38-8a54-395a7562bcc3', embedding=None, metadata={'page_label': '18', 'file_name': 'deepseek-r1-paper.pdf', 'file_path': 'c:\\\\Users\\\\nazaizah\\\\OneDrive\\\\PycharmProjects\\\\rag-tutorial\\\\data\\\\deepseek-r1-paper.pdf', 'file_type': 'application/pdf', 'file_size': 1312189, 'creation_date': '2025-02-02', 'last_modified_date': '2025-02-02'}, excluded_embed_metadata_keys=['file_name', 'file_type', 'file_size', 'creation_date', 'last_modified_date', 'last_accessed_date'], excluded_llm_metadata_keys=['file_name', 'file_type', 'file_size', 'creation_date', 'last_modified_date', 'last_accessed_date'], relationships={<NodeRelationship.SOURCE: '1'>: RelatedNodeInfo(node_id='0a12fa43-ffe1-4e0a-84df-6a8e3376fc52', node_type=<ObjectType.DOCUMENT: '4'>, metadata={'page_label': '18', 'file_name': 'deepseek-r1-paper.pdf', 'file_path': 'c:\\\\Users\\\\nazaizah\\\\OneDrive\\\\PycharmProjects\\\\rag-tutorial\\\\data\\\\deepseek-r1-paper.pdf', 'file_type': 'application/pdf', 'file_size': 1312189, 'creation_date': '2025-02-02', 'last_modified_date': '2025-02-02'}, hash='ca758ef1abbb2c23e92fc9e5b6370fc54b24b167786682a5e8391ac45c3f33a2'), <NodeRelationship.PREVIOUS: '2'>: RelatedNodeInfo(node_id='d21f484f-551c-45cf-9544-d10db095415b', node_type=<ObjectType.TEXT: '1'>, metadata={'page_label': '18', 'file_name': 'deepseek-r1-paper.pdf', 'file_path': 'c:\\\\Users\\\\nazaizah\\\\OneDrive\\\\PycharmProjects\\\\rag-tutorial\\\\data\\\\deepseek-r1-paper.pdf', 'file_type': 'application/pdf', 'file_size': 1312189, 'creation_date': '2025-02-02', 'last_modified_date': '2025-02-02'}, hash='961ad1104190d08b441f4ae376c1d0fa82038ef5e53aab5f1276c598b1cd5034')}, metadata_template='{key}: {value}', metadata_separator='\\n', text='Z. Shao, P . Wang, Q. Zhu, R. Xu, J. Song, M. Zhang, Y. Li, Y. Wu, and D. Guo. Deepseekmath:\\nPushing the limits of mathematical reasoning in open language models. arXiv preprint\\narXiv:2402.03300, 2024.\\nD. Silver, T. Hubert, J. Schrittwieser, I. Antonoglou, M. Lai, A. Guez, M. Lanctot, L. Sifre,\\nD. Kumaran, T. Graepel, T. P . Lillicrap, K. Simonyan, and D. Hassabis. Mastering chess and\\nshogi by self-play with a general reinforcement learning algorithm. CoRR, abs/1712.01815,\\n2017a. URL http://arxiv.org/abs/1712.01815.\\n18', mimetype='text/plain', start_char_idx=2302, end_char_idx=2826, metadata_seperator='\\n', text_template='{metadata_str}\\n\\n{content}'),\n",
       " TextNode(id_='e8892e33-3f9e-4196-bd6d-df065c691e66', embedding=None, metadata={'page_label': '19', 'file_name': 'deepseek-r1-paper.pdf', 'file_path': 'c:\\\\Users\\\\nazaizah\\\\OneDrive\\\\PycharmProjects\\\\rag-tutorial\\\\data\\\\deepseek-r1-paper.pdf', 'file_type': 'application/pdf', 'file_size': 1312189, 'creation_date': '2025-02-02', 'last_modified_date': '2025-02-02'}, excluded_embed_metadata_keys=['file_name', 'file_type', 'file_size', 'creation_date', 'last_modified_date', 'last_accessed_date'], excluded_llm_metadata_keys=['file_name', 'file_type', 'file_size', 'creation_date', 'last_modified_date', 'last_accessed_date'], relationships={<NodeRelationship.SOURCE: '1'>: RelatedNodeInfo(node_id='54f4ff83-6d37-43df-8b65-1c75810de7c4', node_type=<ObjectType.DOCUMENT: '4'>, metadata={'page_label': '19', 'file_name': 'deepseek-r1-paper.pdf', 'file_path': 'c:\\\\Users\\\\nazaizah\\\\OneDrive\\\\PycharmProjects\\\\rag-tutorial\\\\data\\\\deepseek-r1-paper.pdf', 'file_type': 'application/pdf', 'file_size': 1312189, 'creation_date': '2025-02-02', 'last_modified_date': '2025-02-02'}, hash='2c4412951e0739ca4b3440d3d28be65bb705dec76297cf5f9fd1b557a216ccbd'), <NodeRelationship.NEXT: '3'>: RelatedNodeInfo(node_id='bdc2e8ed-1e6e-4df8-96fa-55de6ae0579c', node_type=<ObjectType.TEXT: '1'>, metadata={}, hash='af60914e77a7d5c3bac1e1570ef4e87026048bb77f8070556387b743fbb99c02')}, metadata_template='{key}: {value}', metadata_separator='\\n', text='D. Silver, J. Schrittwieser, K. Simonyan, I. Antonoglou, A. Huang, A. Guez, T. Hubert, L. Baker,\\nM. Lai, A. Bolton, Y. Chen, T. P . Lillicrap, F. Hui, L. Sifre, G. van den Driessche, T. Graepel, and\\nD. Hassabis. Mastering the game of go without human knowledge. Nat., 550(7676):354–359,\\n2017b. doi: 10.1038/NATURE24270. URL https://doi.org/10.1038/nature24270.\\nC. Snell, J. Lee, K. Xu, and A. Kumar. Scaling llm test-time compute optimally can be more\\neffective than scaling model parameters, 2024. URL https://arxiv.org/abs/2408.033\\n14.\\nT. Trinh, Y. Wu, Q. Le, H. He, and T. Luong. Solving olympiad geometry without human\\ndemonstrations. Nature, 2024. doi: 10.1038/s41586-023-06747-5.\\nJ. Uesato, N. Kushman, R. Kumar, F. Song, N. Siegel, L. Wang, A. Creswell, G. Irving, and\\nI. Higgins. Solving math word problems with process-and outcome-based feedback. arXiv\\npreprint arXiv:2211.14275, 2022.\\nP . Wang, L. Li, Z. Shao, R. Xu, D. Dai, Y. Li, D. Chen, Y. Wu, and Z. Sui. Math-shepherd: A label-\\nfree step-by-step verifier for llms in mathematical reasoning. arXiv preprint arXiv:2312.08935,\\n2023.', mimetype='text/plain', start_char_idx=0, end_char_idx=1096, metadata_seperator='\\n', text_template='{metadata_str}\\n\\n{content}'),\n",
       " TextNode(id_='bdc2e8ed-1e6e-4df8-96fa-55de6ae0579c', embedding=None, metadata={'page_label': '19', 'file_name': 'deepseek-r1-paper.pdf', 'file_path': 'c:\\\\Users\\\\nazaizah\\\\OneDrive\\\\PycharmProjects\\\\rag-tutorial\\\\data\\\\deepseek-r1-paper.pdf', 'file_type': 'application/pdf', 'file_size': 1312189, 'creation_date': '2025-02-02', 'last_modified_date': '2025-02-02'}, excluded_embed_metadata_keys=['file_name', 'file_type', 'file_size', 'creation_date', 'last_modified_date', 'last_accessed_date'], excluded_llm_metadata_keys=['file_name', 'file_type', 'file_size', 'creation_date', 'last_modified_date', 'last_accessed_date'], relationships={<NodeRelationship.SOURCE: '1'>: RelatedNodeInfo(node_id='54f4ff83-6d37-43df-8b65-1c75810de7c4', node_type=<ObjectType.DOCUMENT: '4'>, metadata={'page_label': '19', 'file_name': 'deepseek-r1-paper.pdf', 'file_path': 'c:\\\\Users\\\\nazaizah\\\\OneDrive\\\\PycharmProjects\\\\rag-tutorial\\\\data\\\\deepseek-r1-paper.pdf', 'file_type': 'application/pdf', 'file_size': 1312189, 'creation_date': '2025-02-02', 'last_modified_date': '2025-02-02'}, hash='2c4412951e0739ca4b3440d3d28be65bb705dec76297cf5f9fd1b557a216ccbd'), <NodeRelationship.PREVIOUS: '2'>: RelatedNodeInfo(node_id='e8892e33-3f9e-4196-bd6d-df065c691e66', node_type=<ObjectType.TEXT: '1'>, metadata={'page_label': '19', 'file_name': 'deepseek-r1-paper.pdf', 'file_path': 'c:\\\\Users\\\\nazaizah\\\\OneDrive\\\\PycharmProjects\\\\rag-tutorial\\\\data\\\\deepseek-r1-paper.pdf', 'file_type': 'application/pdf', 'file_size': 1312189, 'creation_date': '2025-02-02', 'last_modified_date': '2025-02-02'}, hash='47b0e7aa83882febac073747d631fc3114ea91cc7b7ef996511dbdd202541d3d'), <NodeRelationship.NEXT: '3'>: RelatedNodeInfo(node_id='cbcc2ae6-740a-43e8-8000-9880a081a1b8', node_type=<ObjectType.TEXT: '1'>, metadata={}, hash='b45c1d910192793829a2a760e6b7c5f965a55bd61a26e97152d547f39eb5cdfa')}, metadata_template='{key}: {value}', metadata_separator='\\n', text='Math-shepherd: A label-\\nfree step-by-step verifier for llms in mathematical reasoning. arXiv preprint arXiv:2312.08935,\\n2023.\\nX. Wang, J. Wei, D. Schuurmans, Q. Le, E. Chi, S. Narang, A. Chowdhery, and D. Zhou.\\nSelf-consistency improves chain of thought reasoning in language models. arXiv preprint\\narXiv:2203.11171, 2022.\\nY. Wang, X. Ma, G. Zhang, Y. Ni, A. Chandra, S. Guo, W. Ren, A. Arulraj, X. He, Z. Jiang, T. Li,\\nM. Ku, K. Wang, A. Zhuang, R. Fan, X. Yue, and W. Chen. Mmlu-pro: A more robust and\\nchallenging multi-task language understanding benchmark. CoRR, abs/2406.01574, 2024.\\nURL https://doi.org/10.48550/arXiv.2406.01574.\\nC. S. Xia, Y. Deng, S. Dunn, and L. Zhang. Agentless: Demystifying llm-based software\\nengineering agents. arXiv preprint, 2024.\\nH. Xin, Z. Z. Ren, J. Song, Z. Shao, W. Zhao, H. Wang, B. Liu, L. Zhang, X. Lu, Q. Du, W. Gao,\\nQ. Zhu, D. Yang, Z. Gou, Z. F. Wu, F. Luo, and C. Ruan. Deepseek-prover-v1.5: Harnessing\\nproof assistant feedback for reinforcement learning and monte-carlo tree search, 2024. URL\\nhttps://arxiv.org/abs/2408.08152.\\nJ. Zhou, T. Lu, S. Mishra, S. Brahma, S. Basu, Y. Luan, D. Zhou, and L. Hou. Instruction-following\\nevaluation for large language models.', mimetype='text/plain', start_char_idx=971, end_char_idx=2180, metadata_seperator='\\n', text_template='{metadata_str}\\n\\n{content}'),\n",
       " TextNode(id_='cbcc2ae6-740a-43e8-8000-9880a081a1b8', embedding=None, metadata={'page_label': '19', 'file_name': 'deepseek-r1-paper.pdf', 'file_path': 'c:\\\\Users\\\\nazaizah\\\\OneDrive\\\\PycharmProjects\\\\rag-tutorial\\\\data\\\\deepseek-r1-paper.pdf', 'file_type': 'application/pdf', 'file_size': 1312189, 'creation_date': '2025-02-02', 'last_modified_date': '2025-02-02'}, excluded_embed_metadata_keys=['file_name', 'file_type', 'file_size', 'creation_date', 'last_modified_date', 'last_accessed_date'], excluded_llm_metadata_keys=['file_name', 'file_type', 'file_size', 'creation_date', 'last_modified_date', 'last_accessed_date'], relationships={<NodeRelationship.SOURCE: '1'>: RelatedNodeInfo(node_id='54f4ff83-6d37-43df-8b65-1c75810de7c4', node_type=<ObjectType.DOCUMENT: '4'>, metadata={'page_label': '19', 'file_name': 'deepseek-r1-paper.pdf', 'file_path': 'c:\\\\Users\\\\nazaizah\\\\OneDrive\\\\PycharmProjects\\\\rag-tutorial\\\\data\\\\deepseek-r1-paper.pdf', 'file_type': 'application/pdf', 'file_size': 1312189, 'creation_date': '2025-02-02', 'last_modified_date': '2025-02-02'}, hash='2c4412951e0739ca4b3440d3d28be65bb705dec76297cf5f9fd1b557a216ccbd'), <NodeRelationship.PREVIOUS: '2'>: RelatedNodeInfo(node_id='bdc2e8ed-1e6e-4df8-96fa-55de6ae0579c', node_type=<ObjectType.TEXT: '1'>, metadata={'page_label': '19', 'file_name': 'deepseek-r1-paper.pdf', 'file_path': 'c:\\\\Users\\\\nazaizah\\\\OneDrive\\\\PycharmProjects\\\\rag-tutorial\\\\data\\\\deepseek-r1-paper.pdf', 'file_type': 'application/pdf', 'file_size': 1312189, 'creation_date': '2025-02-02', 'last_modified_date': '2025-02-02'}, hash='73f6c459d743c562fb94b39c81ffcf7c6ad4dc71f4d17b342e6cdf637f01917c')}, metadata_template='{key}: {value}', metadata_separator='\\n', text='J. Zhou, T. Lu, S. Mishra, S. Brahma, S. Basu, Y. Luan, D. Zhou, and L. Hou. Instruction-following\\nevaluation for large language models. arXiv preprint arXiv:2311.07911, 2023.\\n19', mimetype='text/plain', start_char_idx=2044, end_char_idx=2222, metadata_seperator='\\n', text_template='{metadata_str}\\n\\n{content}'),\n",
       " TextNode(id_='73a20ae0-7c50-41f6-9f9a-94a768d74de6', embedding=None, metadata={'page_label': '20', 'file_name': 'deepseek-r1-paper.pdf', 'file_path': 'c:\\\\Users\\\\nazaizah\\\\OneDrive\\\\PycharmProjects\\\\rag-tutorial\\\\data\\\\deepseek-r1-paper.pdf', 'file_type': 'application/pdf', 'file_size': 1312189, 'creation_date': '2025-02-02', 'last_modified_date': '2025-02-02'}, excluded_embed_metadata_keys=['file_name', 'file_type', 'file_size', 'creation_date', 'last_modified_date', 'last_accessed_date'], excluded_llm_metadata_keys=['file_name', 'file_type', 'file_size', 'creation_date', 'last_modified_date', 'last_accessed_date'], relationships={<NodeRelationship.SOURCE: '1'>: RelatedNodeInfo(node_id='72625f65-7118-4ad2-b308-5e255b382257', node_type=<ObjectType.DOCUMENT: '4'>, metadata={'page_label': '20', 'file_name': 'deepseek-r1-paper.pdf', 'file_path': 'c:\\\\Users\\\\nazaizah\\\\OneDrive\\\\PycharmProjects\\\\rag-tutorial\\\\data\\\\deepseek-r1-paper.pdf', 'file_type': 'application/pdf', 'file_size': 1312189, 'creation_date': '2025-02-02', 'last_modified_date': '2025-02-02'}, hash='aa27dcf40f30b4e2ebc8386de47fd05fbe18cdcab5b7addf23340d71140ffa81')}, metadata_template='{key}: {value}', metadata_separator='\\n', text='Appendix\\nA. Contributions and Acknowledgments\\nCore Contributors\\nDaya Guo\\nDejian Yang\\nHaowei Zhang\\nJunxiao Song\\nRuoyu Zhang\\nRunxin Xu\\nQihao Zhu\\nShirong Ma\\nPeiyi Wang\\nXiao Bi\\nXiaokang Zhang\\nXingkai Yu\\nYu Wu\\nZ.F. Wu\\nZhibin Gou\\nZhihong Shao\\nZhuoshu Li\\nZiyi Gao\\nContributors\\nAixin Liu\\nBing Xue\\nBingxuan Wang\\nBochao Wu\\nBei Feng\\nChengda Lu\\nChenggang Zhao\\nChengqi Deng\\nChong Ruan\\nDamai Dai\\nDeli Chen\\nDongjie Ji\\nErhang Li\\nFangyun Lin\\nFucong Dai\\nFuli Luo*\\nGuangbo Hao\\nGuanting Chen\\nGuowei Li\\nH. Zhang\\nHanwei Xu\\nHonghui Ding\\nHuazuo Gao\\nHui Qu\\nHui Li\\nJianzhong Guo\\nJiashi Li\\nJingchang Chen\\nJingyang Yuan\\nJinhao Tu\\nJunjie Qiu\\nJunlong Li\\nJ.L. Cai\\nJiaqi Ni\\nJian Liang\\nJin Chen\\nKai Dong\\nKai Hu*\\nKaichao You\\nKaige Gao\\nKang Guan\\nKexin Huang\\nKuai Yu\\nLean Wang\\nLecong Zhang\\nLiang Zhao\\nLitong Wang\\nLiyue Zhang\\nLei Xu\\nLeyi Xia\\nMingchuan Zhang\\nMinghua Zhang\\nMinghui Tang\\nMingxu Zhou\\nMeng Li\\nMiaojun Wang\\nMingming Li\\nNing Tian\\nPanpan Huang\\nPeng Zhang\\nQiancheng Wang\\nQinyu Chen\\nQiushi Du\\nRuiqi Ge*\\nRuisong Zhang\\nRuizhe Pan\\nRunji Wang\\nR.J. Chen\\nR.L. Jin\\n20', mimetype='text/plain', start_char_idx=0, end_char_idx=1030, metadata_seperator='\\n', text_template='{metadata_str}\\n\\n{content}'),\n",
       " TextNode(id_='76d302b5-622c-4e58-9683-149ffb4b215d', embedding=None, metadata={'page_label': '21', 'file_name': 'deepseek-r1-paper.pdf', 'file_path': 'c:\\\\Users\\\\nazaizah\\\\OneDrive\\\\PycharmProjects\\\\rag-tutorial\\\\data\\\\deepseek-r1-paper.pdf', 'file_type': 'application/pdf', 'file_size': 1312189, 'creation_date': '2025-02-02', 'last_modified_date': '2025-02-02'}, excluded_embed_metadata_keys=['file_name', 'file_type', 'file_size', 'creation_date', 'last_modified_date', 'last_accessed_date'], excluded_llm_metadata_keys=['file_name', 'file_type', 'file_size', 'creation_date', 'last_modified_date', 'last_accessed_date'], relationships={<NodeRelationship.SOURCE: '1'>: RelatedNodeInfo(node_id='389a4f60-d557-4fe6-b618-faf1acdb4e88', node_type=<ObjectType.DOCUMENT: '4'>, metadata={'page_label': '21', 'file_name': 'deepseek-r1-paper.pdf', 'file_path': 'c:\\\\Users\\\\nazaizah\\\\OneDrive\\\\PycharmProjects\\\\rag-tutorial\\\\data\\\\deepseek-r1-paper.pdf', 'file_type': 'application/pdf', 'file_size': 1312189, 'creation_date': '2025-02-02', 'last_modified_date': '2025-02-02'}, hash='f09838bfbbe969d26194ec68c95c61c8a79903de0dc1e64f0ec7ed6b851c6837'), <NodeRelationship.NEXT: '3'>: RelatedNodeInfo(node_id='d9d24e73-3153-40ac-8327-37a4293bb503', node_type=<ObjectType.TEXT: '1'>, metadata={}, hash='3f120e6efc88aa377e6b810d599954b1d20755b7967fd42c37c84dd4db44879f')}, metadata_template='{key}: {value}', metadata_separator='\\n', text='Ruyi Chen\\nShanghao Lu\\nShangyan Zhou\\nShanhuang Chen\\nShengfeng Ye\\nShiyu Wang\\nShuiping Yu\\nShunfeng Zhou\\nShuting Pan\\nS.S. Li\\nShuang Zhou\\nShaoqing Wu\\nShengfeng Ye\\nTao Yun\\nTian Pei\\nTianyu Sun\\nT. Wang\\nWangding Zeng\\nWen Liu\\nWenfeng Liang\\nWenjun Gao\\nWenqin Yu*\\nWentao Zhang\\nW.L. Xiao\\nWei An\\nXiaodong Liu\\nXiaohan Wang\\nXiaokang Chen\\nXiaotao Nie\\nXin Cheng\\nXin Liu\\nXin Xie\\nXingchao Liu\\nXinyu Yang\\nXinyuan Li\\nXuecheng Su\\nXuheng Lin\\nX.Q. Li\\nXiangyue Jin\\nXiaojin Shen\\nXiaosha Chen\\nXiaowen Sun\\nXiaoxiang Wang\\nXinnan Song\\nXinyi Zhou\\nXianzu Wang\\nXinxia Shan\\nY.K. Li\\nY.Q. Wang\\nY.X. Wei\\nYang Zhang\\nYanhong Xu\\nYao Li\\nYao Zhao\\nYaofeng Sun\\nYaohui Wang\\nYi Yu\\nYichao Zhang\\nYifan Shi\\nYiliang Xiong\\nYing He\\nYishi Piao\\nYisong Wang\\nYixuan Tan\\nYiyang Ma*\\nYiyuan Liu\\nYongqiang Guo\\nYuan Ou\\nYuduan Wang\\nYue Gong\\nYuheng Zou\\nYujia He\\nYunfan Xiong\\nYuxiang Luo\\nYuxiang You\\nYuxuan Liu\\nYuyang Zhou\\nY.X. Zhu\\nYanping Huang\\nYaohui Li\\nYi Zheng\\nYuchen Zhu\\nYunxian Ma\\nYing Tang\\nYukun Zha\\nYuting Yan\\nZ.Z.', mimetype='text/plain', start_char_idx=0, end_char_idx=957, metadata_seperator='\\n', text_template='{metadata_str}\\n\\n{content}'),\n",
       " TextNode(id_='d9d24e73-3153-40ac-8327-37a4293bb503', embedding=None, metadata={'page_label': '21', 'file_name': 'deepseek-r1-paper.pdf', 'file_path': 'c:\\\\Users\\\\nazaizah\\\\OneDrive\\\\PycharmProjects\\\\rag-tutorial\\\\data\\\\deepseek-r1-paper.pdf', 'file_type': 'application/pdf', 'file_size': 1312189, 'creation_date': '2025-02-02', 'last_modified_date': '2025-02-02'}, excluded_embed_metadata_keys=['file_name', 'file_type', 'file_size', 'creation_date', 'last_modified_date', 'last_accessed_date'], excluded_llm_metadata_keys=['file_name', 'file_type', 'file_size', 'creation_date', 'last_modified_date', 'last_accessed_date'], relationships={<NodeRelationship.SOURCE: '1'>: RelatedNodeInfo(node_id='389a4f60-d557-4fe6-b618-faf1acdb4e88', node_type=<ObjectType.DOCUMENT: '4'>, metadata={'page_label': '21', 'file_name': 'deepseek-r1-paper.pdf', 'file_path': 'c:\\\\Users\\\\nazaizah\\\\OneDrive\\\\PycharmProjects\\\\rag-tutorial\\\\data\\\\deepseek-r1-paper.pdf', 'file_type': 'application/pdf', 'file_size': 1312189, 'creation_date': '2025-02-02', 'last_modified_date': '2025-02-02'}, hash='f09838bfbbe969d26194ec68c95c61c8a79903de0dc1e64f0ec7ed6b851c6837'), <NodeRelationship.PREVIOUS: '2'>: RelatedNodeInfo(node_id='76d302b5-622c-4e58-9683-149ffb4b215d', node_type=<ObjectType.TEXT: '1'>, metadata={'page_label': '21', 'file_name': 'deepseek-r1-paper.pdf', 'file_path': 'c:\\\\Users\\\\nazaizah\\\\OneDrive\\\\PycharmProjects\\\\rag-tutorial\\\\data\\\\deepseek-r1-paper.pdf', 'file_type': 'application/pdf', 'file_size': 1312189, 'creation_date': '2025-02-02', 'last_modified_date': '2025-02-02'}, hash='385b0ca0e97b68a8f5c14865fd38672223dadb8b125fa7742c84ab1a2e8a262f')}, metadata_template='{key}: {value}', metadata_separator='\\n', text='Zhu\\nYanping Huang\\nYaohui Li\\nYi Zheng\\nYuchen Zhu\\nYunxian Ma\\nYing Tang\\nYukun Zha\\nYuting Yan\\nZ.Z. Ren\\nZehui Ren\\nZhangli Sha\\nZhe Fu\\nZhean Xu\\nZhenda Xie\\nZhengyan Zhang\\nZhewen Hao\\nZhicheng Ma\\nZhigang Yan\\nZhiyu Wu\\nZihui Gu\\n21', mimetype='text/plain', start_char_idx=863, end_char_idx=1081, metadata_seperator='\\n', text_template='{metadata_str}\\n\\n{content}'),\n",
       " TextNode(id_='df5917f3-ac92-48c2-93d9-f97db2661ee2', embedding=None, metadata={'page_label': '22', 'file_name': 'deepseek-r1-paper.pdf', 'file_path': 'c:\\\\Users\\\\nazaizah\\\\OneDrive\\\\PycharmProjects\\\\rag-tutorial\\\\data\\\\deepseek-r1-paper.pdf', 'file_type': 'application/pdf', 'file_size': 1312189, 'creation_date': '2025-02-02', 'last_modified_date': '2025-02-02'}, excluded_embed_metadata_keys=['file_name', 'file_type', 'file_size', 'creation_date', 'last_modified_date', 'last_accessed_date'], excluded_llm_metadata_keys=['file_name', 'file_type', 'file_size', 'creation_date', 'last_modified_date', 'last_accessed_date'], relationships={<NodeRelationship.SOURCE: '1'>: RelatedNodeInfo(node_id='33449ab2-6d40-4983-89ba-96bbe1b61c71', node_type=<ObjectType.DOCUMENT: '4'>, metadata={'page_label': '22', 'file_name': 'deepseek-r1-paper.pdf', 'file_path': 'c:\\\\Users\\\\nazaizah\\\\OneDrive\\\\PycharmProjects\\\\rag-tutorial\\\\data\\\\deepseek-r1-paper.pdf', 'file_type': 'application/pdf', 'file_size': 1312189, 'creation_date': '2025-02-02', 'last_modified_date': '2025-02-02'}, hash='821fac542618973fae7e0698b6591669ef77e5fb72ca22d22b2b7eaf080d8823')}, metadata_template='{key}: {value}', metadata_separator='\\n', text='Zijia Zhu\\nZijun Liu*\\nZilin Li\\nZiwei Xie\\nZiyang Song\\nZizheng Pan\\nZhen Huang\\nZhipeng Xu\\nZhongyu Zhang\\nZhen Zhang\\nWithin each role, authors are listed alphabetically by the first name. Names marked with *\\ndenote individuals who have departed from our team.\\n22', mimetype='text/plain', start_char_idx=0, end_char_idx=256, metadata_seperator='\\n', text_template='{metadata_str}\\n\\n{content}')]"
      ]
     },
     "execution_count": 3,
     "metadata": {},
     "output_type": "execute_result"
    }
   ],
   "source": [
    "# initialize node parser\n",
    "splitter = SentenceSplitter(chunk_size=500, chunk_overlap=50)\n",
    "\n",
    "nodes = splitter.get_nodes_from_documents(documents)\n",
    "print(len(nodes))\n",
    "nodes"
   ]
  },
  {
   "cell_type": "code",
   "execution_count": null,
   "metadata": {},
   "outputs": [],
   "source": [
    "nodes[0].metadata"
   ]
  },
  {
   "cell_type": "markdown",
   "metadata": {},
   "source": [
    "Split with more metadata:"
   ]
  },
  {
   "cell_type": "code",
   "execution_count": null,
   "metadata": {},
   "outputs": [],
   "source": [
    "transformations = [\n",
    "    SentenceSplitter(chunk_size=500, chunk_overlap=50),\n",
    "    TitleExtractor(nodes=3),\n",
    "    # QuestionsAnsweredExtractor(questions=3),\n",
    "    # SummaryExtractor(summaries=[\"prev\", \"self\"]),\n",
    "    # KeywordExtractor(keywords=10),\n",
    "    # EntityExtractor(prediction_threshold=0.5),\n",
    "]\n",
    "pipeline = IngestionPipeline(transformations=transformations)\n",
    "\n",
    "advanced_nodes = pipeline.run(documents=documents)\n",
    "print(len(advanced_nodes))\n",
    "advanced_nodes"
   ]
  },
  {
   "cell_type": "code",
   "execution_count": null,
   "metadata": {},
   "outputs": [],
   "source": [
    "advanced_nodes[0].metadata"
   ]
  },
  {
   "cell_type": "code",
   "execution_count": null,
   "metadata": {},
   "outputs": [],
   "source": [
    "advanced_nodes[-1].metadata"
   ]
  },
  {
   "cell_type": "markdown",
   "metadata": {},
   "source": [
    "Question which we will use for the retrieve and query:"
   ]
  },
  {
   "cell_type": "code",
   "execution_count": 4,
   "metadata": {},
   "outputs": [
    {
     "data": {
      "text/plain": [
       "'which reinforcement learning algorithm used in the deepseek r1 training?'"
      ]
     },
     "execution_count": 4,
     "metadata": {},
     "output_type": "execute_result"
    }
   ],
   "source": [
    "question = \"which reinforcement learning algorithm used in the deepseek r1 training?\"\n",
    "# question = \"can you explain how deepseek r1 model was trained?\"\n",
    "# question = \"can you explain more about the cold start?\"\n",
    "# question = \"list all the unsuccessful attempts mentioned in the paper?\"\n",
    "question"
   ]
  },
  {
   "cell_type": "markdown",
   "metadata": {},
   "source": [
    "Key words search using BM25:"
   ]
  },
  {
   "cell_type": "code",
   "execution_count": 9,
   "metadata": {},
   "outputs": [
    {
     "data": {
      "text/plain": [
       "<llama_index.retrievers.bm25.base.BM25Retriever at 0x1e5cf7c7ed0>"
      ]
     },
     "execution_count": 9,
     "metadata": {},
     "output_type": "execute_result"
    }
   ],
   "source": [
    "# We can pass in the index, docstore, or list of nodes to create the retriever\n",
    "bm25_retriever = BM25Retriever.from_defaults(\n",
    "    nodes=nodes,  # advanced_nodes\n",
    "    similarity_top_k=10,\n",
    "    # Optional: We can pass in the stemmer and set the language for stopwords\n",
    "    # This is important for removing stopwords and stemming the query + text\n",
    "    # The default is english for both\n",
    "    stemmer=Stemmer.Stemmer(\"english\"),\n",
    "    language=\"english\",\n",
    ")\n",
    "bm25_retriever"
   ]
  },
  {
   "cell_type": "code",
   "execution_count": null,
   "metadata": {},
   "outputs": [],
   "source": [
    "# will retrieve context from specific companies\n",
    "bm25_retrieved_nodes = bm25_retriever.retrieve(question)\n",
    "for node in bm25_retrieved_nodes:\n",
    "    display_source_node(node, source_length=5000)"
   ]
  },
  {
   "cell_type": "code",
   "execution_count": null,
   "metadata": {},
   "outputs": [],
   "source": [
    "bm25_query_engine = RetrieverQueryEngine.from_args(bm25_retriever)\n",
    "\n",
    "response = bm25_query_engine.query(question)\n",
    "display_response(\n",
    "    response, source_length=5000, show_source=True, show_source_metadata=True\n",
    ")"
   ]
  },
  {
   "cell_type": "markdown",
   "metadata": {},
   "source": [
    "Vector Search:"
   ]
  },
  {
   "cell_type": "code",
   "execution_count": 10,
   "metadata": {},
   "outputs": [
    {
     "data": {
      "application/vnd.jupyter.widget-view+json": {
       "model_id": "cd0ecce247164b2db9e42b67114c338b",
       "version_major": 2,
       "version_minor": 0
      },
      "text/plain": [
       "Generating embeddings:   0%|          | 0/52 [00:00<?, ?it/s]"
      ]
     },
     "metadata": {},
     "output_type": "display_data"
    }
   ],
   "source": [
    "vector_store = LanceDBVectorStore(\n",
    "    uri=\"./lancedb\", mode=\"overwrite\", query_type=\"vector\"\n",
    ")\n",
    "storage_context = StorageContext.from_defaults(vector_store=vector_store)\n",
    "\n",
    "vector_index = VectorStoreIndex(\n",
    "    nodes=nodes, show_progress=True, storage_context=storage_context\n",
    ")\n",
    "# advanced_nodes\n",
    "# configure retriever\n",
    "vector_retriever = VectorIndexRetriever(\n",
    "    index=vector_index,\n",
    "    similarity_top_k=10,\n",
    ")"
   ]
  },
  {
   "cell_type": "code",
   "execution_count": null,
   "metadata": {},
   "outputs": [],
   "source": [
    "vector_retrieved_nodes = vector_retriever.retrieve(question)\n",
    "for node in vector_retrieved_nodes:\n",
    "    display_source_node(node, source_length=5000)"
   ]
  },
  {
   "cell_type": "code",
   "execution_count": 13,
   "metadata": {},
   "outputs": [
    {
     "data": {
      "text/markdown": [
       "**`Final Response:`** The specific reinforcement learning algorithm used in the training of DeepSeek-R1 is not explicitly mentioned. However, the training involves a large-scale reinforcement learning process that focuses on developing reasoning capabilities without relying on supervised fine-tuning as a preliminary step."
      ],
      "text/plain": [
       "<IPython.core.display.Markdown object>"
      ]
     },
     "metadata": {},
     "output_type": "display_data"
    },
    {
     "data": {
      "text/markdown": [
       "---"
      ],
      "text/plain": [
       "<IPython.core.display.Markdown object>"
      ]
     },
     "metadata": {},
     "output_type": "display_data"
    },
    {
     "data": {
      "text/markdown": [
       "**`Source Node 1/10`**"
      ],
      "text/plain": [
       "<IPython.core.display.Markdown object>"
      ]
     },
     "metadata": {},
     "output_type": "display_data"
    },
    {
     "data": {
      "text/markdown": [
       "**Node ID:** 922c0d5e-47e2-4c6c-98c7-3ffba9d9cab7<br>**Similarity:** 0.7797601819038391<br>**Text:** DeepSeek-R1: Incentivizing Reasoning Capability in LLMs via\n",
       "Reinforcement Learning\n",
       "DeepSeek-AI\n",
       "research@deepseek.com\n",
       "Abstract\n",
       "We introduce our first-generation reasoning models, DeepSeek-R1-Zero and DeepSeek-R1.\n",
       "DeepSeek-R1-Zero, a model trained via large-scale reinforcement learning (RL) without super-\n",
       "vised fine-tuning (SFT) as a preliminary step, demonstrates remarkable reasoning capabilities.\n",
       "Through RL, DeepSeek-R1-Zero naturally emerges with numerous powerful and intriguing\n",
       "reasoning behaviors. However, it encounters challenges such as poor readability, and language\n",
       "mixing. To address these issues and further enhance reasoning performance, we introduce\n",
       "DeepSeek-R1, which incorporates multi-stage training and cold-start data before RL. DeepSeek-\n",
       "R1 achieves performance comparable to OpenAI-o1-1217 on reasoning tasks. To support the\n",
       "research community, we open-source DeepSeek-R1-Zero, DeepSeek-R1, and six dense models\n",
       "(1.5B, 7B, 8B, 14B, 32B, 70B) distilled from DeepSeek-R1 based on Qwen and Llama.<br>**Metadata:** {'page_label': '1', 'file_name': 'deepseek-r1-paper.pdf', 'file_path': 'c:\\\\Users\\\\nazaizah\\\\OneDrive\\\\PycharmProjects\\\\rag-tutorial\\\\data\\\\deepseek-r1-paper.pdf', 'file_type': 'application/pdf', 'file_size': 1312189, 'creation_date': '2025-02-02', 'last_modified_date': '2025-02-02'}<br>"
      ],
      "text/plain": [
       "<IPython.core.display.Markdown object>"
      ]
     },
     "metadata": {},
     "output_type": "display_data"
    },
    {
     "data": {
      "text/markdown": [
       "---"
      ],
      "text/plain": [
       "<IPython.core.display.Markdown object>"
      ]
     },
     "metadata": {},
     "output_type": "display_data"
    },
    {
     "data": {
      "text/markdown": [
       "**`Source Node 2/10`**"
      ],
      "text/plain": [
       "<IPython.core.display.Markdown object>"
      ]
     },
     "metadata": {},
     "output_type": "display_data"
    },
    {
     "data": {
      "text/markdown": [
       "**Node ID:** b053e41f-1c8f-4c5c-8d21-6e76c81f8db2<br>**Similarity:** 0.7778250575065613<br>**Text:** • Others: DeepSeek-R1 also excels in a wide range of tasks, including creative writing,\n",
       "general question answering, editing, summarization, and more. It achieves an impressive\n",
       "length-controlled win-rate of 87.6% on AlpacaEval 2.0 and a win-rate of 92.3% on Are-\n",
       "naHard, showcasing its strong ability to intelligently handle non-exam-oriented queries.\n",
       "Additionally, DeepSeek-R1 demonstrates outstanding performance on tasks requiring\n",
       "long-context understanding, substantially outperforming DeepSeek-V3 on long-context\n",
       "benchmarks.\n",
       "2. Approach\n",
       "2.1. Overview\n",
       "Previous work has heavily relied on large amounts of supervised data to enhance model\n",
       "performance. In this study, we demonstrate that reasoning capabilities can be significantly\n",
       "improved through large-scale reinforcement learning (RL), even without using supervised\n",
       "fine-tuning (SFT) as a cold start. Furthermore, performance can be further enhanced with\n",
       "the inclusion of a small amount of cold-start data. In the following sections, we present: (1)\n",
       "DeepSeek-R1-Zero, which applies RL directly to the base model without any SFT data, and\n",
       "(2) DeepSeek-R1, which applies RL starting from a checkpoint fine-tuned with thousands of\n",
       "long Chain-of-Thought (CoT) examples. 3) Distill the reasoning capability from DeepSeek-R1 to\n",
       "small dense models.\n",
       "2.2. DeepSeek-R1-Zero: Reinforcement Learning on the Base Model\n",
       "Reinforcement learning has demonstrated significant effectiveness in reasoning tasks, as ev-\n",
       "idenced by our previous works (Shao et al., 2024; Wang et al., 2023). However, these works\n",
       "heavily depended on supervised data, which are time-intensive to gather. In this section, we\n",
       "explore the potential of LLMs to develop reasoning capabilities without any supervised data,\n",
       "focusing on their self-evolution through a pure reinforcement learning process. We start with a\n",
       "brief overview of our RL algorithm, followed by the presentation of some exciting results, and\n",
       "hope this provides the community with valuable insights.\n",
       "2.2.1.<br>**Metadata:** {'page_label': '5', 'file_name': 'deepseek-r1-paper.pdf', 'file_path': 'c:\\\\Users\\\\nazaizah\\\\OneDrive\\\\PycharmProjects\\\\rag-tutorial\\\\data\\\\deepseek-r1-paper.pdf', 'file_type': 'application/pdf', 'file_size': 1312189, 'creation_date': '2025-02-02', 'last_modified_date': '2025-02-02'}<br>"
      ],
      "text/plain": [
       "<IPython.core.display.Markdown object>"
      ]
     },
     "metadata": {},
     "output_type": "display_data"
    },
    {
     "data": {
      "text/markdown": [
       "---"
      ],
      "text/plain": [
       "<IPython.core.display.Markdown object>"
      ]
     },
     "metadata": {},
     "output_type": "display_data"
    },
    {
     "data": {
      "text/markdown": [
       "**`Source Node 3/10`**"
      ],
      "text/plain": [
       "<IPython.core.display.Markdown object>"
      ]
     },
     "metadata": {},
     "output_type": "display_data"
    },
    {
     "data": {
      "text/markdown": [
       "**Node ID:** 287e3fff-c1ac-473f-b040-e3d816d9e7f6<br>**Similarity:** 0.7666674852371216<br>**Text:** 1.1. Contributions\n",
       "Post-Training: Large-Scale Reinforcement Learning on the Base Model\n",
       "• We directly apply RL to the base model without relying on supervised fine-tuning (SFT) as\n",
       "a preliminary step. This approach allows the model to explore chain-of-thought (CoT) for\n",
       "solving complex problems, resulting in the development of DeepSeek-R1-Zero. DeepSeek-\n",
       "R1-Zero demonstrates capabilities such as self-verification, reflection, and generating\n",
       "long CoTs, marking a significant milestone for the research community. Notably, it is the\n",
       "first open research to validate that reasoning capabilities of LLMs can be incentivized\n",
       "purely through RL, without the need for SFT. This breakthrough paves the way for future\n",
       "advancements in this area.\n",
       "• We introduce our pipeline to develop DeepSeek-R1. The pipeline incorporates two RL\n",
       "stages aimed at discovering improved reasoning patterns and aligning with human pref-\n",
       "erences, as well as two SFT stages that serve as the seed for the model’s reasoning and\n",
       "non-reasoning capabilities. We believe the pipeline will benefit the industry by creating\n",
       "better models.\n",
       "Distillation: Smaller Models Can Be Powerful Too\n",
       "• We demonstrate that the reasoning patterns of larger models can be distilled into smaller\n",
       "models, resulting in better performance compared to the reasoning patterns discovered\n",
       "through RL on small models. The open source DeepSeek-R1, as well as its API, will benefit\n",
       "the research community to distill better smaller models in the future.\n",
       "• Using the reasoning data generated by DeepSeek-R1, we fine-tuned several dense models\n",
       "that are widely used in the research community. The evaluation results demonstrate that\n",
       "the distilled smaller dense models perform exceptionally well on benchmarks. DeepSeek-\n",
       "R1-Distill-Qwen-7B achieves 55.5% on AIME 2024, surpassing QwQ-32B-Preview.<br>**Metadata:** {'page_label': '4', 'file_name': 'deepseek-r1-paper.pdf', 'file_path': 'c:\\\\Users\\\\nazaizah\\\\OneDrive\\\\PycharmProjects\\\\rag-tutorial\\\\data\\\\deepseek-r1-paper.pdf', 'file_type': 'application/pdf', 'file_size': 1312189, 'creation_date': '2025-02-02', 'last_modified_date': '2025-02-02'}<br>"
      ],
      "text/plain": [
       "<IPython.core.display.Markdown object>"
      ]
     },
     "metadata": {},
     "output_type": "display_data"
    },
    {
     "data": {
      "text/markdown": [
       "---"
      ],
      "text/plain": [
       "<IPython.core.display.Markdown object>"
      ]
     },
     "metadata": {},
     "output_type": "display_data"
    },
    {
     "data": {
      "text/markdown": [
       "**`Source Node 4/10`**"
      ],
      "text/plain": [
       "<IPython.core.display.Markdown object>"
      ]
     },
     "metadata": {},
     "output_type": "display_data"
    },
    {
     "data": {
      "text/markdown": [
       "**Node ID:** baf92cb4-1436-4b7b-a743-1f3856dd369a<br>**Similarity:** 0.7655319571495056<br>**Text:** For education-oriented knowledge benchmarks such as MMLU, MMLU-Pro, and GPQA\n",
       "Diamond, DeepSeek-R1 demonstrates superior performance compared to DeepSeek-V3. This im-\n",
       "provement is primarily attributed to enhanced accuracy in STEM-related questions, where signif-\n",
       "icant gains are achieved through large-scale reinforcement learning. Additionally, DeepSeek-R1\n",
       "excels on FRAMES, a long-context-dependent QA task, showcasing its strong document analysis\n",
       "capabilities. This highlights the potential of reasoning models in AI-driven search and data\n",
       "analysis tasks. On the factual benchmark SimpleQA, DeepSeek-R1 outperforms DeepSeek-V3,\n",
       "demonstrating its capability in handling fact-based queries. A similar trend is observed where\n",
       "OpenAI-o1 surpasses GPT-4o on this benchmark. However, DeepSeek-R1 performs worse than\n",
       "DeepSeek-V3 on the Chinese SimpleQA benchmark, primarily due to its tendency to refuse\n",
       "answering certain queries after safety RL. Without safety RL, DeepSeek-R1 could achieve an\n",
       "accuracy of over 70%.\n",
       "DeepSeek-R1 also delivers impressive results on IF-Eval, a benchmark designed to assess a\n",
       "model’s ability to follow format instructions. These improvements can be linked to the inclusion\n",
       "of instruction-following data during the final stages of supervised fine-tuning (SFT) and RL\n",
       "training. Furthermore, remarkable performance is observed on AlpacaEval2.0 and ArenaHard,\n",
       "indicating DeepSeek-R1’s strengths in writing tasks and open-domain question answering. Its\n",
       "significant outperformance of DeepSeek-V3 underscores the generalization benefits of large-scale\n",
       "RL, which not only boosts reasoning capabilities but also improves performance across diverse\n",
       "domains. Moreover, the summary lengths generated by DeepSeek-R1 are concise, with an\n",
       "average of 689 tokens on ArenaHard and 2,218 characters on AlpacaEval 2.0. This indicates that\n",
       "13<br>**Metadata:** {'page_label': '13', 'file_name': 'deepseek-r1-paper.pdf', 'file_path': 'c:\\\\Users\\\\nazaizah\\\\OneDrive\\\\PycharmProjects\\\\rag-tutorial\\\\data\\\\deepseek-r1-paper.pdf', 'file_type': 'application/pdf', 'file_size': 1312189, 'creation_date': '2025-02-02', 'last_modified_date': '2025-02-02'}<br>"
      ],
      "text/plain": [
       "<IPython.core.display.Markdown object>"
      ]
     },
     "metadata": {},
     "output_type": "display_data"
    },
    {
     "data": {
      "text/markdown": [
       "---"
      ],
      "text/plain": [
       "<IPython.core.display.Markdown object>"
      ]
     },
     "metadata": {},
     "output_type": "display_data"
    },
    {
     "data": {
      "text/markdown": [
       "**`Source Node 5/10`**"
      ],
      "text/plain": [
       "<IPython.core.display.Markdown object>"
      ]
     },
     "metadata": {},
     "output_type": "display_data"
    },
    {
     "data": {
      "text/markdown": [
       "**Node ID:** ac6cd866-773a-45c7-998e-6a6f478ee8ef<br>**Similarity:** 0.7557617425918579<br>**Text:** DeepSeek-R1 avoids introducing length bias during GPT-based evaluations, further solidifying\n",
       "its robustness across multiple tasks.\n",
       "On math tasks, DeepSeek-R1 demonstrates performance on par with OpenAI-o1-1217,\n",
       "surpassing other models by a large margin. A similar trend is observed on coding algorithm\n",
       "tasks, such as LiveCodeBench and Codeforces, where reasoning-focused models dominate these\n",
       "benchmarks. On engineering-oriented coding tasks, OpenAI-o1-1217 outperforms DeepSeek-R1\n",
       "on Aider but achieves comparable performance on SWE Verified. We believe the engineering\n",
       "performance of DeepSeek-R1 will improve in the next version, as the amount of related RL\n",
       "training data currently remains very limited.\n",
       "3.2.<br>**Metadata:** {'page_label': '14', 'file_name': 'deepseek-r1-paper.pdf', 'file_path': 'c:\\\\Users\\\\nazaizah\\\\OneDrive\\\\PycharmProjects\\\\rag-tutorial\\\\data\\\\deepseek-r1-paper.pdf', 'file_type': 'application/pdf', 'file_size': 1312189, 'creation_date': '2025-02-02', 'last_modified_date': '2025-02-02'}<br>"
      ],
      "text/plain": [
       "<IPython.core.display.Markdown object>"
      ]
     },
     "metadata": {},
     "output_type": "display_data"
    },
    {
     "data": {
      "text/markdown": [
       "---"
      ],
      "text/plain": [
       "<IPython.core.display.Markdown object>"
      ]
     },
     "metadata": {},
     "output_type": "display_data"
    },
    {
     "data": {
      "text/markdown": [
       "**`Source Node 6/10`**"
      ],
      "text/plain": [
       "<IPython.core.display.Markdown object>"
      ]
     },
     "metadata": {},
     "output_type": "display_data"
    },
    {
     "data": {
      "text/markdown": [
       "**Node ID:** 04902f50-1607-422b-b1ed-4128773035d3<br>**Similarity:** 0.7528694868087769<br>**Text:** exponentially larger search space. To address this, we set a maximum extension limit for each\n",
       "node, but this can lead to the model getting stuck in local optima. Second, the value model\n",
       "directly influences the quality of generation since it guides each step of the search process.\n",
       "Training a fine-grained value model is inherently difficult, which makes it challenging for the\n",
       "model to iteratively improve. While AlphaGo’s core success relied on training a value model to\n",
       "progressively enhance its performance, this principle proves difficult to replicate in our setup\n",
       "due to the complexities of token generation.\n",
       "In conclusion, while MCTS can improve performance during inference when paired with a\n",
       "pre-trained value model, iteratively boosting model performance through self-search remains a\n",
       "significant challenge.\n",
       "5. Conclusion, Limitations, and Future Work\n",
       "In this work, we share our journey in enhancing model reasoning abilities through reinforcement\n",
       "learning. DeepSeek-R1-Zero represents a pure RL approach without relying on cold-start\n",
       "data, achieving strong performance across various tasks. DeepSeek-R1 is more powerful,\n",
       "leveraging cold-start data alongside iterative RL fine-tuning. Ultimately, DeepSeek-R1 achieves\n",
       "performance comparable to OpenAI-o1-1217 on a range of tasks.\n",
       "We further explore distillation the reasoning capability to small dense models. We use\n",
       "DeepSeek-R1 as the teacher model to generate 800K training samples, and fine-tune several small\n",
       "dense models. The results are promising: DeepSeek-R1-Distill-Qwen-1.5B outperforms GPT-4o\n",
       "and Claude-3.5-Sonnet on math benchmarks with 28.9% on AIME and 83.9% on MATH. Other\n",
       "dense models also achieve impressive results, significantly outperforming other instruction-\n",
       "tuned models based on the same underlying checkpoints.\n",
       "In the future, we plan to invest in research across the following directions for DeepSeek-R1.\n",
       "• General Capability:Currently, the capabilities of DeepSeek-R1 fall short of DeepSeek-V3\n",
       "in tasks such as function calling, multi-turn, complex role-playing, and JSON output.<br>**Metadata:** {'page_label': '16', 'file_name': 'deepseek-r1-paper.pdf', 'file_path': 'c:\\\\Users\\\\nazaizah\\\\OneDrive\\\\PycharmProjects\\\\rag-tutorial\\\\data\\\\deepseek-r1-paper.pdf', 'file_type': 'application/pdf', 'file_size': 1312189, 'creation_date': '2025-02-02', 'last_modified_date': '2025-02-02'}<br>"
      ],
      "text/plain": [
       "<IPython.core.display.Markdown object>"
      ]
     },
     "metadata": {},
     "output_type": "display_data"
    },
    {
     "data": {
      "text/markdown": [
       "---"
      ],
      "text/plain": [
       "<IPython.core.display.Markdown object>"
      ]
     },
     "metadata": {},
     "output_type": "display_data"
    },
    {
     "data": {
      "text/markdown": [
       "**`Source Node 7/10`**"
      ],
      "text/plain": [
       "<IPython.core.display.Markdown object>"
      ]
     },
     "metadata": {},
     "output_type": "display_data"
    },
    {
     "data": {
      "text/markdown": [
       "**Node ID:** 25130806-43f6-48ff-8d65-c85a57dca302<br>**Similarity:** 0.7498732209205627<br>**Text:** During training, DeepSeek-R1-Zero naturally emerged with numerous powerful and interesting\n",
       "reasoning behaviors. After thousands of RL steps, DeepSeek-R1-Zero exhibits super performance\n",
       "on reasoning benchmarks. For instance, the pass@1 score on AIME 2024 increases from 15.6% to\n",
       "71.0%, and with majority voting, the score further improves to 86.7%, matching the performance\n",
       "of OpenAI-o1-0912.\n",
       "However, DeepSeek-R1-Zero encounters challenges such as poor readability, and language\n",
       "mixing. To address these issues and further enhance reasoning performance, we introduce\n",
       "DeepSeek-R1, which incorporates a small amount of cold-start data and a multi-stage training\n",
       "pipeline. Specifically, we begin by collecting thousands of cold-start data to fine-tune the\n",
       "DeepSeek-V3-Base model. Following this, we perform reasoning-oriented RL like DeepSeek-R1-\n",
       "Zero. Upon nearing convergence in the RL process, we create new SFT data through rejection\n",
       "sampling on the RL checkpoint, combined with supervised data from DeepSeek-V3 in domains\n",
       "such as writing, factual QA, and self-cognition, and then retrain the DeepSeek-V3-Base model.\n",
       "After fine-tuning with the new data, the checkpoint undergoes an additional RL process, taking\n",
       "into account prompts from all scenarios. After these steps, we obtained a checkpoint referred to\n",
       "as DeepSeek-R1, which achieves performance on par with OpenAI-o1-1217.\n",
       "We further explore distillation from DeepSeek-R1 to smaller dense models. Using Qwen2.5-\n",
       "32B (Qwen, 2024b) as the base model, direct distillation from DeepSeek-R1 outperforms applying\n",
       "RL on it. This demonstrates that the reasoning patterns discovered by larger base models are cru-\n",
       "cial for improving reasoning capabilities. We open-source the distilled Qwen and Llama (Dubey\n",
       "et al., 2024) series.<br>**Metadata:** {'page_label': '3', 'file_name': 'deepseek-r1-paper.pdf', 'file_path': 'c:\\\\Users\\\\nazaizah\\\\OneDrive\\\\PycharmProjects\\\\rag-tutorial\\\\data\\\\deepseek-r1-paper.pdf', 'file_type': 'application/pdf', 'file_size': 1312189, 'creation_date': '2025-02-02', 'last_modified_date': '2025-02-02'}<br>"
      ],
      "text/plain": [
       "<IPython.core.display.Markdown object>"
      ]
     },
     "metadata": {},
     "output_type": "display_data"
    },
    {
     "data": {
      "text/markdown": [
       "---"
      ],
      "text/plain": [
       "<IPython.core.display.Markdown object>"
      ]
     },
     "metadata": {},
     "output_type": "display_data"
    },
    {
     "data": {
      "text/markdown": [
       "**`Source Node 8/10`**"
      ],
      "text/plain": [
       "<IPython.core.display.Markdown object>"
      ]
     },
     "metadata": {},
     "output_type": "display_data"
    },
    {
     "data": {
      "text/markdown": [
       "**Node ID:** a17b89a8-f937-47cc-9b45-f1ea6144b3c7<br>**Similarity:** 0.7496972680091858<br>**Text:** A conversation between User and Assistant. The user asks a question, and the Assistant solves it.\n",
       "The assistant first thinks about the reasoning process in the mind and then provides the user\n",
       "with the answer. The reasoning process and answer are enclosed within <think> </think> and\n",
       "<answer> </answer> tags, respectively, i.e., <think> reasoning process here </think>\n",
       "<answer> answer here </answer>. User: prompt. Assistant:\n",
       "Table 1 |Template for DeepSeek-R1-Zero. prompt will be replaced with the specific reasoning\n",
       "question during training.\n",
       "2.2.2. Reward Modeling\n",
       "The reward is the source of the training signal, which decides the optimization direction of RL.\n",
       "To train DeepSeek-R1-Zero, we adopt a rule-based reward system that mainly consists of two\n",
       "types of rewards:\n",
       "• Accuracy rewards: The accuracy reward model evaluates whether the response is correct.\n",
       "For example, in the case of math problems with deterministic results, the model is required\n",
       "to provide the final answer in a specified format (e.g., within a box), enabling reliable\n",
       "rule-based verification of correctness. Similarly, for LeetCode problems, a compiler can be\n",
       "used to generate feedback based on predefined test cases.\n",
       "• Format rewards: In addition to the accuracy reward model, we employ a format reward\n",
       "model that enforces the model to put its thinking process between ‘<think>’ and ‘</think>’\n",
       "tags.\n",
       "We do not apply the outcome or process neural reward model in developing DeepSeek-R1-Zero,\n",
       "because we find that the neural reward model may suffer from reward hacking in the large-scale\n",
       "reinforcement learning process, and retraining the reward model needs additional training\n",
       "resources and it complicates the whole training pipeline.\n",
       "2.2.3. Training Template\n",
       "To train DeepSeek-R1-Zero, we begin by designing a straightforward template that guides\n",
       "the base model to adhere to our specified instructions. As depicted in Table 1, this template\n",
       "requires DeepSeek-R1-Zero to first produce a reasoning process, followed by the final answer.<br>**Metadata:** {'page_label': '6', 'file_name': 'deepseek-r1-paper.pdf', 'file_path': 'c:\\\\Users\\\\nazaizah\\\\OneDrive\\\\PycharmProjects\\\\rag-tutorial\\\\data\\\\deepseek-r1-paper.pdf', 'file_type': 'application/pdf', 'file_size': 1312189, 'creation_date': '2025-02-02', 'last_modified_date': '2025-02-02'}<br>"
      ],
      "text/plain": [
       "<IPython.core.display.Markdown object>"
      ]
     },
     "metadata": {},
     "output_type": "display_data"
    },
    {
     "data": {
      "text/markdown": [
       "---"
      ],
      "text/plain": [
       "<IPython.core.display.Markdown object>"
      ]
     },
     "metadata": {},
     "output_type": "display_data"
    },
    {
     "data": {
      "text/markdown": [
       "**`Source Node 9/10`**"
      ],
      "text/plain": [
       "<IPython.core.display.Markdown object>"
      ]
     },
     "metadata": {},
     "output_type": "display_data"
    },
    {
     "data": {
      "text/markdown": [
       "**Node ID:** 0c3dc7ce-423c-4575-a667-265bccde7640<br>**Similarity:** 0.7488131523132324<br>**Text:** As depicted in Table 1, this template\n",
       "requires DeepSeek-R1-Zero to first produce a reasoning process, followed by the final answer.\n",
       "We intentionally limit our constraints to this structural format, avoiding any content-specific\n",
       "biases—such as mandating reflective reasoning or promoting particular problem-solving strate-\n",
       "gies—to ensure that we can accurately observe the model’s natural progression during the RL\n",
       "process.\n",
       "2.2.4. Performance, Self-evolution Process and Aha Moment of DeepSeek-R1-Zero\n",
       "Performance of DeepSeek-R1-Zero Figure 2 depicts the performance trajectory of DeepSeek-\n",
       "R1-Zero on the AIME 2024 benchmark throughout the RL training process. As illustrated,\n",
       "DeepSeek-R1-Zero demonstrates a steady and consistent enhancement in performance as the\n",
       "RL training advances. Notably, the average pass@1 score on AIME 2024 shows a significant\n",
       "increase, jumping from an initial 15.6% to an impressive 71.0%, reaching performance levels\n",
       "comparable to OpenAI-o1-0912. This significant improvement highlights the efficacy of our RL\n",
       "algorithm in optimizing the model’s performance over time.\n",
       "Table 2 provides a comparative analysis between DeepSeek-R1-Zero and OpenAI’s o1-0912\n",
       "models across a variety of reasoning-related benchmarks. The findings reveal that RL empowers\n",
       "6<br>**Metadata:** {'page_label': '6', 'file_name': 'deepseek-r1-paper.pdf', 'file_path': 'c:\\\\Users\\\\nazaizah\\\\OneDrive\\\\PycharmProjects\\\\rag-tutorial\\\\data\\\\deepseek-r1-paper.pdf', 'file_type': 'application/pdf', 'file_size': 1312189, 'creation_date': '2025-02-02', 'last_modified_date': '2025-02-02'}<br>"
      ],
      "text/plain": [
       "<IPython.core.display.Markdown object>"
      ]
     },
     "metadata": {},
     "output_type": "display_data"
    },
    {
     "data": {
      "text/markdown": [
       "---"
      ],
      "text/plain": [
       "<IPython.core.display.Markdown object>"
      ]
     },
     "metadata": {},
     "output_type": "display_data"
    },
    {
     "data": {
      "text/markdown": [
       "**`Source Node 10/10`**"
      ],
      "text/plain": [
       "<IPython.core.display.Markdown object>"
      ]
     },
     "metadata": {},
     "output_type": "display_data"
    },
    {
     "data": {
      "text/markdown": [
       "**Node ID:** 93bddeb7-c8c6-4c7b-8064-db6725ec69a3<br>**Similarity:** 0.7461886405944824<br>**Text:** Figure 3 |The average response length of DeepSeek-R1-Zero on the training set during the RL\n",
       "process. DeepSeek-R1-Zero naturally learns to solve reasoning tasks with more thinking time.\n",
       "ment throughout the training process. This improvement is not the result of external adjustments\n",
       "but rather an intrinsic development within the model. DeepSeek-R1-Zero naturally acquires the\n",
       "ability to solve increasingly complex reasoning tasks by leveraging extended test-time compu-\n",
       "tation. This computation ranges from generating hundreds to thousands of reasoning tokens,\n",
       "allowing the model to explore and refine its thought processes in greater depth.\n",
       "One of the most remarkable aspects of this self-evolution is the emergence of sophisticated\n",
       "behaviors as the test-time computation increases. Behaviors such as reflection—where the model\n",
       "revisits and reevaluates its previous steps—and the exploration of alternative approaches to\n",
       "problem-solving arise spontaneously. These behaviors are not explicitly programmed but instead\n",
       "emerge as a result of the model’s interaction with the reinforcement learning environment. This\n",
       "spontaneous development significantly enhances DeepSeek-R1-Zero’s reasoning capabilities,\n",
       "enabling it to tackle more challenging tasks with greater efficiency and accuracy.\n",
       "Aha Moment of DeepSeek-R1-ZeroA particularly intriguing phenomenon observed during\n",
       "the training of DeepSeek-R1-Zero is the occurrence of an “aha moment”. This moment, as\n",
       "illustrated in Table 3, occurs in an intermediate version of the model. During this phase,\n",
       "DeepSeek-R1-Zero learns to allocate more thinking time to a problem by reevaluating its initial\n",
       "approach. This behavior is not only a testament to the model’s growing reasoning abilities\n",
       "but also a captivating example of how reinforcement learning can lead to unexpected and\n",
       "sophisticated outcomes.\n",
       "This moment is not only an “aha moment” for the model but also for the researchers\n",
       "observing its behavior. It underscores the power and beauty of reinforcement learning: rather\n",
       "than explicitly teaching the model on how to solve a problem, we simply provide it with the\n",
       "right incentives, and it autonomously develops advanced problem-solving strategies.<br>**Metadata:** {'page_label': '8', 'file_name': 'deepseek-r1-paper.pdf', 'file_path': 'c:\\\\Users\\\\nazaizah\\\\OneDrive\\\\PycharmProjects\\\\rag-tutorial\\\\data\\\\deepseek-r1-paper.pdf', 'file_type': 'application/pdf', 'file_size': 1312189, 'creation_date': '2025-02-02', 'last_modified_date': '2025-02-02'}<br>"
      ],
      "text/plain": [
       "<IPython.core.display.Markdown object>"
      ]
     },
     "metadata": {},
     "output_type": "display_data"
    }
   ],
   "source": [
    "vector_query_engine = RetrieverQueryEngine.from_args(vector_retriever)\n",
    "\n",
    "response = vector_query_engine.query(question)\n",
    "display_response(\n",
    "    response, source_length=5000, show_source=True, show_source_metadata=True\n",
    ")"
   ]
  },
  {
   "cell_type": "markdown",
   "metadata": {},
   "source": [
    "Hybrid Search:"
   ]
  },
  {
   "cell_type": "code",
   "execution_count": 22,
   "metadata": {},
   "outputs": [],
   "source": [
    "hybrid_retriever = QueryFusionRetriever(\n",
    "    [vector_retriever, bm25_retriever],\n",
    "    similarity_top_k=10,\n",
    "    num_queries=1,  # set this to 1 to disable query generation\n",
    "    mode=\"reciprocal_rerank\",\n",
    "    use_async=False,\n",
    "    verbose=True,\n",
    ")"
   ]
  },
  {
   "cell_type": "code",
   "execution_count": null,
   "metadata": {},
   "outputs": [],
   "source": [
    "hybrid_retrieved_nodes = hybrid_retriever.retrieve(question)\n",
    "for node in hybrid_retrieved_nodes:\n",
    "    display_source_node(node, source_length=5000)"
   ]
  },
  {
   "cell_type": "code",
   "execution_count": 27,
   "metadata": {},
   "outputs": [],
   "source": [
    "question = \"can you list all the advantages of the deepseek r1 model over over models?\"\n",
    "\n",
    "question = \"can explain in detail about reward modeling in which part of the paper it was mentioned?\""
   ]
  },
  {
   "cell_type": "code",
   "execution_count": null,
   "metadata": {},
   "outputs": [],
   "source": [
    "hybrid_query_engine = RetrieverQueryEngine.from_args(hybrid_retriever)\n",
    "\n",
    "response = hybrid_query_engine.query(question)\n",
    "\n",
    "display_response(\n",
    "    response, source_length=5000, show_source=True, show_source_metadata=True\n",
    ")"
   ]
  },
  {
   "cell_type": "markdown",
   "metadata": {},
   "source": [
    "View Prompt:"
   ]
  },
  {
   "cell_type": "code",
   "execution_count": null,
   "metadata": {},
   "outputs": [],
   "source": [
    "# define prompt viewing function\n",
    "def display_prompt_dict(prompts_dict):\n",
    "    for k, p in prompts_dict.items():\n",
    "        text_md = f\"**Prompt Key**: {k}<br>\" f\"**Text:** <br>\"\n",
    "        display(Markdown(text_md))\n",
    "        print(p.get_template())\n",
    "        display(Markdown(\"<br><br>\"))\n",
    "\n",
    "\n",
    "prompts_dict = hybrid_query_engine.get_prompts()\n",
    "display_prompt_dict(prompts_dict)"
   ]
  },
  {
   "cell_type": "markdown",
   "metadata": {},
   "source": [
    "Links:"
   ]
  },
  {
   "cell_type": "markdown",
   "metadata": {},
   "source": [
    "https://arxiv.org/pdf/2501.12948\n",
    "\n",
    "https://docs.llamaindex.ai/en/v0.10.33/examples/vector_stores/SimpleIndexDemo/\n",
    "\n",
    "https://docs.llamaindex.ai/en/stable/examples/retrievers/bm25_retriever/\n",
    "\n",
    "https://docs.llamaindex.ai/en/stable/examples/retrievers/reciprocal_rerank_fusion/\n",
    "\n",
    "\n",
    "https://docs.llamaindex.ai/en/stable/module_guides/indexing/metadata_extraction/"
   ]
  },
  {
   "cell_type": "markdown",
   "metadata": {},
   "source": [
    "Advanced Links:"
   ]
  },
  {
   "cell_type": "markdown",
   "metadata": {},
   "source": [
    "https://docs.llamaindex.ai/en/stable/examples/retrievers/auto_merging_retriever/\n",
    "\n",
    "https://docs.llamaindex.ai/en/stable/examples/workflow/rag/"
   ]
  },
  {
   "cell_type": "markdown",
   "metadata": {},
   "source": [
    "Ollama:"
   ]
  },
  {
   "cell_type": "markdown",
   "metadata": {},
   "source": [
    "https://ollama.com/"
   ]
  }
 ],
 "metadata": {
  "kernelspec": {
   "display_name": "base",
   "language": "python",
   "name": "python3"
  },
  "language_info": {
   "codemirror_mode": {
    "name": "ipython",
    "version": 3
   },
   "file_extension": ".py",
   "mimetype": "text/x-python",
   "name": "python",
   "nbconvert_exporter": "python",
   "pygments_lexer": "ipython3",
   "version": "3.11.7"
  }
 },
 "nbformat": 4,
 "nbformat_minor": 2
}
